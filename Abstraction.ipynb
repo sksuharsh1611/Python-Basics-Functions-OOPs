{
 "cells": [
  {
   "cell_type": "code",
   "execution_count": 1,
   "id": "67560373-3390-41ee-94a0-188954425883",
   "metadata": {},
   "outputs": [],
   "source": [
    "# used in skeleton/blueprint of writing codes"
   ]
  },
  {
   "cell_type": "code",
   "execution_count": 3,
   "id": "6a459822-889e-40c1-b329-4d7b338ea6c5",
   "metadata": {},
   "outputs": [],
   "source": [
    "import abc\n",
    "class pwskills:\n",
    "    \n",
    "    @abc.abstractmethod\n",
    "    def stud_details(self):\n",
    "        pass\n",
    "    \n",
    "    @abc.abstractmethod\n",
    "    def stud_assignment(self):\n",
    "        pass\n",
    "    \n",
    "    @abc.abstractmethod\n",
    "    def stud_marks(self):\n",
    "        pass"
   ]
  },
  {
   "cell_type": "code",
   "execution_count": 4,
   "id": "c56bb008-b90e-44f4-ab7f-a59ec67bc1cc",
   "metadata": {},
   "outputs": [],
   "source": [
    "class stud_details(pwskills):\n",
    "    \n",
    "    def stud_details(self):\n",
    "        return \"This is method for taking student details\"\n",
    "    \n",
    "    def stud_assignment(self):\n",
    "        return \"This is a method for assgn details\""
   ]
  },
  {
   "cell_type": "code",
   "execution_count": 5,
   "id": "32d31915-5e4a-43b7-86b6-2b79d4fdd305",
   "metadata": {},
   "outputs": [],
   "source": [
    "class ds_masters(pwskills):\n",
    "    \n",
    "    def stud_details(self):\n",
    "        return \"This will return a stud details for DS masters\"\n",
    "    \n",
    "    def stud_assignment(self):\n",
    "        return \"This will return assgn details for DS Masters\""
   ]
  },
  {
   "cell_type": "code",
   "execution_count": 6,
   "id": "1877d775-fe03-477e-a5f9-2bd978238995",
   "metadata": {},
   "outputs": [
    {
     "data": {
      "text/plain": [
       "'This will return a stud details for DS masters'"
      ]
     },
     "execution_count": 6,
     "metadata": {},
     "output_type": "execute_result"
    }
   ],
   "source": [
    "dsm = ds_masters()\n",
    "dsm.stud_details()"
   ]
  },
  {
   "cell_type": "code",
   "execution_count": 7,
   "id": "07605717-9758-464f-9c86-881d7ba611a8",
   "metadata": {},
   "outputs": [
    {
     "data": {
      "text/plain": [
       "'This is method for taking student details'"
      ]
     },
     "execution_count": 7,
     "metadata": {},
     "output_type": "execute_result"
    }
   ],
   "source": [
    "sd = stud_details()\n",
    "sd.stud_details()"
   ]
  },
  {
   "cell_type": "code",
   "execution_count": 8,
   "id": "2de621ea-1628-4227-b97c-6b5bf14dbed8",
   "metadata": {},
   "outputs": [],
   "source": [
    "# # Creating a class method and use same function name as per user requirements\n",
    "\n",
    "# example: Project Lead created Blueprint/structure of a class and several methods\n",
    "# Told employees to use same methods in their own way for implementing diffrent logics"
   ]
  },
  {
   "cell_type": "code",
   "execution_count": null,
   "id": "6a82d170-6ea3-44b8-b013-25bef1fb5872",
   "metadata": {},
   "outputs": [],
   "source": []
  }
 ],
 "metadata": {
  "kernelspec": {
   "display_name": "Python 3 (ipykernel)",
   "language": "python",
   "name": "python3"
  },
  "language_info": {
   "codemirror_mode": {
    "name": "ipython",
    "version": 3
   },
   "file_extension": ".py",
   "mimetype": "text/x-python",
   "name": "python",
   "nbconvert_exporter": "python",
   "pygments_lexer": "ipython3",
   "version": "3.10.8"
  }
 },
 "nbformat": 4,
 "nbformat_minor": 5
}
