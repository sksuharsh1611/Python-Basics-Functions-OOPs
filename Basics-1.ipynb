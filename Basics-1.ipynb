{
 "cells": [
  {
   "cell_type": "code",
   "execution_count": 3,
   "id": "0449853b-1d73-4eba-925e-4c1c3c3d3fd5",
   "metadata": {},
   "outputs": [
    {
     "data": {
      "text/plain": [
       "30"
      ]
     },
     "execution_count": 3,
     "metadata": {},
     "output_type": "execute_result"
    }
   ],
   "source": [
    "1+1+4*7"
   ]
  },
  {
   "cell_type": "code",
   "execution_count": 23,
   "id": "ba99f3f0-9f62-4a94-aebf-f2a3594b4f57",
   "metadata": {},
   "outputs": [
    {
     "name": "stdout",
     "output_type": "stream",
     "text": [
      "appleapple\n",
      "<class 'int'>\n"
     ]
    }
   ],
   "source": [
    "a=2\n",
    "'''a=12\n",
    "a=13'''\n",
    "b='apple'\n",
    "print(a*b)\n",
    "type(a)\n",
    "print (type(a))"
   ]
  },
  {
   "cell_type": "code",
   "execution_count": 24,
   "id": "d38c66e4-8746-43a6-ab32-3d88e51f2775",
   "metadata": {},
   "outputs": [
    {
     "name": "stdout",
     "output_type": "stream",
     "text": [
      "<class 'int'>\n"
     ]
    }
   ],
   "source": [
    "#a=b\n",
    "print (type(a))"
   ]
  },
  {
   "cell_type": "code",
   "execution_count": 27,
   "id": "1052d9a7-e49d-4485-8d9d-d923c97074b8",
   "metadata": {},
   "outputs": [
    {
     "data": {
      "text/plain": [
       "float"
      ]
     },
     "execution_count": 27,
     "metadata": {},
     "output_type": "execute_result"
    }
   ],
   "source": [
    "c=4.60\n",
    "type(c)"
   ]
  },
  {
   "cell_type": "code",
   "execution_count": 38,
   "id": "38b5bf69-b2d5-43e9-ac86-a551cd387bae",
   "metadata": {},
   "outputs": [
    {
     "name": "stdout",
     "output_type": "stream",
     "text": [
      "['susus', 'ksksj', \"'hushuh'\", True]\n"
     ]
    }
   ],
   "source": [
    "s=['susus',\"ksksj\",\"'hushuh'\"]\n",
    "#type(s)\n",
    "#print(s[0+1])\n",
    "a=True\n",
    "type(a)\n",
    "s.append(a)\n",
    "print(s)"
   ]
  },
  {
   "cell_type": "code",
   "execution_count": 43,
   "id": "5fd0dabc-c04a-4162-b296-ec997fa016e5",
   "metadata": {},
   "outputs": [
    {
     "data": {
      "text/plain": [
       "(1, 0)"
      ]
     },
     "execution_count": 43,
     "metadata": {},
     "output_type": "execute_result"
    }
   ],
   "source": [
    "a=True\n",
    "b=False\n",
    "a+b,a*b"
   ]
  },
  {
   "cell_type": "code",
   "execution_count": 44,
   "id": "94fdad50-8258-4670-b4f6-2f8238795703",
   "metadata": {},
   "outputs": [
    {
     "data": {
      "text/plain": [
       "1"
      ]
     },
     "execution_count": 44,
     "metadata": {},
     "output_type": "execute_result"
    }
   ],
   "source": [
    "True*True"
   ]
  },
  {
   "cell_type": "code",
   "execution_count": 45,
   "id": "06943f96-32db-4902-8412-d3786daecf28",
   "metadata": {},
   "outputs": [
    {
     "data": {
      "text/plain": [
       "0"
      ]
     },
     "execution_count": 45,
     "metadata": {},
     "output_type": "execute_result"
    }
   ],
   "source": [
    "False * False"
   ]
  },
  {
   "cell_type": "code",
   "execution_count": 46,
   "id": "fa403d07-1e32-4d3a-825d-fb232aab811a",
   "metadata": {},
   "outputs": [
    {
     "data": {
      "text/plain": [
       "1"
      ]
     },
     "execution_count": 46,
     "metadata": {},
     "output_type": "execute_result"
    }
   ],
   "source": [
    "a*a"
   ]
  },
  {
   "cell_type": "code",
   "execution_count": 52,
   "id": "f4580e74-1b2e-4108-981f-eb1f73646c4b",
   "metadata": {},
   "outputs": [
    {
     "data": {
      "text/plain": [
       "'ab'"
      ]
     },
     "execution_count": 52,
     "metadata": {},
     "output_type": "execute_result"
    }
   ],
   "source": [
    "'a'+'b'"
   ]
  },
  {
   "cell_type": "code",
   "execution_count": 53,
   "id": "7a3c06c3-a305-45d1-9046-ebe58fbed846",
   "metadata": {},
   "outputs": [
    {
     "data": {
      "text/plain": [
       "1"
      ]
     },
     "execution_count": 53,
     "metadata": {},
     "output_type": "execute_result"
    }
   ],
   "source": [
    "a-b"
   ]
  },
  {
   "cell_type": "code",
   "execution_count": 54,
   "id": "df8a99e2-e4ea-4a75-beb9-ce09be63547a",
   "metadata": {},
   "outputs": [
    {
     "data": {
      "text/plain": [
       "-1"
      ]
     },
     "execution_count": 54,
     "metadata": {},
     "output_type": "execute_result"
    }
   ],
   "source": [
    "b-a"
   ]
  },
  {
   "cell_type": "code",
   "execution_count": 55,
   "id": "eb46ab09-729d-4546-829c-9a02dec2ad59",
   "metadata": {},
   "outputs": [
    {
     "data": {
      "text/plain": [
       "3"
      ]
     },
     "execution_count": 55,
     "metadata": {},
     "output_type": "execute_result"
    }
   ],
   "source": [
    "a+a+a+-b"
   ]
  },
  {
   "cell_type": "code",
   "execution_count": 61,
   "id": "fce74e39-d305-4588-a843-44727d73d772",
   "metadata": {},
   "outputs": [
    {
     "data": {
      "text/plain": [
       "complex"
      ]
     },
     "execution_count": 61,
     "metadata": {},
     "output_type": "execute_result"
    }
   ],
   "source": [
    "a= 5 + 7j\n",
    "type(a)"
   ]
  },
  {
   "cell_type": "code",
   "execution_count": 70,
   "id": "08876e8e-b095-47e6-bbff-be6d2786cf5d",
   "metadata": {},
   "outputs": [
    {
     "data": {
      "text/plain": [
       "(5+7j)"
      ]
     },
     "execution_count": 70,
     "metadata": {},
     "output_type": "execute_result"
    }
   ],
   "source": [
    "a.real\n",
    "a"
   ]
  },
  {
   "cell_type": "code",
   "execution_count": 65,
   "id": "bd753faa-3d3f-4663-bbac-e92e9057705a",
   "metadata": {},
   "outputs": [
    {
     "data": {
      "text/plain": [
       "7.0"
      ]
     },
     "execution_count": 65,
     "metadata": {},
     "output_type": "execute_result"
    }
   ],
   "source": [
    "a.imag"
   ]
  },
  {
   "cell_type": "code",
   "execution_count": 88,
   "id": "81741775-9d11-4b99-baba-a527816e44a4",
   "metadata": {},
   "outputs": [],
   "source": [
    "a=\"suharsh\""
   ]
  },
  {
   "cell_type": "code",
   "execution_count": 114,
   "id": "dd0fc750-a6d3-4f59-9828-ccf6dc61d7a8",
   "metadata": {},
   "outputs": [
    {
     "name": "stdout",
     "output_type": "stream",
     "text": [
      "sah\n",
      "sah\n"
     ]
    }
   ],
   "source": [
    "print(a[0:7:3])\n",
    "print(a[::3])"
   ]
  },
  {
   "cell_type": "code",
   "execution_count": 119,
   "id": "d8d0c191-c0d3-43f1-8597-324d681da2c6",
   "metadata": {},
   "outputs": [
    {
     "name": "stdout",
     "output_type": "stream",
     "text": [
      "sah\n",
      "harsh\n"
     ]
    }
   ],
   "source": [
    "print(a[0:7:3])\n",
    "print(a[2::1])"
   ]
  },
  {
   "cell_type": "code",
   "execution_count": 121,
   "id": "a583c780-0620-4897-9804-613dbb1bee0c",
   "metadata": {},
   "outputs": [
    {
     "name": "stdout",
     "output_type": "stream",
     "text": [
      "hsrahus\n"
     ]
    }
   ],
   "source": [
    "print(a[::-1])"
   ]
  },
  {
   "cell_type": "code",
   "execution_count": 125,
   "id": "83e1237d-1e79-4530-a732-d3bae3b0ed12",
   "metadata": {},
   "outputs": [
    {
     "name": "stdout",
     "output_type": "stream",
     "text": [
      "\n"
     ]
    }
   ],
   "source": [
    "print(a[2:7:-1])"
   ]
  },
  {
   "cell_type": "code",
   "execution_count": 130,
   "id": "31d210d4-3ff3-4124-9b98-6e0a414bc9a0",
   "metadata": {},
   "outputs": [
    {
     "data": {
      "text/plain": [
       "''"
      ]
     },
     "execution_count": 130,
     "metadata": {},
     "output_type": "execute_result"
    }
   ],
   "source": [
    "a[7:0]"
   ]
  },
  {
   "cell_type": "code",
   "execution_count": 133,
   "id": "70846853-2921-4514-9c65-b1ee7f19b68a",
   "metadata": {},
   "outputs": [
    {
     "data": {
      "text/plain": [
       "'hsrahu'"
      ]
     },
     "execution_count": 133,
     "metadata": {},
     "output_type": "execute_result"
    }
   ],
   "source": [
    "a[7:0:-1]"
   ]
  },
  {
   "cell_type": "code",
   "execution_count": 140,
   "id": "4412adab-b378-491a-9be4-31f0705f595a",
   "metadata": {},
   "outputs": [
    {
     "data": {
      "text/plain": [
       "''"
      ]
     },
     "execution_count": 140,
     "metadata": {},
     "output_type": "execute_result"
    }
   ],
   "source": [
    "a[-2:-8:1]"
   ]
  },
  {
   "cell_type": "code",
   "execution_count": 141,
   "id": "019eda73-92ba-4b7e-803a-1fa08864a354",
   "metadata": {},
   "outputs": [
    {
     "data": {
      "text/plain": [
       "'s'"
      ]
     },
     "execution_count": 141,
     "metadata": {},
     "output_type": "execute_result"
    }
   ],
   "source": [
    "a[-2:-8:1]+a[5]"
   ]
  },
  {
   "cell_type": "code",
   "execution_count": 142,
   "id": "4d817ddb-0430-4ca0-b0d8-91d9e58041bd",
   "metadata": {},
   "outputs": [
    {
     "data": {
      "text/plain": [
       "'suharshhsrahus'"
      ]
     },
     "execution_count": 142,
     "metadata": {},
     "output_type": "execute_result"
    }
   ],
   "source": [
    "a[::1]+a[::-1]"
   ]
  },
  {
   "cell_type": "code",
   "execution_count": 143,
   "id": "81c193cd-af65-4ef3-972c-2de60717c09c",
   "metadata": {},
   "outputs": [
    {
     "data": {
      "text/plain": [
       "''"
      ]
     },
     "execution_count": 143,
     "metadata": {},
     "output_type": "execute_result"
    }
   ],
   "source": [
    "a[:-50:]"
   ]
  },
  {
   "cell_type": "code",
   "execution_count": 144,
   "id": "fbcaa8f7-cfa7-4a66-a2f5-a2231ab3083a",
   "metadata": {},
   "outputs": [
    {
     "data": {
      "text/plain": [
       "'hsrahus'"
      ]
     },
     "execution_count": 144,
     "metadata": {},
     "output_type": "execute_result"
    }
   ],
   "source": [
    "a[:-900:-1]"
   ]
  },
  {
   "cell_type": "code",
   "execution_count": 145,
   "id": "27116a36-c2b6-4909-b2e0-afcc141d6f54",
   "metadata": {},
   "outputs": [],
   "source": [
    "b=500"
   ]
  },
  {
   "cell_type": "code",
   "execution_count": 146,
   "id": "d0c41035-0ea8-4fdf-b5e1-e826a926b868",
   "metadata": {},
   "outputs": [],
   "source": [
    "c=\"this is my first python code\""
   ]
  },
  {
   "cell_type": "code",
   "execution_count": 147,
   "id": "8b5a71c6-c98d-46d6-a71a-c9bd25af4bc9",
   "metadata": {},
   "outputs": [
    {
     "data": {
      "text/plain": [
       "28"
      ]
     },
     "execution_count": 147,
     "metadata": {},
     "output_type": "execute_result"
    }
   ],
   "source": [
    "len(c)"
   ]
  },
  {
   "cell_type": "code",
   "execution_count": 148,
   "id": "2e7dbd81-ba6a-4b6c-a7c3-dc7b4c0b5b51",
   "metadata": {},
   "outputs": [
    {
     "data": {
      "text/plain": [
       "3"
      ]
     },
     "execution_count": 148,
     "metadata": {},
     "output_type": "execute_result"
    }
   ],
   "source": [
    "c.find('s')"
   ]
  },
  {
   "cell_type": "code",
   "execution_count": 151,
   "id": "435cb763-787f-4624-94bd-203e67f403cf",
   "metadata": {},
   "outputs": [
    {
     "data": {
      "text/plain": [
       "17"
      ]
     },
     "execution_count": 151,
     "metadata": {},
     "output_type": "execute_result"
    }
   ],
   "source": [
    "c.find('p') #give position of first occurence of letter"
   ]
  },
  {
   "cell_type": "code",
   "execution_count": 154,
   "id": "3df04010-b603-4e55-ad6f-85f2c0fae85e",
   "metadata": {},
   "outputs": [
    {
     "data": {
      "text/plain": [
       "2"
      ]
     },
     "execution_count": 154,
     "metadata": {},
     "output_type": "execute_result"
    }
   ],
   "source": [
    "c.find(\"is\") #gives position of substring"
   ]
  },
  {
   "cell_type": "code",
   "execution_count": 156,
   "id": "2fc46e27-dfea-49fb-845b-592750a893f3",
   "metadata": {},
   "outputs": [
    {
     "data": {
      "text/plain": [
       "-1"
      ]
     },
     "execution_count": 156,
     "metadata": {},
     "output_type": "execute_result"
    }
   ],
   "source": [
    "c.find(\"iS\") #Case sensitive :Gives -1 always whenever unable to find"
   ]
  },
  {
   "cell_type": "code",
   "execution_count": 162,
   "id": "20aafe3d-4833-4929-b843-c1a82bbccf0a",
   "metadata": {},
   "outputs": [
    {
     "data": {
      "text/plain": [
       "-1"
      ]
     },
     "execution_count": 162,
     "metadata": {},
     "output_type": "execute_result"
    }
   ],
   "source": [
    "c. #variable{.} then press Tab for look for functions"
   ]
  },
  {
   "cell_type": "code",
   "execution_count": 163,
   "id": "8dc1186a-a964-4d9c-aa81-5b427a30f216",
   "metadata": {},
   "outputs": [
    {
     "data": {
      "text/plain": [
       "(2, 3, 2)"
      ]
     },
     "execution_count": 163,
     "metadata": {},
     "output_type": "execute_result"
    }
   ],
   "source": [
    "c.count(\"is\"),c.count('s'),c.count('h')"
   ]
  },
  {
   "cell_type": "code",
   "execution_count": 165,
   "id": "9cac72fe-36cc-410e-8c1b-83aaa89f8b7b",
   "metadata": {},
   "outputs": [
    {
     "data": {
      "text/plain": [
       "'THIS IS MY FIRST PYTHON CODE'"
      ]
     },
     "execution_count": 165,
     "metadata": {},
     "output_type": "execute_result"
    }
   ],
   "source": [
    "c.upper()"
   ]
  },
  {
   "cell_type": "code",
   "execution_count": 166,
   "id": "90596791-7bed-4544-8767-ea24d596f051",
   "metadata": {},
   "outputs": [
    {
     "data": {
      "text/plain": [
       "False"
      ]
     },
     "execution_count": 166,
     "metadata": {},
     "output_type": "execute_result"
    }
   ],
   "source": [
    "c.isupper()"
   ]
  },
  {
   "cell_type": "code",
   "execution_count": 167,
   "id": "7ce3146d-5ebc-47c4-b361-01f2e5e55ea6",
   "metadata": {},
   "outputs": [
    {
     "data": {
      "text/plain": [
       "'this is my first python code'"
      ]
     },
     "execution_count": 167,
     "metadata": {},
     "output_type": "execute_result"
    }
   ],
   "source": [
    "d='THIS IS MY FIRST PYTHON CODE'\n",
    "d.lower()"
   ]
  },
  {
   "cell_type": "code",
   "execution_count": 168,
   "id": "cd970dd1-dc8b-475a-9841-54a6556c2ca2",
   "metadata": {},
   "outputs": [
    {
     "data": {
      "text/plain": [
       "'this is my first python code'"
      ]
     },
     "execution_count": 168,
     "metadata": {},
     "output_type": "execute_result"
    }
   ],
   "source": [
    "c"
   ]
  },
  {
   "cell_type": "code",
   "execution_count": 169,
   "id": "50656bd7-62ee-42dc-9fe9-e69eadfad50b",
   "metadata": {},
   "outputs": [
    {
     "data": {
      "text/plain": [
       "'This Is My First Python Code'"
      ]
     },
     "execution_count": 169,
     "metadata": {},
     "output_type": "execute_result"
    }
   ],
   "source": [
    "c.title() #To camelcase whole string"
   ]
  },
  {
   "cell_type": "code",
   "execution_count": 170,
   "id": "6b1c767e-29c5-49dd-8e03-041a0ce3b85e",
   "metadata": {},
   "outputs": [
    {
     "data": {
      "text/plain": [
       "'This is my first python code'"
      ]
     },
     "execution_count": 170,
     "metadata": {},
     "output_type": "execute_result"
    }
   ],
   "source": [
    "c.capitalize() #To Capitalize first letter of string"
   ]
  },
  {
   "cell_type": "code",
   "execution_count": 171,
   "id": "1d10cac9-b708-4b4b-b560-7d4ac023f20e",
   "metadata": {},
   "outputs": [
    {
     "data": {
      "text/plain": [
       "'suharsh'"
      ]
     },
     "execution_count": 171,
     "metadata": {},
     "output_type": "execute_result"
    }
   ],
   "source": [
    "a"
   ]
  },
  {
   "cell_type": "code",
   "execution_count": 175,
   "id": "806a6da8-5c32-409d-b72c-4089a9ca8c34",
   "metadata": {},
   "outputs": [
    {
     "ename": "TypeError",
     "evalue": "can only concatenate str (not \"int\") to str",
     "output_type": "error",
     "traceback": [
      "\u001b[0;31m---------------------------------------------------------------------------\u001b[0m",
      "\u001b[0;31mTypeError\u001b[0m                                 Traceback (most recent call last)",
      "Cell \u001b[0;32mIn[175], line 1\u001b[0m\n\u001b[0;32m----> 1\u001b[0m \u001b[43ma\u001b[49m\u001b[38;5;241;43m+\u001b[39;49m\u001b[38;5;241;43m1\u001b[39;49m \n",
      "\u001b[0;31mTypeError\u001b[0m: can only concatenate str (not \"int\") to str"
     ]
    }
   ],
   "source": [
    "a+1 #string + int = Not possible ; >Solution : TypeCasting"
   ]
  },
  {
   "cell_type": "code",
   "execution_count": 176,
   "id": "4552d7b2-d284-45a7-a8b2-d6b2b5034e09",
   "metadata": {},
   "outputs": [
    {
     "data": {
      "text/plain": [
       "'suharsh kumar'"
      ]
     },
     "execution_count": 176,
     "metadata": {},
     "output_type": "execute_result"
    }
   ],
   "source": [
    "a+ \" kumar\""
   ]
  },
  {
   "cell_type": "code",
   "execution_count": 177,
   "id": "f00e0099-eebc-4f12-8434-796afec98fb3",
   "metadata": {},
   "outputs": [
    {
     "data": {
      "text/plain": [
       "'suharsh1'"
      ]
     },
     "execution_count": 177,
     "metadata": {},
     "output_type": "execute_result"
    }
   ],
   "source": [
    "a+str(1) #Typecasting example"
   ]
  },
  {
   "cell_type": "code",
   "execution_count": 178,
   "id": "2d9149f0-1ba2-41e8-b0f9-1781c3f5346f",
   "metadata": {},
   "outputs": [
    {
     "data": {
      "text/plain": [
       "'suharshsuharshsuharsh'"
      ]
     },
     "execution_count": 178,
     "metadata": {},
     "output_type": "execute_result"
    }
   ],
   "source": [
    "a*3"
   ]
  },
  {
   "cell_type": "code",
   "execution_count": 179,
   "id": "959c6b6f-f40f-4795-8b52-ffef6e24fe05",
   "metadata": {},
   "outputs": [
    {
     "ename": "SyntaxError",
     "evalue": "unterminated string literal (detected at line 1) (1234197970.py, line 1)",
     "output_type": "error",
     "traceback": [
      "\u001b[0;36m  Cell \u001b[0;32mIn[179], line 1\u001b[0;36m\u001b[0m\n\u001b[0;31m    'don't run'\u001b[0m\n\u001b[0m              ^\u001b[0m\n\u001b[0;31mSyntaxError\u001b[0m\u001b[0;31m:\u001b[0m unterminated string literal (detected at line 1)\n"
     ]
    }
   ],
   "source": [
    "'don't run'"
   ]
  },
  {
   "cell_type": "code",
   "execution_count": 182,
   "id": "8d7c8029-3b67-4431-b7be-dd5cc54d4528",
   "metadata": {},
   "outputs": [
    {
     "data": {
      "text/plain": [
       "\"don't run\""
      ]
     },
     "execution_count": 182,
     "metadata": {},
     "output_type": "execute_result"
    }
   ],
   "source": [
    "\"don't run\""
   ]
  },
  {
   "cell_type": "code",
   "execution_count": 183,
   "id": "76731f20-fe70-4824-9eb9-3f75c3fd8e55",
   "metadata": {},
   "outputs": [
    {
     "ename": "SyntaxError",
     "evalue": "unterminated string literal (detected at line 1) (1111051660.py, line 1)",
     "output_type": "error",
     "traceback": [
      "\u001b[0;36m  Cell \u001b[0;32mIn[183], line 1\u001b[0;36m\u001b[0m\n\u001b[0;31m    \"\"don't run\"\"\u001b[0m\n\u001b[0m         ^\u001b[0m\n\u001b[0;31mSyntaxError\u001b[0m\u001b[0;31m:\u001b[0m unterminated string literal (detected at line 1)\n"
     ]
    }
   ],
   "source": [
    "\"\"don't run\"\""
   ]
  },
  {
   "cell_type": "code",
   "execution_count": 184,
   "id": "337abbad-5e8d-4253-a1f9-0118e383aedf",
   "metadata": {},
   "outputs": [
    {
     "ename": "SyntaxError",
     "evalue": "unterminated string literal (detected at line 1) (1014999304.py, line 1)",
     "output_type": "error",
     "traceback": [
      "\u001b[0;36m  Cell \u001b[0;32mIn[184], line 1\u001b[0;36m\u001b[0m\n\u001b[0;31m    '\"don't run\"'\u001b[0m\n\u001b[0m               ^\u001b[0m\n\u001b[0;31mSyntaxError\u001b[0m\u001b[0;31m:\u001b[0m unterminated string literal (detected at line 1)\n"
     ]
    }
   ],
   "source": [
    "'\"don't run\"'"
   ]
  },
  {
   "cell_type": "code",
   "execution_count": 185,
   "id": "b5e0c8ac-37d3-4949-9b02-eb6b2a46c356",
   "metadata": {},
   "outputs": [
    {
     "data": {
      "text/plain": [
       "\"'don't run\""
      ]
     },
     "execution_count": 185,
     "metadata": {},
     "output_type": "execute_result"
    }
   ],
   "source": [
    "\"'don't run\""
   ]
  },
  {
   "cell_type": "code",
   "execution_count": 186,
   "id": "bb7eaa7d-6912-4c88-b289-0c1791478631",
   "metadata": {},
   "outputs": [
    {
     "data": {
      "text/plain": [
       "1"
      ]
     },
     "execution_count": 186,
     "metadata": {},
     "output_type": "execute_result"
    }
   ],
   "source": [
    "1"
   ]
  },
  {
   "cell_type": "code",
   "execution_count": 187,
   "id": "f3f27fb2-623f-432d-bf1e-cb9ec31ca70a",
   "metadata": {},
   "outputs": [
    {
     "data": {
      "text/plain": [
       "\"\\ni'm suharsh\\nwork for tcs\\nclient is cummins\\nproject is manufacturing\\n\""
      ]
     },
     "execution_count": 187,
     "metadata": {},
     "output_type": "execute_result"
    }
   ],
   "source": [
    "'''\n",
    "i'm suharsh\n",
    "work for tcs\n",
    "client is cummins\n",
    "project is manufacturing\n",
    "'''\n",
    "#multiline comment"
   ]
  },
  {
   "cell_type": "code",
   "execution_count": 194,
   "id": "4405a364-67f4-45cc-833f-b2cc15a633d8",
   "metadata": {},
   "outputs": [],
   "source": [
    "a1= \"\"\"I'm suharsh\n",
    "work for tcs\n",
    "client is cummins\n",
    "project is manufacturing \"\"\"\n",
    "#multiline comment skipping 1st line"
   ]
  },
  {
   "cell_type": "code",
   "execution_count": 195,
   "id": "f361aed9-1d05-4421-a92c-2f80fe4be549",
   "metadata": {},
   "outputs": [
    {
     "data": {
      "text/plain": [
       "\"I'm suharsh\\nwork for tcs\\nclient is cummins\\nproject is manufacturing \""
      ]
     },
     "execution_count": 195,
     "metadata": {},
     "output_type": "execute_result"
    }
   ],
   "source": [
    "a1"
   ]
  },
  {
   "cell_type": "code",
   "execution_count": 197,
   "id": "9c05aa66-5c21-4b50-bf3a-9625832c1f9d",
   "metadata": {},
   "outputs": [],
   "source": [
    "# i'm suharsh\n",
    "# work for tcs\n",
    "# client is cummins\n",
    "# project is manufacturing\n",
    "\n",
    "#To add #(comment) in each line select whole string >>press [Ctrl+/];"
   ]
  },
  {
   "cell_type": "code",
   "execution_count": null,
   "id": "079558d9-c1fa-45cb-8611-ce21d755e75b",
   "metadata": {},
   "outputs": [],
   "source": [
    "# fear of losing is not an option\n",
    "# for single line comment press [Ctrl+/] or # as prefix of string"
   ]
  }
 ],
 "metadata": {
  "kernelspec": {
   "display_name": "Python 3 (ipykernel)",
   "language": "python",
   "name": "python3"
  },
  "language_info": {
   "codemirror_mode": {
    "name": "ipython",
    "version": 3
   },
   "file_extension": ".py",
   "mimetype": "text/x-python",
   "name": "python",
   "nbconvert_exporter": "python",
   "pygments_lexer": "ipython3",
   "version": "3.10.8"
  }
 },
 "nbformat": 4,
 "nbformat_minor": 5
}
