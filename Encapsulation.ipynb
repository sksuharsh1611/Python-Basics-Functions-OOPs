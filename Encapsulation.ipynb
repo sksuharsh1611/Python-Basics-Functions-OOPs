{
 "cells": [
  {
   "cell_type": "code",
   "execution_count": 6,
   "id": "a43ce97d-d7c7-42a6-9d2d-d41be44ec304",
   "metadata": {},
   "outputs": [],
   "source": [
    "# Encapsulation: user should not able to modify variable.\n",
    "# to keep it private \n",
    "# hide implementation of methods or variables from user"
   ]
  },
  {
   "cell_type": "code",
   "execution_count": 7,
   "id": "78da0c50-57e1-48d2-9e4e-25a172b5a164",
   "metadata": {},
   "outputs": [],
   "source": [
    "class test:\n",
    "    \n",
    "    def __init__(self, a,b):\n",
    "        self.a=a\n",
    "        self.b=b\n",
    "        "
   ]
  },
  {
   "cell_type": "code",
   "execution_count": 8,
   "id": "98c293a7-d03f-446c-9bbe-ed4611a96be2",
   "metadata": {},
   "outputs": [],
   "source": [
    "t=test(23,45)"
   ]
  },
  {
   "cell_type": "code",
   "execution_count": 9,
   "id": "9de732eb-99bc-47a6-929b-e5d6cd0019e2",
   "metadata": {},
   "outputs": [],
   "source": [
    "t.a = 2736376"
   ]
  },
  {
   "cell_type": "code",
   "execution_count": 10,
   "id": "ddf84170-76a6-4002-aa30-acfeab6c7569",
   "metadata": {},
   "outputs": [
    {
     "data": {
      "text/plain": [
       "2736376"
      ]
     },
     "execution_count": 10,
     "metadata": {},
     "output_type": "execute_result"
    }
   ],
   "source": [
    "t.a"
   ]
  },
  {
   "cell_type": "code",
   "execution_count": 11,
   "id": "75549b7e-60d4-446d-a7b3-bee0e8bd742f",
   "metadata": {},
   "outputs": [],
   "source": [
    "class car:\n",
    "    def __init__(self , year , make , model, speed):\n",
    "        self.__year = year #Hide variable from user\n",
    "        self.__make = make \n",
    "        self.__model = model\n",
    "        self.__speed = 0"
   ]
  },
  {
   "cell_type": "code",
   "execution_count": 12,
   "id": "a16446ae-d134-4861-8df6-ac5c812b9325",
   "metadata": {},
   "outputs": [
    {
     "ename": "TypeError",
     "evalue": "car.__init__() missing 4 required positional arguments: 'year', 'make', 'model', and 'speed'",
     "output_type": "error",
     "traceback": [
      "\u001b[0;31m---------------------------------------------------------------------------\u001b[0m",
      "\u001b[0;31mTypeError\u001b[0m                                 Traceback (most recent call last)",
      "Cell \u001b[0;32mIn[12], line 1\u001b[0m\n\u001b[0;32m----> 1\u001b[0m c \u001b[38;5;241m=\u001b[39m\u001b[43mcar\u001b[49m\u001b[43m(\u001b[49m\u001b[43m)\u001b[49m\n",
      "\u001b[0;31mTypeError\u001b[0m: car.__init__() missing 4 required positional arguments: 'year', 'make', 'model', and 'speed'"
     ]
    }
   ],
   "source": [
    "c =car()"
   ]
  },
  {
   "cell_type": "code",
   "execution_count": 20,
   "id": "e61a42ec-dd57-4117-b977-006f4ac2e2fe",
   "metadata": {},
   "outputs": [],
   "source": [
    "c  =car(2021,'Toyota','Fortuner',40) #if speed not given by default take 0"
   ]
  },
  {
   "cell_type": "code",
   "execution_count": 15,
   "id": "95a2b5ee-5694-47a6-90b6-99557f5f0ca1",
   "metadata": {},
   "outputs": [
    {
     "ename": "AttributeError",
     "evalue": "'car' object has no attribute 'year'",
     "output_type": "error",
     "traceback": [
      "\u001b[0;31m---------------------------------------------------------------------------\u001b[0m",
      "\u001b[0;31mAttributeError\u001b[0m                            Traceback (most recent call last)",
      "Cell \u001b[0;32mIn[15], line 1\u001b[0m\n\u001b[0;32m----> 1\u001b[0m \u001b[43mc\u001b[49m\u001b[38;5;241;43m.\u001b[39;49m\u001b[43myear\u001b[49m\n",
      "\u001b[0;31mAttributeError\u001b[0m: 'car' object has no attribute 'year'"
     ]
    }
   ],
   "source": [
    "c.year"
   ]
  },
  {
   "cell_type": "code",
   "execution_count": 16,
   "id": "f60c0dd4-74b4-4daa-b5fa-6227b66b1b76",
   "metadata": {},
   "outputs": [
    {
     "ename": "AttributeError",
     "evalue": "'car' object has no attribute '__year'",
     "output_type": "error",
     "traceback": [
      "\u001b[0;31m---------------------------------------------------------------------------\u001b[0m",
      "\u001b[0;31mAttributeError\u001b[0m                            Traceback (most recent call last)",
      "Cell \u001b[0;32mIn[16], line 1\u001b[0m\n\u001b[0;32m----> 1\u001b[0m \u001b[43mc\u001b[49m\u001b[38;5;241;43m.\u001b[39;49m\u001b[43m__year\u001b[49m\n",
      "\u001b[0;31mAttributeError\u001b[0m: 'car' object has no attribute '__year'"
     ]
    }
   ],
   "source": [
    "c.__year"
   ]
  },
  {
   "cell_type": "code",
   "execution_count": 17,
   "id": "c5c61f51-64f8-490e-9475-bfed2c93ff44",
   "metadata": {},
   "outputs": [
    {
     "data": {
      "text/plain": [
       "2021"
      ]
     },
     "execution_count": 17,
     "metadata": {},
     "output_type": "execute_result"
    }
   ],
   "source": [
    "c._car__year  #To access private variable use .class then __"
   ]
  },
  {
   "cell_type": "code",
   "execution_count": 19,
   "id": "50bdcd26-b3ea-42d5-8393-494e46bbe247",
   "metadata": {},
   "outputs": [],
   "source": [
    "class car:\n",
    "    def __init__(self , year , make , model, speed):\n",
    "        self.__year = year #Hide variable from user\n",
    "        self.__make = make \n",
    "        self.__model = model\n",
    "        self.__speed = 0\n",
    "    \n",
    "    def set_speed(self,speed):\n",
    "        self.__speed = 0 if speed < 0 else speed\n",
    "        \n",
    "    def get_speed(self) :\n",
    "        return self.__speed "
   ]
  },
  {
   "cell_type": "code",
   "execution_count": 21,
   "id": "5b36320b-a0be-43da-beb5-8b4006657fc2",
   "metadata": {},
   "outputs": [],
   "source": [
    "c.set_speed(-234)"
   ]
  },
  {
   "cell_type": "code",
   "execution_count": 22,
   "id": "e9300e9e-d2a7-42c5-b588-6ab09bc23f13",
   "metadata": {},
   "outputs": [
    {
     "data": {
      "text/plain": [
       "0"
      ]
     },
     "execution_count": 22,
     "metadata": {},
     "output_type": "execute_result"
    }
   ],
   "source": [
    "c.get_speed()"
   ]
  },
  {
   "cell_type": "code",
   "execution_count": 23,
   "id": "400f3058-2e8c-4247-82ba-31d6deadacfe",
   "metadata": {},
   "outputs": [],
   "source": [
    "class bank_account:\n",
    "    \n",
    "    def __init__(self , balance):\n",
    "        self.__balance = balance\n",
    "    \n",
    "    def deposit(self, amount):  #Private variables can be accessed within a Class\n",
    "        self.__balance = self.__balance + amount\n",
    "    \n",
    "    def withdraw(self, amount):\n",
    "        if self.__balance >= amount:\n",
    "            self.__balance = self.__balance - amount\n",
    "            return True\n",
    "        else :\n",
    "            return False\n",
    "        \n",
    "    def get_balance(self):\n",
    "        return self.__balance\n",
    "    "
   ]
  },
  {
   "cell_type": "code",
   "execution_count": 24,
   "id": "c398361f-9caf-4422-ad74-e1905beeceae",
   "metadata": {},
   "outputs": [
    {
     "ename": "TypeError",
     "evalue": "bank_account.__init__() missing 1 required positional argument: 'balance'",
     "output_type": "error",
     "traceback": [
      "\u001b[0;31m---------------------------------------------------------------------------\u001b[0m",
      "\u001b[0;31mTypeError\u001b[0m                                 Traceback (most recent call last)",
      "Cell \u001b[0;32mIn[24], line 1\u001b[0m\n\u001b[0;32m----> 1\u001b[0m suharsh \u001b[38;5;241m=\u001b[39m \u001b[43mbank_account\u001b[49m\u001b[43m(\u001b[49m\u001b[43m)\u001b[49m\n",
      "\u001b[0;31mTypeError\u001b[0m: bank_account.__init__() missing 1 required positional argument: 'balance'"
     ]
    }
   ],
   "source": [
    "suharsh = bank_account()"
   ]
  },
  {
   "cell_type": "code",
   "execution_count": 25,
   "id": "e81d3087-8229-43d5-9b04-ddc435162e07",
   "metadata": {},
   "outputs": [],
   "source": [
    "suharsh = bank_account(5000)"
   ]
  },
  {
   "cell_type": "code",
   "execution_count": 26,
   "id": "0bbf27fe-3b8d-48ba-8f06-34fb62dc066e",
   "metadata": {},
   "outputs": [
    {
     "data": {
      "text/plain": [
       "5000"
      ]
     },
     "execution_count": 26,
     "metadata": {},
     "output_type": "execute_result"
    }
   ],
   "source": [
    "suharsh.get_balance()"
   ]
  },
  {
   "cell_type": "code",
   "execution_count": 27,
   "id": "7a888228-8bc0-4c33-beb2-93585ab3cad3",
   "metadata": {},
   "outputs": [],
   "source": [
    "suharsh.deposit(5000)"
   ]
  },
  {
   "cell_type": "code",
   "execution_count": 28,
   "id": "b4912563-f89f-4923-a6e6-0289414c8d82",
   "metadata": {},
   "outputs": [
    {
     "data": {
      "text/plain": [
       "10000"
      ]
     },
     "execution_count": 28,
     "metadata": {},
     "output_type": "execute_result"
    }
   ],
   "source": [
    "suharsh.get_balance()"
   ]
  },
  {
   "cell_type": "code",
   "execution_count": 29,
   "id": "f7f6558e-1932-4847-8e7d-bde97a2ce547",
   "metadata": {},
   "outputs": [
    {
     "data": {
      "text/plain": [
       "True"
      ]
     },
     "execution_count": 29,
     "metadata": {},
     "output_type": "execute_result"
    }
   ],
   "source": [
    "suharsh.withdraw(4500)"
   ]
  },
  {
   "cell_type": "code",
   "execution_count": 30,
   "id": "5d4d415b-a08f-447b-8b0f-5a40f455bb4b",
   "metadata": {},
   "outputs": [
    {
     "data": {
      "text/plain": [
       "5500"
      ]
     },
     "execution_count": 30,
     "metadata": {},
     "output_type": "execute_result"
    }
   ],
   "source": [
    "suharsh.get_balance()"
   ]
  },
  {
   "cell_type": "code",
   "execution_count": 31,
   "id": "33d6f73e-2492-465d-9bb7-ed2cd744de5a",
   "metadata": {},
   "outputs": [
    {
     "data": {
      "text/plain": [
       "True"
      ]
     },
     "execution_count": 31,
     "metadata": {},
     "output_type": "execute_result"
    }
   ],
   "source": [
    "suharsh.withdraw(500)"
   ]
  },
  {
   "cell_type": "code",
   "execution_count": 32,
   "id": "5c24586f-2f75-4358-a077-108165fc0710",
   "metadata": {},
   "outputs": [
    {
     "data": {
      "text/plain": [
       "5000"
      ]
     },
     "execution_count": 32,
     "metadata": {},
     "output_type": "execute_result"
    }
   ],
   "source": [
    "suharsh.get_balance()"
   ]
  },
  {
   "cell_type": "code",
   "execution_count": null,
   "id": "5288880d-6dfe-4207-a96c-8c971d2a3024",
   "metadata": {},
   "outputs": [],
   "source": []
  }
 ],
 "metadata": {
  "kernelspec": {
   "display_name": "Python 3 (ipykernel)",
   "language": "python",
   "name": "python3"
  },
  "language_info": {
   "codemirror_mode": {
    "name": "ipython",
    "version": 3
   },
   "file_extension": ".py",
   "mimetype": "text/x-python",
   "name": "python",
   "nbconvert_exporter": "python",
   "pygments_lexer": "ipython3",
   "version": "3.10.8"
  }
 },
 "nbformat": 4,
 "nbformat_minor": 5
}
