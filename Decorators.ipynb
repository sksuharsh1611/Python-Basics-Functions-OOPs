{
 "cells": [
  {
   "cell_type": "code",
   "execution_count": 1,
   "id": "237710bd-8b74-4b09-aa32-9f385beadb6c",
   "metadata": {},
   "outputs": [],
   "source": [
    "def test():\n",
    "    print(\"This is my function to test\")"
   ]
  },
  {
   "cell_type": "code",
   "execution_count": 2,
   "id": "fce6db31-1dc4-4b31-a1b4-68a79ae1fac7",
   "metadata": {},
   "outputs": [
    {
     "name": "stdout",
     "output_type": "stream",
     "text": [
      "This is my function to test\n"
     ]
    }
   ],
   "source": [
    "test()"
   ]
  },
  {
   "cell_type": "code",
   "execution_count": 3,
   "id": "00ce906e-4362-4e94-8c66-8871783f24df",
   "metadata": {},
   "outputs": [],
   "source": [
    "# Decorators: using in App logging, time complexity, space complexity\n"
   ]
  },
  {
   "cell_type": "code",
   "execution_count": 9,
   "id": "8484d490-779f-44c1-ae8f-46d3312d5cef",
   "metadata": {},
   "outputs": [],
   "source": [
    "def test():\n",
    "    print(\"This is the start of the function\")\n",
    "    print(\"This is my function to test\")\n",
    "    print(4+5)\n",
    "    print(\"This is the end of my function\")"
   ]
  },
  {
   "cell_type": "code",
   "execution_count": 10,
   "id": "0a60cb07-772d-4dab-8971-aa9f2e163da7",
   "metadata": {},
   "outputs": [
    {
     "name": "stdout",
     "output_type": "stream",
     "text": [
      "This is the start of the function\n",
      "This is my function to test\n",
      "9\n",
      "This is the end of my function\n"
     ]
    }
   ],
   "source": [
    "test()"
   ]
  },
  {
   "cell_type": "code",
   "execution_count": 12,
   "id": "5b132abb-84e3-48ca-a1dc-319c09b89ccc",
   "metadata": {},
   "outputs": [],
   "source": [
    "def deco(func):\n",
    "    def inner_dec():\n",
    "            print(\"This is the start of the function\")\n",
    "            func()\n",
    "            print(\"This is the end of my function\")\n",
    "    return inner_dec"
   ]
  },
  {
   "cell_type": "code",
   "execution_count": null,
   "id": "15873496-3807-4d4f-af8e-e3015d65fc02",
   "metadata": {},
   "outputs": [],
   "source": [
    "@deco\n",
    "def test1():\n",
    "    print(6+7)"
   ]
  },
  {
   "cell_type": "code",
   "execution_count": 20,
   "id": "25ae705b-e2f8-44ff-a2d3-6ea28537d642",
   "metadata": {},
   "outputs": [
    {
     "name": "stdout",
     "output_type": "stream",
     "text": [
      "This is the start of the function\n",
      "13\n",
      "This is the end of my function\n"
     ]
    }
   ],
   "source": [
    "test1()"
   ]
  },
  {
   "cell_type": "code",
   "execution_count": 21,
   "id": "62e7aac3-fbf4-44b3-857e-352edaa5c8cb",
   "metadata": {},
   "outputs": [],
   "source": [
    "#Calculating time complexity"
   ]
  },
  {
   "cell_type": "code",
   "execution_count": 22,
   "id": "91826469-5a43-4626-86ee-829d02360bd2",
   "metadata": {},
   "outputs": [],
   "source": [
    "import time\n",
    "\n",
    "def timer_test(func):\n",
    "    def timer_test_inner():\n",
    "        start = time.time()\n",
    "        func()\n",
    "        end = time.time()\n",
    "        print(end - start)\n",
    "    return timer_test_inner"
   ]
  },
  {
   "cell_type": "code",
   "execution_count": 23,
   "id": "8565ce0b-4fee-417b-90ab-f83b6d3627bd",
   "metadata": {},
   "outputs": [],
   "source": [
    "def test2():\n",
    "    print(45+78)"
   ]
  },
  {
   "cell_type": "code",
   "execution_count": 24,
   "id": "ea6bba70-f0d5-4a86-8b16-ddef47f4ffd2",
   "metadata": {},
   "outputs": [
    {
     "name": "stdout",
     "output_type": "stream",
     "text": [
      "123\n"
     ]
    }
   ],
   "source": [
    "test2()"
   ]
  },
  {
   "cell_type": "code",
   "execution_count": 25,
   "id": "a6eacff7-b34e-44f6-99e2-e8c4689be99a",
   "metadata": {},
   "outputs": [],
   "source": [
    "@timer_test\n",
    "def test2():\n",
    "    print(45+78)"
   ]
  },
  {
   "cell_type": "code",
   "execution_count": 26,
   "id": "9ad93c4c-35cf-46a2-98a4-9d1b933c489f",
   "metadata": {},
   "outputs": [
    {
     "name": "stdout",
     "output_type": "stream",
     "text": [
      "123\n",
      "4.649162292480469e-05\n"
     ]
    }
   ],
   "source": [
    "test2()"
   ]
  },
  {
   "cell_type": "code",
   "execution_count": 28,
   "id": "4d29eaaa-a5e9-42ce-921f-6c0111116c70",
   "metadata": {},
   "outputs": [],
   "source": [
    "# 4*10^-5 ns/mili sec  >> Time calculated in"
   ]
  },
  {
   "cell_type": "code",
   "execution_count": 31,
   "id": "c1935ab3-cb82-4384-8dbd-f6fb534495f4",
   "metadata": {},
   "outputs": [],
   "source": [
    "@timer_test\n",
    "def test():\n",
    "    for i in range(100000000):\n",
    "        pass\n",
    "    "
   ]
  },
  {
   "cell_type": "code",
   "execution_count": 32,
   "id": "54356ec6-a6e1-4c59-9a5b-40b0d8d06f14",
   "metadata": {},
   "outputs": [
    {
     "name": "stdout",
     "output_type": "stream",
     "text": [
      "2.184896469116211\n"
     ]
    }
   ],
   "source": [
    "test()"
   ]
  },
  {
   "cell_type": "code",
   "execution_count": null,
   "id": "791ba963-64f7-4287-9d86-9f21093d77a7",
   "metadata": {},
   "outputs": [],
   "source": []
  }
 ],
 "metadata": {
  "kernelspec": {
   "display_name": "Python 3 (ipykernel)",
   "language": "python",
   "name": "python3"
  },
  "language_info": {
   "codemirror_mode": {
    "name": "ipython",
    "version": 3
   },
   "file_extension": ".py",
   "mimetype": "text/x-python",
   "name": "python",
   "nbconvert_exporter": "python",
   "pygments_lexer": "ipython3",
   "version": "3.10.8"
  }
 },
 "nbformat": 4,
 "nbformat_minor": 5
}
