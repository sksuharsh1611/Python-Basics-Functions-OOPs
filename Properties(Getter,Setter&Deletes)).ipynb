{
 "cells": [
  {
   "cell_type": "code",
   "execution_count": 1,
   "id": "5d1dc90b-26c5-4e4f-934c-ddc4a428eed0",
   "metadata": {},
   "outputs": [],
   "source": [
    "# property decorators"
   ]
  },
  {
   "cell_type": "code",
   "execution_count": 5,
   "id": "771cd2a6-568c-4bf9-ba4e-9f7362a8b219",
   "metadata": {},
   "outputs": [],
   "source": [
    "class pwskills:\n",
    "    \n",
    "    def __init__(self, course_price , course_name):\n",
    "        \n",
    "        #_ > single underscore : protected\n",
    "        # __ > double underscore : private\n",
    "        self.__course_price = course_price\n",
    "        self.course_name = course_name"
   ]
  },
  {
   "cell_type": "code",
   "execution_count": 6,
   "id": "ff5e3daa-c1f2-4a1a-aea5-7a06d681c023",
   "metadata": {},
   "outputs": [],
   "source": [
    "pw = pwskills(3500,\"Ds Masters\")"
   ]
  },
  {
   "cell_type": "code",
   "execution_count": 7,
   "id": "884949d5-5391-41cb-9d32-051b70501d56",
   "metadata": {},
   "outputs": [
    {
     "data": {
      "text/plain": [
       "'Ds Masters'"
      ]
     },
     "execution_count": 7,
     "metadata": {},
     "output_type": "execute_result"
    }
   ],
   "source": [
    "pw.course_name"
   ]
  },
  {
   "cell_type": "code",
   "execution_count": 8,
   "id": "2cafc10e-a30b-4b29-92ea-6dc66d97e9b0",
   "metadata": {},
   "outputs": [
    {
     "data": {
      "text/plain": [
       "3500"
      ]
     },
     "execution_count": 8,
     "metadata": {},
     "output_type": "execute_result"
    }
   ],
   "source": [
    "pw._pwskills__course_price"
   ]
  },
  {
   "cell_type": "code",
   "execution_count": 9,
   "id": "c51a5182-4768-4873-b641-62210821e06d",
   "metadata": {},
   "outputs": [],
   "source": [
    "#How to give private variables access to user > to view/modify/delete\n",
    "# We use decorator properties"
   ]
  },
  {
   "cell_type": "code",
   "execution_count": 20,
   "id": "862ffd99-c6e2-41b7-9aa5-ff751d51daa6",
   "metadata": {},
   "outputs": [],
   "source": [
    "class pwskills:\n",
    "    \n",
    "    def __init__(self, course_price , course_name):\n",
    "        \n",
    "        self.__course_price = course_price\n",
    "        self.course_name = course_name\n",
    "        \n",
    "    @property\n",
    "    def course_price_access(self):\n",
    "        return self.__course_price\n",
    "    \n",
    "    #To give access for modifying:\n",
    "    @course_price_access.setter\n",
    "    def course_price_set(self , price):\n",
    "        if price <= 7800:\n",
    "            pass\n",
    "        else:\n",
    "            self.__course_price = price\n",
    "            \n",
    "    #To give access for deleting:\n",
    "    @course_price_access.deleter\n",
    "    def delete_course_price(self):\n",
    "        del self.__course_price"
   ]
  },
  {
   "cell_type": "code",
   "execution_count": 21,
   "id": "7b087f4f-c0e9-4961-a532-01dfa0102a10",
   "metadata": {},
   "outputs": [],
   "source": [
    "pw = pwskills(7800,\"DS Masters\")"
   ]
  },
  {
   "cell_type": "code",
   "execution_count": 22,
   "id": "a2885c54-a514-4c53-8e61-46ff646fc321",
   "metadata": {},
   "outputs": [
    {
     "data": {
      "text/plain": [
       "7800"
      ]
     },
     "execution_count": 22,
     "metadata": {},
     "output_type": "execute_result"
    }
   ],
   "source": [
    "pw.course_price_access"
   ]
  },
  {
   "cell_type": "code",
   "execution_count": 18,
   "id": "5cec9357-0d76-4254-b5fe-5c713c8e2d94",
   "metadata": {},
   "outputs": [],
   "source": [
    "pw.course_price_set = 15600"
   ]
  },
  {
   "cell_type": "code",
   "execution_count": 19,
   "id": "72e99da0-ba46-4429-bfaa-4c303da7d5ab",
   "metadata": {},
   "outputs": [
    {
     "data": {
      "text/plain": [
       "15600"
      ]
     },
     "execution_count": 19,
     "metadata": {},
     "output_type": "execute_result"
    }
   ],
   "source": [
    "pw.course_price_access"
   ]
  },
  {
   "cell_type": "code",
   "execution_count": 23,
   "id": "ae044a0c-bf77-41ae-9e73-16354c2b9989",
   "metadata": {},
   "outputs": [],
   "source": [
    "del pw.delete_course_price"
   ]
  },
  {
   "cell_type": "code",
   "execution_count": 24,
   "id": "b0b02c36-9006-4556-9027-d63111f8a52b",
   "metadata": {},
   "outputs": [
    {
     "ename": "AttributeError",
     "evalue": "'pwskills' object has no attribute '_pwskills__course_price'",
     "output_type": "error",
     "traceback": [
      "\u001b[0;31m---------------------------------------------------------------------------\u001b[0m",
      "\u001b[0;31mAttributeError\u001b[0m                            Traceback (most recent call last)",
      "Cell \u001b[0;32mIn[24], line 1\u001b[0m\n\u001b[0;32m----> 1\u001b[0m \u001b[43mpw\u001b[49m\u001b[38;5;241;43m.\u001b[39;49m\u001b[43mcourse_price_access\u001b[49m\n",
      "Cell \u001b[0;32mIn[20], line 10\u001b[0m, in \u001b[0;36mpwskills.course_price_access\u001b[0;34m(self)\u001b[0m\n\u001b[1;32m      8\u001b[0m \u001b[38;5;129m@property\u001b[39m\n\u001b[1;32m      9\u001b[0m \u001b[38;5;28;01mdef\u001b[39;00m \u001b[38;5;21mcourse_price_access\u001b[39m(\u001b[38;5;28mself\u001b[39m):\n\u001b[0;32m---> 10\u001b[0m     \u001b[38;5;28;01mreturn\u001b[39;00m \u001b[38;5;28;43mself\u001b[39;49m\u001b[38;5;241;43m.\u001b[39;49m\u001b[43m__course_price\u001b[49m\n",
      "\u001b[0;31mAttributeError\u001b[0m: 'pwskills' object has no attribute '_pwskills__course_price'"
     ]
    }
   ],
   "source": [
    "pw.course_price_access"
   ]
  },
  {
   "cell_type": "code",
   "execution_count": null,
   "id": "bfd1f3f0-4614-4b59-a68d-7f0dc09e67d8",
   "metadata": {},
   "outputs": [],
   "source": []
  }
 ],
 "metadata": {
  "kernelspec": {
   "display_name": "Python 3 (ipykernel)",
   "language": "python",
   "name": "python3"
  },
  "language_info": {
   "codemirror_mode": {
    "name": "ipython",
    "version": 3
   },
   "file_extension": ".py",
   "mimetype": "text/x-python",
   "name": "python",
   "nbconvert_exporter": "python",
   "pygments_lexer": "ipython3",
   "version": "3.10.8"
  }
 },
 "nbformat": 4,
 "nbformat_minor": 5
}
