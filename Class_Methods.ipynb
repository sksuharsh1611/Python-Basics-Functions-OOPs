{
 "cells": [
  {
   "cell_type": "code",
   "execution_count": 1,
   "id": "bb346a05-1da9-4102-8605-a446bba86918",
   "metadata": {},
   "outputs": [],
   "source": [
    "class pwskills:\n",
    "    \n",
    "    def __init__(self, name, email):\n",
    "        \n",
    "        self.name = name\n",
    "        self.email = email\n",
    "        \n",
    "    def stud_details(self):\n",
    "        print(self.name,self.email)\n",
    "        "
   ]
  },
  {
   "cell_type": "code",
   "execution_count": 2,
   "id": "e3bea64e-c025-4925-acaa-4b23b350761c",
   "metadata": {},
   "outputs": [],
   "source": [
    "pw= pwskills(\"Suraj\",\"Suraj@gmail.com\")"
   ]
  },
  {
   "cell_type": "code",
   "execution_count": 3,
   "id": "4aedbf81-76a0-45f7-a007-020fe3157839",
   "metadata": {},
   "outputs": [
    {
     "data": {
      "text/plain": [
       "'Suraj@gmail.com'"
      ]
     },
     "execution_count": 3,
     "metadata": {},
     "output_type": "execute_result"
    }
   ],
   "source": [
    "pw.email"
   ]
  },
  {
   "cell_type": "code",
   "execution_count": 4,
   "id": "ea93244a-ffba-4ead-ba1c-0d84cb881844",
   "metadata": {},
   "outputs": [
    {
     "data": {
      "text/plain": [
       "'Suraj'"
      ]
     },
     "execution_count": 4,
     "metadata": {},
     "output_type": "execute_result"
    }
   ],
   "source": [
    "pw.name"
   ]
  },
  {
   "cell_type": "code",
   "execution_count": 5,
   "id": "064bbdf4-744d-4e49-9326-7eca98b513b1",
   "metadata": {},
   "outputs": [
    {
     "name": "stdout",
     "output_type": "stream",
     "text": [
      "Suraj Suraj@gmail.com\n"
     ]
    }
   ],
   "source": [
    "pw.stud_details()"
   ]
  },
  {
   "cell_type": "code",
   "execution_count": 6,
   "id": "65df1d53-c61a-4af3-bc5c-ebf943eb62f5",
   "metadata": {},
   "outputs": [],
   "source": [
    "# Function overloading concept is not available in python but we can achieve that\n",
    "# using class methods"
   ]
  },
  {
   "cell_type": "code",
   "execution_count": 7,
   "id": "96d24e07-76d0-4209-8a1c-374a46511e0d",
   "metadata": {},
   "outputs": [],
   "source": [
    "class pwskills1:\n",
    "    \n",
    "    def __init__(self, name, email):\n",
    "        \n",
    "        self.name = name\n",
    "        self.email = email\n",
    "    \n",
    "    @classmethod    #decorator \n",
    "    def details(cls , name, email):\n",
    "        #creating new reference cls\n",
    "        return cls(name, email)\n",
    "        \n",
    "    def stud_details(self):\n",
    "        print(self.name,self.email)"
   ]
  },
  {
   "cell_type": "code",
   "execution_count": 8,
   "id": "2362d28e-e39e-4c1d-82db-6906b926e893",
   "metadata": {},
   "outputs": [
    {
     "ename": "TypeError",
     "evalue": "pwskills1.details() missing 2 required positional arguments: 'name' and 'email'",
     "output_type": "error",
     "traceback": [
      "\u001b[0;31m---------------------------------------------------------------------------\u001b[0m",
      "\u001b[0;31mTypeError\u001b[0m                                 Traceback (most recent call last)",
      "Cell \u001b[0;32mIn[8], line 1\u001b[0m\n\u001b[0;32m----> 1\u001b[0m \u001b[43mpwskills1\u001b[49m\u001b[38;5;241;43m.\u001b[39;49m\u001b[43mdetails\u001b[49m\u001b[43m(\u001b[49m\u001b[43m)\u001b[49m\n",
      "\u001b[0;31mTypeError\u001b[0m: pwskills1.details() missing 2 required positional arguments: 'name' and 'email'"
     ]
    }
   ],
   "source": [
    "pwskills1.details()"
   ]
  },
  {
   "cell_type": "code",
   "execution_count": 9,
   "id": "e7105777-301d-4067-a5c1-c01ee1b7ccda",
   "metadata": {},
   "outputs": [
    {
     "data": {
      "text/plain": [
       "<__main__.pwskills1 at 0x7f0024c78d30>"
      ]
     },
     "execution_count": 9,
     "metadata": {},
     "output_type": "execute_result"
    }
   ],
   "source": [
    "pwskills1.details(\"suha\",\"suh@gmail.com\")  #overloading"
   ]
  },
  {
   "cell_type": "code",
   "execution_count": 10,
   "id": "d9a4c240-95c8-4f92-9822-74a57160025c",
   "metadata": {},
   "outputs": [],
   "source": [
    "pw1 = pwskills1.details(\"suha\",\"suh@gmail.com\")"
   ]
  },
  {
   "cell_type": "code",
   "execution_count": 11,
   "id": "f699232e-9a4a-4300-bd13-2e9a00fa054c",
   "metadata": {},
   "outputs": [
    {
     "data": {
      "text/plain": [
       "'suha'"
      ]
     },
     "execution_count": 11,
     "metadata": {},
     "output_type": "execute_result"
    }
   ],
   "source": [
    "pw1.name"
   ]
  },
  {
   "cell_type": "code",
   "execution_count": 12,
   "id": "1a07347e-a323-47ca-9db8-9a220d371eda",
   "metadata": {},
   "outputs": [
    {
     "data": {
      "text/plain": [
       "'suh@gmail.com'"
      ]
     },
     "execution_count": 12,
     "metadata": {},
     "output_type": "execute_result"
    }
   ],
   "source": [
    "pw1.email"
   ]
  },
  {
   "cell_type": "code",
   "execution_count": 14,
   "id": "75cd7a20-5cc1-42e0-8427-a73ea7604264",
   "metadata": {},
   "outputs": [
    {
     "name": "stdout",
     "output_type": "stream",
     "text": [
      "suha suh@gmail.com\n"
     ]
    }
   ],
   "source": [
    "pw1.stud_details()"
   ]
  },
  {
   "cell_type": "code",
   "execution_count": 15,
   "id": "9dabdd40-2fc0-4ea5-b2d9-e45c8a78af47",
   "metadata": {},
   "outputs": [],
   "source": [
    "class pwskills2:\n",
    "    \n",
    "    mobile_num = 6200283942    #declaring > class variable\n",
    "    \n",
    "    def __init__(self, name, email):\n",
    "        \n",
    "        self.name = name\n",
    "        self.email = email\n",
    "    \n",
    "    @classmethod    #decorator \n",
    "    def details(cls , name, email):\n",
    "        #creating new reference cls\n",
    "        return cls(name, email)\n",
    "        \n",
    "    def stud_details(self):\n",
    "        print(self.name,self.email)"
   ]
  },
  {
   "cell_type": "code",
   "execution_count": 17,
   "id": "7070460c-3b08-4676-b645-254850395fa7",
   "metadata": {},
   "outputs": [
    {
     "data": {
      "text/plain": [
       "6200283942"
      ]
     },
     "execution_count": 17,
     "metadata": {},
     "output_type": "execute_result"
    }
   ],
   "source": [
    "pwskills2.mobile_num   #to access use class name. variable name"
   ]
  },
  {
   "cell_type": "code",
   "execution_count": 21,
   "id": "e37cee8f-a1f2-48d8-9945-856d51698d51",
   "metadata": {},
   "outputs": [],
   "source": [
    "class pwskills2:\n",
    "    \n",
    "    mobile_num = 6200283942    #declaring > class variable\n",
    "    \n",
    "    def __init__(self, name, email):\n",
    "        \n",
    "        self.name = name\n",
    "        self.email = email\n",
    "    \n",
    "    @classmethod\n",
    "    def change_number(cls,mobile):\n",
    "        pwskills2.mobile_num = mobile\n",
    "    \n",
    "    @classmethod    #decorator \n",
    "    def details(cls , name, email):\n",
    "        #creating new reference cls\n",
    "        return cls(name, email)\n",
    "        \n",
    "    def stud_details(self):\n",
    "        print(self.name,self.email,pwskills2.mobile_num)"
   ]
  },
  {
   "cell_type": "code",
   "execution_count": 19,
   "id": "7208b79d-fd79-4475-bd82-75801d6e2cf7",
   "metadata": {},
   "outputs": [],
   "source": [
    "pwskills2.change_number(9431278182)"
   ]
  },
  {
   "cell_type": "code",
   "execution_count": 20,
   "id": "46724342-882b-40b1-b2d0-883cd0ff1647",
   "metadata": {},
   "outputs": [
    {
     "data": {
      "text/plain": [
       "9431278182"
      ]
     },
     "execution_count": 20,
     "metadata": {},
     "output_type": "execute_result"
    }
   ],
   "source": [
    "pwskills2.mobile_num"
   ]
  },
  {
   "cell_type": "code",
   "execution_count": 22,
   "id": "57128800-b943-4cbc-85c3-fcb0104caa3c",
   "metadata": {},
   "outputs": [],
   "source": [
    "# With the help of class method:\n",
    "#     Able to pass data\n",
    "#     Able to modify data\n",
    "#     Able to manipulate data\n",
    "#     Able to access data\n",
    "\n",
    "# we can overload __init__ using class method and decorator"
   ]
  },
  {
   "cell_type": "code",
   "execution_count": 23,
   "id": "bd15f038-b73f-45bc-9ec3-e27cc45e8885",
   "metadata": {},
   "outputs": [],
   "source": [
    "pw2= pwskills2(\"Monty\",\"mon@gmail.com\")"
   ]
  },
  {
   "cell_type": "code",
   "execution_count": 24,
   "id": "3155beb9-2551-4f7a-ae0f-a90005427d37",
   "metadata": {},
   "outputs": [
    {
     "name": "stdout",
     "output_type": "stream",
     "text": [
      "Monty mon@gmail.com 6200283942\n"
     ]
    }
   ],
   "source": [
    "pw2.stud_details()"
   ]
  },
  {
   "cell_type": "code",
   "execution_count": 25,
   "id": "dc1b2270-a834-4ee7-b6dc-d4ea2dada921",
   "metadata": {},
   "outputs": [],
   "source": [
    "pw = pwskills2.details(\"Raju\",\"Raju@gmailcom\")"
   ]
  },
  {
   "cell_type": "code",
   "execution_count": 26,
   "id": "6b5fd2fc-07e4-4b45-a42f-03001a4717fd",
   "metadata": {},
   "outputs": [
    {
     "data": {
      "text/plain": [
       "'Raju@gmailcom'"
      ]
     },
     "execution_count": 26,
     "metadata": {},
     "output_type": "execute_result"
    }
   ],
   "source": [
    "pw.email"
   ]
  },
  {
   "cell_type": "code",
   "execution_count": 27,
   "id": "b19547ab-aa70-4e7e-b5c1-2bfe24d1ab1d",
   "metadata": {},
   "outputs": [
    {
     "data": {
      "text/plain": [
       "6200283942"
      ]
     },
     "execution_count": 27,
     "metadata": {},
     "output_type": "execute_result"
    }
   ],
   "source": [
    "pw.mobile_num"
   ]
  },
  {
   "cell_type": "code",
   "execution_count": 28,
   "id": "8ace1535-d966-4b77-b1e6-d8520a03e177",
   "metadata": {},
   "outputs": [
    {
     "name": "stdout",
     "output_type": "stream",
     "text": [
      "Raju Raju@gmailcom 6200283942\n"
     ]
    }
   ],
   "source": [
    "pw.stud_details()"
   ]
  },
  {
   "cell_type": "code",
   "execution_count": 29,
   "id": "d4ef1bae-06a8-4e4b-a948-be69115bc909",
   "metadata": {},
   "outputs": [],
   "source": [
    "class pwskills3:\n",
    "    \n",
    "    mobile_num = 6200283942    #declaring > class variable\n",
    "    \n",
    "    def __init__(self, name, email):\n",
    "        \n",
    "        self.name = name\n",
    "        self.email = email\n",
    "    \n",
    "    @classmethod\n",
    "    def change_number(cls,mobile):\n",
    "        pwskills2.mobile_num = mobile\n",
    "    \n",
    "    @classmethod    #decorator \n",
    "    def details(cls , name, email):\n",
    "        #creating new reference cls\n",
    "        return cls(name, email)\n",
    "        \n",
    "    def stud_details(self):\n",
    "        print(self.name,self.email,pwskills2.mobile_num)"
   ]
  },
  {
   "cell_type": "code",
   "execution_count": 30,
   "id": "03f3177f-436b-4470-bc18-14edfbf5234b",
   "metadata": {},
   "outputs": [],
   "source": [
    "#Creating an external function and adding to existing class\n",
    "def course_details(cls,course_name):\n",
    "    print(\"Course name is \", course_name)\n"
   ]
  },
  {
   "cell_type": "code",
   "execution_count": 31,
   "id": "7931521b-e29f-46c5-8596-ee654f11c7d6",
   "metadata": {},
   "outputs": [],
   "source": [
    "pwskills3.course_details = classmethod(course_details)"
   ]
  },
  {
   "cell_type": "code",
   "execution_count": 32,
   "id": "f6d15f1a-0e59-4aef-a65e-59be3ddc30f9",
   "metadata": {},
   "outputs": [
    {
     "name": "stdout",
     "output_type": "stream",
     "text": [
      "Course name is  Data Science Masters\n"
     ]
    }
   ],
   "source": [
    "pwskills3.course_details(\"Data Science Masters\")"
   ]
  },
  {
   "cell_type": "code",
   "execution_count": 33,
   "id": "ccdef06a-7bcc-4827-9aa9-cffe66da17ff",
   "metadata": {},
   "outputs": [],
   "source": [
    "def mentor(cls, list_of_mentor):\n",
    "    print(list_of_mentor)"
   ]
  },
  {
   "cell_type": "code",
   "execution_count": 34,
   "id": "6063c160-b89b-46bf-88b8-bb0d5afe9b1b",
   "metadata": {},
   "outputs": [],
   "source": [
    "pwskills3.mentor = classmethod(mentor)"
   ]
  },
  {
   "cell_type": "code",
   "execution_count": 35,
   "id": "5e8f834d-349c-43b2-be4c-7b2756f49eff",
   "metadata": {},
   "outputs": [
    {
     "name": "stdout",
     "output_type": "stream",
     "text": [
      "['sudhanshu', 'krish']\n"
     ]
    }
   ],
   "source": [
    "pwskills3.mentor([\"sudhanshu\",\"krish\"])"
   ]
  },
  {
   "cell_type": "code",
   "execution_count": 37,
   "id": "0fb38900-7424-4e24-9794-8b185a90daf2",
   "metadata": {},
   "outputs": [],
   "source": [
    "class pwskills4:\n",
    "    \n",
    "    mobile_num = 6200283942    #declaring > class variable\n",
    "    \n",
    "    def __init__(self, name, email):\n",
    "        \n",
    "        self.name = name\n",
    "        self.email = email\n",
    "    \n",
    "    @classmethod\n",
    "    def change_number(cls,mobile):\n",
    "        pwskills2.mobile_num = mobile\n",
    "    \n",
    "    @classmethod    #decorator \n",
    "    def details(cls , name, email):\n",
    "        #creating new reference cls\n",
    "        return cls(name, email)\n",
    "        \n",
    "    def stud_details(self):\n",
    "        print(self.name,self.email,pwskills2.mobile_num)"
   ]
  },
  {
   "cell_type": "code",
   "execution_count": 38,
   "id": "c7cd1713-11a4-4128-8cf3-6f46fcce7016",
   "metadata": {},
   "outputs": [],
   "source": [
    "#To delete / deactivate existing function from an existing class"
   ]
  },
  {
   "cell_type": "code",
   "execution_count": 39,
   "id": "d48168f3-3351-4a48-bc8f-110494fb5d1a",
   "metadata": {},
   "outputs": [],
   "source": [
    "del pwskills4.change_number"
   ]
  },
  {
   "cell_type": "code",
   "execution_count": 40,
   "id": "be24ceda-6fe0-4395-8bf4-66c7090cdfa1",
   "metadata": {},
   "outputs": [
    {
     "ename": "AttributeError",
     "evalue": "type object 'pwskills4' has no attribute 'change_number'",
     "output_type": "error",
     "traceback": [
      "\u001b[0;31m---------------------------------------------------------------------------\u001b[0m",
      "\u001b[0;31mAttributeError\u001b[0m                            Traceback (most recent call last)",
      "Cell \u001b[0;32mIn[40], line 1\u001b[0m\n\u001b[0;32m----> 1\u001b[0m \u001b[43mpwskills4\u001b[49m\u001b[38;5;241;43m.\u001b[39;49m\u001b[43mchange_number\u001b[49m(\u001b[38;5;241m123632765\u001b[39m)\n",
      "\u001b[0;31mAttributeError\u001b[0m: type object 'pwskills4' has no attribute 'change_number'"
     ]
    }
   ],
   "source": [
    "pwskills4.change_number(123632765)"
   ]
  },
  {
   "cell_type": "code",
   "execution_count": 41,
   "id": "fd4a754a-0563-45a9-a5c5-10070f8717a5",
   "metadata": {},
   "outputs": [],
   "source": [
    "delattr(pwskills4, \"details\")"
   ]
  },
  {
   "cell_type": "code",
   "execution_count": 42,
   "id": "4fd57656-a2be-452a-a20e-dc205b9b34b6",
   "metadata": {},
   "outputs": [],
   "source": [
    "delattr(pwskills4, \"stud_details\")  \n",
    "#We can delete any method other than class method with delattr "
   ]
  },
  {
   "cell_type": "code",
   "execution_count": 43,
   "id": "ffc58a49-074d-419a-9bb1-f8547dfa9426",
   "metadata": {},
   "outputs": [],
   "source": [
    "delattr(pwskills4, \"mobile_num\")\n",
    "\n",
    "#Class variables can also be deleted using delattr or del"
   ]
  },
  {
   "cell_type": "code",
   "execution_count": null,
   "id": "93001a8e-8bb0-4f40-9cb9-a6d8e070c2b8",
   "metadata": {},
   "outputs": [],
   "source": []
  }
 ],
 "metadata": {
  "kernelspec": {
   "display_name": "Python 3 (ipykernel)",
   "language": "python",
   "name": "python3"
  },
  "language_info": {
   "codemirror_mode": {
    "name": "ipython",
    "version": 3
   },
   "file_extension": ".py",
   "mimetype": "text/x-python",
   "name": "python",
   "nbconvert_exporter": "python",
   "pygments_lexer": "ipython3",
   "version": "3.10.8"
  }
 },
 "nbformat": 4,
 "nbformat_minor": 5
}
