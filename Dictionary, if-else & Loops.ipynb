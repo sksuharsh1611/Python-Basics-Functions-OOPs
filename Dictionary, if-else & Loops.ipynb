{
 "cells": [
  {
   "cell_type": "code",
   "execution_count": 2,
   "id": "68f62448-0964-4cb0-93af-20cde89f8a34",
   "metadata": {},
   "outputs": [],
   "source": [
    "d1= {\"num\":[2,3,4], \"assignment\":(1,2,3,4,5),\"launch_date\":{12,34,54}}"
   ]
  },
  {
   "cell_type": "code",
   "execution_count": 3,
   "id": "be8533d7-921a-43d0-acc4-748ea3ac286b",
   "metadata": {},
   "outputs": [
    {
     "data": {
      "text/plain": [
       "{'num': [2, 3, 4], 'assignment': (1, 2, 3, 4, 5), 'launch_date': {12, 34, 54}}"
      ]
     },
     "execution_count": 3,
     "metadata": {},
     "output_type": "execute_result"
    }
   ],
   "source": [
    "d1"
   ]
  },
  {
   "cell_type": "code",
   "execution_count": 4,
   "id": "cdaa77b3-8646-44df-8442-26bd9f6b8e32",
   "metadata": {},
   "outputs": [
    {
     "ename": "SyntaxError",
     "evalue": "invalid syntax (1520960033.py, line 1)",
     "output_type": "error",
     "traceback": [
      "\u001b[0;36m  Cell \u001b[0;32mIn[4], line 1\u001b[0;36m\u001b[0m\n\u001b[0;31m    d1.append(\"class_time\":{1,2,3,2})\u001b[0m\n\u001b[0m                          ^\u001b[0m\n\u001b[0;31mSyntaxError\u001b[0m\u001b[0;31m:\u001b[0m invalid syntax\n"
     ]
    }
   ],
   "source": [
    "d1.append(\"class_time\":{1,2,3,2})\n",
    "d1"
   ]
  },
  {
   "cell_type": "code",
   "execution_count": 6,
   "id": "704c75c2-8163-45a6-89de-35f6770cc365",
   "metadata": {},
   "outputs": [],
   "source": [
    "d1= {\"num\":[2,3,4], \"assignment\":(1,2,3,4,5),\"launch_date\":{12,34,54},\"class_time\":{'web_dev':3,'python':8}}"
   ]
  },
  {
   "cell_type": "code",
   "execution_count": 7,
   "id": "d6fa98d4-0047-40e9-b285-11df0dda6ef7",
   "metadata": {},
   "outputs": [
    {
     "data": {
      "text/plain": [
       "{'num': [2, 3, 4],\n",
       " 'assignment': (1, 2, 3, 4, 5),\n",
       " 'launch_date': {12, 34, 54},\n",
       " 'class_time': {'web_dev': 3, 'python': 8}}"
      ]
     },
     "execution_count": 7,
     "metadata": {},
     "output_type": "execute_result"
    }
   ],
   "source": [
    "d1"
   ]
  },
  {
   "cell_type": "code",
   "execution_count": 8,
   "id": "41cf4c7f-fb3e-4782-bed8-1e558748b309",
   "metadata": {},
   "outputs": [
    {
     "data": {
      "text/plain": [
       "8"
      ]
     },
     "execution_count": 8,
     "metadata": {},
     "output_type": "execute_result"
    }
   ],
   "source": [
    "d1['class_time']['python']"
   ]
  },
  {
   "cell_type": "code",
   "execution_count": 9,
   "id": "e4981e5e-81ee-4b65-bd3a-5aa7aad08cc6",
   "metadata": {},
   "outputs": [],
   "source": [
    "d1['mentor']=[\"raj\",\"taj\",\"saaj\",\"laaj\"]"
   ]
  },
  {
   "cell_type": "code",
   "execution_count": 10,
   "id": "ba981f0a-9769-4e81-bcc4-34df2281d71e",
   "metadata": {},
   "outputs": [
    {
     "data": {
      "text/plain": [
       "{'num': [2, 3, 4],\n",
       " 'assignment': (1, 2, 3, 4, 5),\n",
       " 'launch_date': {12, 34, 54},\n",
       " 'class_time': {'web_dev': 3, 'python': 8},\n",
       " 'mentor': ['raj', 'taj', 'saaj', 'laaj']}"
      ]
     },
     "execution_count": 10,
     "metadata": {},
     "output_type": "execute_result"
    }
   ],
   "source": [
    "d1"
   ]
  },
  {
   "cell_type": "code",
   "execution_count": 11,
   "id": "b5adcc3a-a3b6-44a2-bfea-3b96cd1eccf6",
   "metadata": {},
   "outputs": [],
   "source": [
    "del d1['num']"
   ]
  },
  {
   "cell_type": "code",
   "execution_count": 12,
   "id": "c41ff197-653a-4ef9-b735-6cd80f4667b4",
   "metadata": {},
   "outputs": [
    {
     "data": {
      "text/plain": [
       "{'assignment': (1, 2, 3, 4, 5),\n",
       " 'launch_date': {12, 34, 54},\n",
       " 'class_time': {'web_dev': 3, 'python': 8},\n",
       " 'mentor': ['raj', 'taj', 'saaj', 'laaj']}"
      ]
     },
     "execution_count": 12,
     "metadata": {},
     "output_type": "execute_result"
    }
   ],
   "source": [
    "d1"
   ]
  },
  {
   "cell_type": "code",
   "execution_count": 13,
   "id": "5579e45d-bcf2-44c1-b66a-ee78b3623b21",
   "metadata": {},
   "outputs": [
    {
     "data": {
      "text/plain": [
       "dict_keys(['assignment', 'launch_date', 'class_time', 'mentor'])"
      ]
     },
     "execution_count": 13,
     "metadata": {},
     "output_type": "execute_result"
    }
   ],
   "source": [
    "#To find keys list from dict\n",
    "d1.keys()"
   ]
  },
  {
   "cell_type": "code",
   "execution_count": 14,
   "id": "93653a70-c041-4378-aec5-c74556f4d39b",
   "metadata": {},
   "outputs": [
    {
     "data": {
      "text/plain": [
       "['assignment', 'launch_date', 'class_time', 'mentor']"
      ]
     },
     "execution_count": 14,
     "metadata": {},
     "output_type": "execute_result"
    }
   ],
   "source": [
    "#to conver to list\n",
    "list(d1.keys())"
   ]
  },
  {
   "cell_type": "code",
   "execution_count": 15,
   "id": "9c07bfc2-e0d3-4459-b7e2-7470cd5ac92e",
   "metadata": {},
   "outputs": [
    {
     "data": {
      "text/plain": [
       "[(1, 2, 3, 4, 5),\n",
       " {12, 34, 54},\n",
       " {'web_dev': 3, 'python': 8},\n",
       " ['raj', 'taj', 'saaj', 'laaj']]"
      ]
     },
     "execution_count": 15,
     "metadata": {},
     "output_type": "execute_result"
    }
   ],
   "source": [
    "list(d1.values())  #TO fetch all the values"
   ]
  },
  {
   "cell_type": "code",
   "execution_count": 16,
   "id": "3c103fe3-8bcd-4df3-bdfa-a09e7b3d6b8c",
   "metadata": {},
   "outputs": [
    {
     "data": {
      "text/plain": [
       "dict_items([('assignment', (1, 2, 3, 4, 5)), ('launch_date', {34, 12, 54}), ('class_time', {'web_dev': 3, 'python': 8}), ('mentor', ['raj', 'taj', 'saaj', 'laaj'])])"
      ]
     },
     "execution_count": 16,
     "metadata": {},
     "output_type": "execute_result"
    }
   ],
   "source": [
    "#To fetch Key-value pair\n",
    "d1.items()"
   ]
  },
  {
   "cell_type": "code",
   "execution_count": 17,
   "id": "fc552d40-ae2d-4dff-9a81-f88bec480b03",
   "metadata": {},
   "outputs": [
    {
     "data": {
      "text/plain": [
       "[('assignment', (1, 2, 3, 4, 5)),\n",
       " ('launch_date', {12, 34, 54}),\n",
       " ('class_time', {'web_dev': 3, 'python': 8}),\n",
       " ('mentor', ['raj', 'taj', 'saaj', 'laaj'])]"
      ]
     },
     "execution_count": 17,
     "metadata": {},
     "output_type": "execute_result"
    }
   ],
   "source": [
    "#convert to list\n",
    "list(d1.items())"
   ]
  },
  {
   "cell_type": "code",
   "execution_count": 18,
   "id": "db394a56-6fa3-4249-b45f-8ebe34cdea41",
   "metadata": {},
   "outputs": [
    {
     "data": {
      "text/plain": [
       "(1, 2, 3, 4, 5)"
      ]
     },
     "execution_count": 18,
     "metadata": {},
     "output_type": "execute_result"
    }
   ],
   "source": [
    "d1.pop('assignment')"
   ]
  },
  {
   "cell_type": "code",
   "execution_count": 19,
   "id": "313b8c47-3593-4bac-afd7-38a9a9acce17",
   "metadata": {},
   "outputs": [
    {
     "data": {
      "text/plain": [
       "{'launch_date': {12, 34, 54},\n",
       " 'class_time': {'web_dev': 3, 'python': 8},\n",
       " 'mentor': ['raj', 'taj', 'saaj', 'laaj']}"
      ]
     },
     "execution_count": 19,
     "metadata": {},
     "output_type": "execute_result"
    }
   ],
   "source": [
    "d1"
   ]
  },
  {
   "cell_type": "code",
   "execution_count": 22,
   "id": "c45d4825-8a66-4818-8e71-31e04d959a68",
   "metadata": {},
   "outputs": [],
   "source": [
    "# Control Statement / Decision Making >>\n",
    "# if-else\n",
    "'''\n",
    "Q. \n",
    "if Marks > 80 then Batch=A1\n",
    "if Marks > 60\n",
    "if Marks\n",
    "\n",
    "'''"
   ]
  },
  {
   "cell_type": "code",
   "execution_count": 43,
   "id": "bfbb0e79-96da-42db-9f0c-05e40f40da5a",
   "metadata": {},
   "outputs": [
    {
     "name": "stdin",
     "output_type": "stream",
     "text": [
      "Enter your marks: 60\n"
     ]
    },
    {
     "name": "stdout",
     "output_type": "stream",
     "text": [
      "Batch: A1\n"
     ]
    }
   ],
   "source": [
    "marks=int(input(\"Enter your marks:\"))\n",
    "if(marks < 0):\n",
    "    print(\"Please enter Positive marks\")\n",
    "else:\n",
    "    if(marks >= 80):\n",
    "        print('Batch: A0')\n",
    "    elif(marks >= 60 and marks <80):\n",
    "        print('Batch: A1')\n",
    "    elif(marks >= 40 and marks <60):\n",
    "        print('Batch : A2')\n",
    "    else:\n",
    "        print('Batch : A3')\n"
   ]
  },
  {
   "cell_type": "code",
   "execution_count": 44,
   "id": "8eb674c2-c19d-463a-be9a-85cb1ea72277",
   "metadata": {},
   "outputs": [
    {
     "data": {
      "text/plain": [
       "(False, True, False, True)"
      ]
     },
     "execution_count": 44,
     "metadata": {},
     "output_type": "execute_result"
    }
   ],
   "source": [
    "10>67,10>=10,0<0,0>=0"
   ]
  },
  {
   "cell_type": "code",
   "execution_count": 47,
   "id": "0fa04a12-8b39-4e66-b9fc-e052558867db",
   "metadata": {},
   "outputs": [
    {
     "name": "stdin",
     "output_type": "stream",
     "text": [
      "Enter budget: 12\n"
     ]
    },
    {
     "name": "stdout",
     "output_type": "stream",
     "text": [
      "Will buy\n"
     ]
    }
   ],
   "source": [
    "#Simple If-else\n",
    "price=int(input(\"Enter budget:\"))\n",
    "if price > 1000:\n",
    "    print (\"Will not buy\")\n",
    "else:\n",
    "    print(\"Will buy\")"
   ]
  },
  {
   "cell_type": "code",
   "execution_count": 50,
   "id": "6881fee6-2d12-4292-b708-43b51506e9c5",
   "metadata": {},
   "outputs": [
    {
     "name": "stdin",
     "output_type": "stream",
     "text": [
      "Enter budget: 4\n"
     ]
    }
   ],
   "source": [
    "price=int(input(\"Enter budget:\"))\n",
    "if price > 1000:\n",
    "    print (\"Will not buy\")\n",
    "# else:\n",
    "#     print(\"Will buy\")"
   ]
  },
  {
   "cell_type": "code",
   "execution_count": 51,
   "id": "3222190c-bff6-4499-98a9-e87e2f7a007e",
   "metadata": {},
   "outputs": [
    {
     "name": "stdin",
     "output_type": "stream",
     "text": [
      "Enter budget: 7000\n"
     ]
    },
    {
     "name": "stdout",
     "output_type": "stream",
     "text": [
      "Will not buy\n",
      "Too costly bro\n"
     ]
    }
   ],
   "source": [
    "#Nested if-else\n",
    "price=int(input(\"Enter budget:\"))\n",
    "if price > 1000:\n",
    "    print (\"Will not buy\")\n",
    "    if price > 5000:\n",
    "        print(\"Too costly bro\")\n",
    "else:\n",
    "    print(\"Will buy\")"
   ]
  },
  {
   "cell_type": "code",
   "execution_count": 54,
   "id": "9470226d-27a6-4610-a84c-0dd0f7b50a36",
   "metadata": {},
   "outputs": [
    {
     "name": "stdin",
     "output_type": "stream",
     "text": [
      "Enter budget: 1800\n"
     ]
    },
    {
     "name": "stdout",
     "output_type": "stream",
     "text": [
      "Will not buy\n",
      "Ab itna bol rhe ho to le leta hu\n"
     ]
    }
   ],
   "source": [
    "price=int(input(\"Enter budget:\"))\n",
    "if price > 1000:\n",
    "    print (\"Will not buy\")\n",
    "    if price > 5000:\n",
    "        print(\"Too costly bro\")\n",
    "    elif price> 2000:\n",
    "        print(\"Lena to phir v nahi hai\")\n",
    "    elif price<2000:\n",
    "        print(\"Ab itna bol rhe ho to le leta hu\")\n",
    "else:\n",
    "    print(\"Will buy\")"
   ]
  },
  {
   "cell_type": "code",
   "execution_count": 61,
   "id": "317543a6-16d9-4b12-a0ef-4a0598a21c98",
   "metadata": {},
   "outputs": [
    {
     "data": {
      "text/plain": [
       "[1, 2, 2, 3, 4, 5, 6, 7, 8, 12]"
      ]
     },
     "execution_count": 61,
     "metadata": {},
     "output_type": "execute_result"
    }
   ],
   "source": [
    "l = [1,2,2,3,4,5,6,7,8,12]\n",
    "l"
   ]
  },
  {
   "cell_type": "code",
   "execution_count": 57,
   "id": "cf5733ed-0a0c-4aad-8eba-5b53bf1c30c3",
   "metadata": {},
   "outputs": [
    {
     "name": "stdout",
     "output_type": "stream",
     "text": [
      "2\n",
      "2\n",
      "2\n",
      "3\n",
      "4\n",
      "5\n",
      "6\n",
      "7\n",
      "8\n"
     ]
    },
    {
     "ename": "IndexError",
     "evalue": "list index out of range",
     "output_type": "error",
     "traceback": [
      "\u001b[0;31m---------------------------------------------------------------------------\u001b[0m",
      "\u001b[0;31mIndexError\u001b[0m                                Traceback (most recent call last)",
      "Cell \u001b[0;32mIn[57], line 2\u001b[0m\n\u001b[1;32m      1\u001b[0m \u001b[38;5;28;01mfor\u001b[39;00m i \u001b[38;5;129;01min\u001b[39;00m l:\n\u001b[0;32m----> 2\u001b[0m     \u001b[38;5;28mprint\u001b[39m(\u001b[43ml\u001b[49m\u001b[43m[\u001b[49m\u001b[43mi\u001b[49m\u001b[43m]\u001b[49m)\n",
      "\u001b[0;31mIndexError\u001b[0m: list index out of range"
     ]
    }
   ],
   "source": [
    "for i in l:\n",
    "    print(l[i])\n",
    "    "
   ]
  },
  {
   "cell_type": "code",
   "execution_count": 62,
   "id": "5297e912-4609-4d0c-aee8-a9279bd86c38",
   "metadata": {},
   "outputs": [
    {
     "data": {
      "text/plain": [
       "2"
      ]
     },
     "execution_count": 62,
     "metadata": {},
     "output_type": "execute_result"
    }
   ],
   "source": [
    "l[0] + 1"
   ]
  },
  {
   "cell_type": "code",
   "execution_count": 63,
   "id": "47f792e7-b52e-44ae-a4c9-48ab5b1ae7db",
   "metadata": {},
   "outputs": [],
   "source": [
    "l1=[]"
   ]
  },
  {
   "cell_type": "code",
   "execution_count": 64,
   "id": "f7053e29-b186-45b5-8413-11c83c382bc1",
   "metadata": {},
   "outputs": [],
   "source": [
    "l1.append(l[0]+1)"
   ]
  },
  {
   "cell_type": "code",
   "execution_count": 65,
   "id": "45e0db6d-e7ab-4ed9-9ce3-35599a3ab189",
   "metadata": {},
   "outputs": [
    {
     "data": {
      "text/plain": [
       "[2]"
      ]
     },
     "execution_count": 65,
     "metadata": {},
     "output_type": "execute_result"
    }
   ],
   "source": [
    "l1"
   ]
  },
  {
   "cell_type": "code",
   "execution_count": 68,
   "id": "a7569eb1-ba15-4e52-88df-d5e481932f5e",
   "metadata": {},
   "outputs": [
    {
     "name": "stdout",
     "output_type": "stream",
     "text": [
      "1\n",
      "2\n",
      "2\n",
      "3\n",
      "4\n",
      "5\n",
      "6\n",
      "7\n",
      "8\n",
      "12\n"
     ]
    }
   ],
   "source": [
    "for i in l:\n",
    "    print(i)"
   ]
  },
  {
   "cell_type": "code",
   "execution_count": 78,
   "id": "2fb05afe-770d-4403-bf83-4f080a1ddfb6",
   "metadata": {},
   "outputs": [
    {
     "data": {
      "text/plain": [
       "[2,\n",
       " 2,\n",
       " 3,\n",
       " 3,\n",
       " 4,\n",
       " 5,\n",
       " 6,\n",
       " 7,\n",
       " 8,\n",
       " 9,\n",
       " 13,\n",
       " 2,\n",
       " 3,\n",
       " 3,\n",
       " 4,\n",
       " 5,\n",
       " 6,\n",
       " 7,\n",
       " 8,\n",
       " 9,\n",
       " 13,\n",
       " 2,\n",
       " 3,\n",
       " 3,\n",
       " 4,\n",
       " 5,\n",
       " 6,\n",
       " 7,\n",
       " 8,\n",
       " 9,\n",
       " 13,\n",
       " 2,\n",
       " 3,\n",
       " 3,\n",
       " 4,\n",
       " 5,\n",
       " 6,\n",
       " 7,\n",
       " 8,\n",
       " 9,\n",
       " 13,\n",
       " 2,\n",
       " 3,\n",
       " 3,\n",
       " 4,\n",
       " 5,\n",
       " 6,\n",
       " 7,\n",
       " 8,\n",
       " 9,\n",
       " 13]"
      ]
     },
     "execution_count": 78,
     "metadata": {},
     "output_type": "execute_result"
    }
   ],
   "source": [
    "for i in l:\n",
    "    l1.append(i+1)\n",
    "l1"
   ]
  },
  {
   "cell_type": "code",
   "execution_count": 73,
   "id": "3b310eff-75ac-4f3a-be1c-ad883f1ff636",
   "metadata": {},
   "outputs": [
    {
     "name": "stdin",
     "output_type": "stream",
     "text": [
      "Enter Table to print: 10\n"
     ]
    },
    {
     "ename": "TypeError",
     "evalue": "'int' object is not iterable",
     "output_type": "error",
     "traceback": [
      "\u001b[0;31m---------------------------------------------------------------------------\u001b[0m",
      "\u001b[0;31mTypeError\u001b[0m                                 Traceback (most recent call last)",
      "Cell \u001b[0;32mIn[73], line 3\u001b[0m\n\u001b[1;32m      1\u001b[0m num\u001b[38;5;241m=\u001b[39m \u001b[38;5;28mint\u001b[39m(\u001b[38;5;28minput\u001b[39m(\u001b[38;5;124m\"\u001b[39m\u001b[38;5;124mEnter Table to print:\u001b[39m\u001b[38;5;124m\"\u001b[39m))\n\u001b[1;32m      2\u001b[0m index\u001b[38;5;241m=\u001b[39m\u001b[38;5;241m10\u001b[39m\n\u001b[0;32m----> 3\u001b[0m \u001b[38;5;28;01mfor\u001b[39;00m i \u001b[38;5;129;01min\u001b[39;00m index:\n\u001b[1;32m      4\u001b[0m          \u001b[38;5;28mprint\u001b[39m(num ,\u001b[38;5;124m'\u001b[39m\u001b[38;5;124m*\u001b[39m\u001b[38;5;124m'\u001b[39m, index ,\u001b[38;5;124m'\u001b[39m\u001b[38;5;124m=\u001b[39m\u001b[38;5;124m'\u001b[39m, num\u001b[38;5;241m*\u001b[39mindex)\n",
      "\u001b[0;31mTypeError\u001b[0m: 'int' object is not iterable"
     ]
    }
   ],
   "source": [
    "num= int(input(\"Enter Table to print:\"))\n",
    "index=10\n",
    "for i in index:\n",
    "         print(num ,'*', index ,'=', num*index)\n",
    "         "
   ]
  },
  {
   "cell_type": "code",
   "execution_count": 79,
   "id": "db70257d-a30c-4a63-bc66-c27b95ff3b1a",
   "metadata": {},
   "outputs": [],
   "source": [
    "l=[\"suharsh\",'kumar','pwskills','course']"
   ]
  },
  {
   "cell_type": "code",
   "execution_count": 84,
   "id": "f8524a0e-2bc0-4382-987c-0fae64019008",
   "metadata": {},
   "outputs": [
    {
     "name": "stdout",
     "output_type": "stream",
     "text": [
      "suharsh\n",
      "kumar\n",
      "pwskills\n",
      "course\n"
     ]
    },
    {
     "data": {
      "text/plain": [
       "['SUHARSH', 'KUMAR', 'PWSKILLS', 'COURSE']"
      ]
     },
     "execution_count": 84,
     "metadata": {},
     "output_type": "execute_result"
    }
   ],
   "source": [
    "l1=[]\n",
    "for i in l:\n",
    "    print(i)\n",
    "    l1.append(i.upper())\n",
    "l1"
   ]
  },
  {
   "cell_type": "code",
   "execution_count": 85,
   "id": "6acebb00-ec70-4bef-8350-d67d3f69a3da",
   "metadata": {},
   "outputs": [],
   "source": [
    "l=[1,2,2,4,5,6,\"suharsh\",\"kumar\",154,3.24,\"ab\"]"
   ]
  },
  {
   "cell_type": "code",
   "execution_count": 86,
   "id": "ea44b2bd-88b3-4855-9590-09feb5778777",
   "metadata": {},
   "outputs": [
    {
     "data": {
      "text/plain": [
       "[1, 2, 2, 4, 5, 6, 'suharsh', 'kumar', 154, 3.24, 'ab']"
      ]
     },
     "execution_count": 86,
     "metadata": {},
     "output_type": "execute_result"
    }
   ],
   "source": [
    "l"
   ]
  },
  {
   "cell_type": "code",
   "execution_count": 94,
   "id": "a95224ad-d4dd-425d-894b-93b32618e060",
   "metadata": {},
   "outputs": [
    {
     "data": {
      "text/plain": [
       "([1, 2, 2, 4, 5, 6, 154, 3.24], ['suharsh', 'kumar', 'ab'])"
      ]
     },
     "execution_count": 94,
     "metadata": {},
     "output_type": "execute_result"
    }
   ],
   "source": [
    "#Put strings in one list and integers in other\n",
    "l1_num=[]\n",
    "l2_str=[]\n",
    "for i in l:\n",
    "    if(type(i) == int or type(i) == float):\n",
    "        l1_num.append(i)\n",
    "    else:\n",
    "        l2_str.append(i)\n",
    "\n",
    "l1_num,l2_str\n",
    "    "
   ]
  },
  {
   "cell_type": "code",
   "execution_count": 95,
   "id": "6226705c-d467-4d07-9102-4797cb0296bf",
   "metadata": {},
   "outputs": [
    {
     "ename": "ZeroDivisionError",
     "evalue": "division by zero",
     "output_type": "error",
     "traceback": [
      "\u001b[0;31m---------------------------------------------------------------------------\u001b[0m",
      "\u001b[0;31mZeroDivisionError\u001b[0m                         Traceback (most recent call last)",
      "Cell \u001b[0;32mIn[95], line 1\u001b[0m\n\u001b[0;32m----> 1\u001b[0m \u001b[38;5;241;43m1\u001b[39;49m\u001b[38;5;241;43m/\u001b[39;49m\u001b[38;5;28;43;01mFalse\u001b[39;49;00m\n",
      "\u001b[0;31mZeroDivisionError\u001b[0m: division by zero"
     ]
    }
   ],
   "source": [
    "1/False\n"
   ]
  },
  {
   "cell_type": "code",
   "execution_count": 96,
   "id": "bb98fb50-6292-4162-aba1-417ebb5865f0",
   "metadata": {},
   "outputs": [
    {
     "data": {
      "text/plain": [
       "(-1+3j)"
      ]
     },
     "execution_count": 96,
     "metadata": {},
     "output_type": "execute_result"
    }
   ],
   "source": [
    "num1= 23\n",
    "\n",
    "num2= 44\n",
    "\n",
    "num2= 2+3j\n",
    "\n",
    "num1= num2.imag\n",
    "\n",
    "num2-num1"
   ]
  },
  {
   "cell_type": "code",
   "execution_count": 99,
   "id": "c8c6d009-9ae1-46dd-b6e0-5a7ed5a872de",
   "metadata": {},
   "outputs": [],
   "source": [
    "# 20%_num  = 1 \n",
    "Num_100   =2\n",
    "# Pw-skills   =1\n",
    "_pw_skills=2"
   ]
  },
  {
   "cell_type": "code",
   "execution_count": 103,
   "id": "325e42db-092f-421a-a0f4-8264bd48a397",
   "metadata": {},
   "outputs": [
    {
     "ename": "TypeError",
     "evalue": "'str' object does not support item assignment",
     "output_type": "error",
     "traceback": [
      "\u001b[0;31m---------------------------------------------------------------------------\u001b[0m",
      "\u001b[0;31mTypeError\u001b[0m                                 Traceback (most recent call last)",
      "Cell \u001b[0;32mIn[103], line 3\u001b[0m\n\u001b[1;32m      1\u001b[0m Name \u001b[38;5;241m=\u001b[39m \u001b[38;5;124m'\u001b[39m\u001b[38;5;124mpwskills\u001b[39m\u001b[38;5;124m'\u001b[39m\n\u001b[0;32m----> 3\u001b[0m \u001b[43mName\u001b[49m\u001b[43m[\u001b[49m\u001b[38;5;241;43m0\u001b[39;49m\u001b[43m]\u001b[49m \u001b[38;5;241m=\u001b[39m \u001b[38;5;124m'\u001b[39m\u001b[38;5;124mP\u001b[39m\u001b[38;5;124m'\u001b[39m\n",
      "\u001b[0;31mTypeError\u001b[0m: 'str' object does not support item assignment"
     ]
    }
   ],
   "source": [
    "Name = 'pwskills'\n",
    "\n",
    "Name[0] = 'P'"
   ]
  },
  {
   "cell_type": "code",
   "execution_count": 102,
   "id": "fca13a83-bd7d-48a0-bb47-0f38e03ab0b9",
   "metadata": {},
   "outputs": [
    {
     "data": {
      "text/plain": [
       "True"
      ]
     },
     "execution_count": 102,
     "metadata": {},
     "output_type": "execute_result"
    }
   ],
   "source": [
    "'pwskills'.upper().lower().isalnum()"
   ]
  },
  {
   "cell_type": "code",
   "execution_count": 104,
   "id": "5739b650-a5e0-49a8-b914-03a7592f4f6b",
   "metadata": {},
   "outputs": [
    {
     "data": {
      "text/plain": [
       "'suhkum'"
      ]
     },
     "execution_count": 104,
     "metadata": {},
     "output_type": "execute_result"
    }
   ],
   "source": [
    "a=\"suh\"+\"kum\"\n",
    "a"
   ]
  },
  {
   "cell_type": "code",
   "execution_count": 105,
   "id": "2d6412ba-8421-4219-a3ed-70a06af7e1a4",
   "metadata": {},
   "outputs": [
    {
     "ename": "ZeroDivisionError",
     "evalue": "division by zero",
     "output_type": "error",
     "traceback": [
      "\u001b[0;31m---------------------------------------------------------------------------\u001b[0m",
      "\u001b[0;31mZeroDivisionError\u001b[0m                         Traceback (most recent call last)",
      "Cell \u001b[0;32mIn[105], line 1\u001b[0m\n\u001b[0;32m----> 1\u001b[0m \u001b[38;5;28;43;01mTrue\u001b[39;49;00m\u001b[38;5;241;43m/\u001b[39;49m\u001b[38;5;28;43;01mFalse\u001b[39;49;00m\n",
      "\u001b[0;31mZeroDivisionError\u001b[0m: division by zero"
     ]
    }
   ],
   "source": [
    "True/False\n"
   ]
  },
  {
   "cell_type": "code",
   "execution_count": 106,
   "id": "a3dba2ee-cbaa-4d9b-92c3-2eaff47420ac",
   "metadata": {},
   "outputs": [
    {
     "data": {
      "text/plain": [
       "(-1+3j)"
      ]
     },
     "execution_count": 106,
     "metadata": {},
     "output_type": "execute_result"
    }
   ],
   "source": [
    "num1= 23\n",
    "\n",
    "num2= 44\n",
    "\n",
    "num2= 2+3j\n",
    "\n",
    "num1= num2.imag\n",
    "\n",
    "num2-num1"
   ]
  },
  {
   "cell_type": "code",
   "execution_count": 107,
   "id": "c9bfa06e-5f7e-48a3-ace0-6d6096bee8f3",
   "metadata": {},
   "outputs": [
    {
     "data": {
      "text/plain": [
       "False"
      ]
     },
     "execution_count": 107,
     "metadata": {},
     "output_type": "execute_result"
    }
   ],
   "source": [
    "'s'.upper().lower().isupper()"
   ]
  },
  {
   "cell_type": "code",
   "execution_count": null,
   "id": "6dceddcd-b3e8-471e-b98c-807ca946addf",
   "metadata": {},
   "outputs": [],
   "source": []
  }
 ],
 "metadata": {
  "kernelspec": {
   "display_name": "Python 3 (ipykernel)",
   "language": "python",
   "name": "python3"
  },
  "language_info": {
   "codemirror_mode": {
    "name": "ipython",
    "version": 3
   },
   "file_extension": ".py",
   "mimetype": "text/x-python",
   "name": "python",
   "nbconvert_exporter": "python",
   "pygments_lexer": "ipython3",
   "version": "3.10.8"
  }
 },
 "nbformat": 4,
 "nbformat_minor": 5
}
