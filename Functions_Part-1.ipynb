{
 "cells": [
  {
   "cell_type": "code",
   "execution_count": 1,
   "id": "2b6e8f6a-8bb7-4c86-b433-4db7ab675dc9",
   "metadata": {},
   "outputs": [
    {
     "name": "stdout",
     "output_type": "stream",
     "text": [
      "This is print\n"
     ]
    }
   ],
   "source": [
    "print(\"This is print\")"
   ]
  },
  {
   "cell_type": "code",
   "execution_count": 2,
   "id": "b15aade8-e6c2-4949-9f66-ef1e4481e5d4",
   "metadata": {},
   "outputs": [],
   "source": [
    "l=[32,34,52]"
   ]
  },
  {
   "cell_type": "code",
   "execution_count": 3,
   "id": "dd1946ab-2e4a-4a53-9141-f1e9fda88d9f",
   "metadata": {},
   "outputs": [
    {
     "data": {
      "text/plain": [
       "3"
      ]
     },
     "execution_count": 3,
     "metadata": {},
     "output_type": "execute_result"
    }
   ],
   "source": [
    "len(l)"
   ]
  },
  {
   "cell_type": "code",
   "execution_count": 4,
   "id": "efed6da1-73b1-49cf-97f6-f7b01b463586",
   "metadata": {},
   "outputs": [
    {
     "data": {
      "text/plain": [
       "list"
      ]
     },
     "execution_count": 4,
     "metadata": {},
     "output_type": "execute_result"
    }
   ],
   "source": [
    "type(l)"
   ]
  },
  {
   "cell_type": "code",
   "execution_count": 5,
   "id": "f174ff88-0972-4648-8758-4ed4f274c604",
   "metadata": {},
   "outputs": [
    {
     "ename": "SyntaxError",
     "evalue": "incomplete input (847875809.py, line 2)",
     "output_type": "error",
     "traceback": [
      "\u001b[0;36m  Cell \u001b[0;32mIn[5], line 2\u001b[0;36m\u001b[0m\n\u001b[0;31m    \u001b[0m\n\u001b[0m    ^\u001b[0m\n\u001b[0;31mSyntaxError\u001b[0m\u001b[0;31m:\u001b[0m incomplete input\n"
     ]
    }
   ],
   "source": [
    " def test():\n",
    "        "
   ]
  },
  {
   "cell_type": "code",
   "execution_count": 6,
   "id": "2bcbb64e-9940-4886-b892-04cf23ad3411",
   "metadata": {},
   "outputs": [],
   "source": [
    "def test():\n",
    "    pass"
   ]
  },
  {
   "cell_type": "code",
   "execution_count": 7,
   "id": "afbe7237-e0cb-4cbe-a53f-45c9881e5d71",
   "metadata": {},
   "outputs": [],
   "source": [
    "def test1():\n",
    "    print(\"This is first fucntion\")"
   ]
  },
  {
   "cell_type": "code",
   "execution_count": 8,
   "id": "0ad185eb-7958-481c-8abb-0ae9b6a6b459",
   "metadata": {},
   "outputs": [
    {
     "name": "stdout",
     "output_type": "stream",
     "text": [
      "This is first fucntion\n"
     ]
    }
   ],
   "source": [
    "test1()"
   ]
  },
  {
   "cell_type": "code",
   "execution_count": 9,
   "id": "49b863c0-eada-41f3-b2d7-96ce06372b5b",
   "metadata": {},
   "outputs": [
    {
     "name": "stdout",
     "output_type": "stream",
     "text": [
      "This is first fucntion\n"
     ]
    }
   ],
   "source": [
    "test1()"
   ]
  },
  {
   "cell_type": "code",
   "execution_count": 10,
   "id": "fcbc9d8b-7f46-466b-8b7b-87b6c6869dbf",
   "metadata": {},
   "outputs": [
    {
     "name": "stdout",
     "output_type": "stream",
     "text": [
      "This is first fucntion\n"
     ]
    },
    {
     "ename": "TypeError",
     "evalue": "unsupported operand type(s) for +: 'NoneType' and 'str'",
     "output_type": "error",
     "traceback": [
      "\u001b[0;31m---------------------------------------------------------------------------\u001b[0m",
      "\u001b[0;31mTypeError\u001b[0m                                 Traceback (most recent call last)",
      "Cell \u001b[0;32mIn[10], line 1\u001b[0m\n\u001b[0;32m----> 1\u001b[0m \u001b[43mtest1\u001b[49m\u001b[43m(\u001b[49m\u001b[43m)\u001b[49m\u001b[38;5;241;43m+\u001b[39;49m\u001b[38;5;124;43m\"\u001b[39;49m\u001b[38;5;124;43mSuharsh\u001b[39;49m\u001b[38;5;124;43m\"\u001b[39;49m\n",
      "\u001b[0;31mTypeError\u001b[0m: unsupported operand type(s) for +: 'NoneType' and 'str'"
     ]
    }
   ],
   "source": [
    "test1()+\"Suharsh\""
   ]
  },
  {
   "cell_type": "code",
   "execution_count": 11,
   "id": "8e216239-d878-4791-be2b-ab889ae16224",
   "metadata": {},
   "outputs": [],
   "source": [
    "# print () >> return NoneType of data"
   ]
  },
  {
   "cell_type": "code",
   "execution_count": 12,
   "id": "1310ac8a-960b-4e4c-95d3-5956b824bbc0",
   "metadata": {},
   "outputs": [],
   "source": [
    "# We use return in case of function for operations\n"
   ]
  },
  {
   "cell_type": "code",
   "execution_count": 13,
   "id": "64c1d915-249f-4842-873b-151af5238057",
   "metadata": {},
   "outputs": [],
   "source": [
    "def test2():\n",
    "    return \"This is my first return\""
   ]
  },
  {
   "cell_type": "code",
   "execution_count": 14,
   "id": "cd764c28-275c-4ad8-b825-a548daa0d321",
   "metadata": {},
   "outputs": [
    {
     "data": {
      "text/plain": [
       "'This is my first returnSuharsh'"
      ]
     },
     "execution_count": 14,
     "metadata": {},
     "output_type": "execute_result"
    }
   ],
   "source": [
    "test2() + \"Suharsh\""
   ]
  },
  {
   "cell_type": "code",
   "execution_count": 15,
   "id": "caa2a9a8-05a6-46e2-9e6f-0dcdc58c54bd",
   "metadata": {},
   "outputs": [],
   "source": [
    "def test3():\n",
    "    return \"suharsh\",23,345.54,[2,4,5]"
   ]
  },
  {
   "cell_type": "code",
   "execution_count": 16,
   "id": "5fabc3ae-dd3a-40eb-a94b-3c503343a4ad",
   "metadata": {},
   "outputs": [
    {
     "data": {
      "text/plain": [
       "('suharsh', 23, 345.54, [2, 4, 5])"
      ]
     },
     "execution_count": 16,
     "metadata": {},
     "output_type": "execute_result"
    }
   ],
   "source": [
    "test3()"
   ]
  },
  {
   "cell_type": "code",
   "execution_count": 17,
   "id": "186a9cbb-43e5-4e30-a8ff-1f381516a238",
   "metadata": {},
   "outputs": [],
   "source": [
    "a,b,c,d=test3()"
   ]
  },
  {
   "cell_type": "code",
   "execution_count": 18,
   "id": "bad9d63e-f18b-429d-a570-9478086ced72",
   "metadata": {},
   "outputs": [
    {
     "data": {
      "text/plain": [
       "'suharsh'"
      ]
     },
     "execution_count": 18,
     "metadata": {},
     "output_type": "execute_result"
    }
   ],
   "source": [
    "a"
   ]
  },
  {
   "cell_type": "code",
   "execution_count": 19,
   "id": "1fb71360-62c4-4f38-803a-365f8d035321",
   "metadata": {},
   "outputs": [
    {
     "data": {
      "text/plain": [
       "23"
      ]
     },
     "execution_count": 19,
     "metadata": {},
     "output_type": "execute_result"
    }
   ],
   "source": [
    "b"
   ]
  },
  {
   "cell_type": "code",
   "execution_count": 20,
   "id": "b371a751-fc39-4fca-85d6-274710536318",
   "metadata": {},
   "outputs": [
    {
     "data": {
      "text/plain": [
       "345.54"
      ]
     },
     "execution_count": 20,
     "metadata": {},
     "output_type": "execute_result"
    }
   ],
   "source": [
    "c"
   ]
  },
  {
   "cell_type": "code",
   "execution_count": 21,
   "id": "9948b872-f124-4b0e-b758-94754bed9ba4",
   "metadata": {},
   "outputs": [
    {
     "data": {
      "text/plain": [
       "[2, 4, 5]"
      ]
     },
     "execution_count": 21,
     "metadata": {},
     "output_type": "execute_result"
    }
   ],
   "source": [
    "d"
   ]
  },
  {
   "cell_type": "code",
   "execution_count": 22,
   "id": "c1ae8679-72f5-4e90-bd47-b76e17f2413a",
   "metadata": {},
   "outputs": [],
   "source": [
    "def test4():\n",
    "    a=5+6/7\n",
    "    return a"
   ]
  },
  {
   "cell_type": "code",
   "execution_count": 23,
   "id": "3be073f8-5881-43fb-815d-6cef7dd3fe91",
   "metadata": {},
   "outputs": [
    {
     "data": {
      "text/plain": [
       "5.857142857142857"
      ]
     },
     "execution_count": 23,
     "metadata": {},
     "output_type": "execute_result"
    }
   ],
   "source": [
    "test4()"
   ]
  },
  {
   "cell_type": "code",
   "execution_count": 25,
   "id": "68077864-49c3-4128-bae3-ce585c5aa419",
   "metadata": {},
   "outputs": [],
   "source": [
    "def test5(a,b,c):\n",
    "    d= a+b/c\n",
    "    return d"
   ]
  },
  {
   "cell_type": "code",
   "execution_count": 26,
   "id": "b358c394-d870-4125-8e92-cc44fdf8a73e",
   "metadata": {},
   "outputs": [
    {
     "ename": "TypeError",
     "evalue": "test5() missing 3 required positional arguments: 'a', 'b', and 'c'",
     "output_type": "error",
     "traceback": [
      "\u001b[0;31m---------------------------------------------------------------------------\u001b[0m",
      "\u001b[0;31mTypeError\u001b[0m                                 Traceback (most recent call last)",
      "Cell \u001b[0;32mIn[26], line 1\u001b[0m\n\u001b[0;32m----> 1\u001b[0m \u001b[43mtest5\u001b[49m\u001b[43m(\u001b[49m\u001b[43m)\u001b[49m\n",
      "\u001b[0;31mTypeError\u001b[0m: test5() missing 3 required positional arguments: 'a', 'b', and 'c'"
     ]
    }
   ],
   "source": [
    "test5()"
   ]
  },
  {
   "cell_type": "code",
   "execution_count": 27,
   "id": "1eb32f84-3485-4298-8b43-9b73db769d62",
   "metadata": {},
   "outputs": [
    {
     "data": {
      "text/plain": [
       "4.75"
      ]
     },
     "execution_count": 27,
     "metadata": {},
     "output_type": "execute_result"
    }
   ],
   "source": [
    "test5(4,6,8)"
   ]
  },
  {
   "cell_type": "code",
   "execution_count": 28,
   "id": "9ad2a1b0-6a71-46db-bff0-f5ab9cb48fe7",
   "metadata": {},
   "outputs": [],
   "source": [
    "def test6(a,b):\n",
    "    return a+b"
   ]
  },
  {
   "cell_type": "code",
   "execution_count": 29,
   "id": "a0c17f62-c574-4bdd-b4c7-0796ffe152f0",
   "metadata": {},
   "outputs": [
    {
     "data": {
      "text/plain": [
       "7"
      ]
     },
     "execution_count": 29,
     "metadata": {},
     "output_type": "execute_result"
    }
   ],
   "source": [
    "test6(3,4)"
   ]
  },
  {
   "cell_type": "code",
   "execution_count": 31,
   "id": "d2efa1cd-c7e9-4287-a38b-0daeae066788",
   "metadata": {},
   "outputs": [
    {
     "data": {
      "text/plain": [
       "'suharsh Kumar'"
      ]
     },
     "execution_count": 31,
     "metadata": {},
     "output_type": "execute_result"
    }
   ],
   "source": [
    "test6(\"suharsh\",\" Kumar\")"
   ]
  },
  {
   "cell_type": "code",
   "execution_count": 32,
   "id": "f597cd1c-954c-4503-9a39-7c829a1a20be",
   "metadata": {},
   "outputs": [
    {
     "data": {
      "text/plain": [
       "[1, 2, 3, 6, 7, 8]"
      ]
     },
     "execution_count": 32,
     "metadata": {},
     "output_type": "execute_result"
    }
   ],
   "source": [
    "test6([1,2,3],[6,7,8])"
   ]
  },
  {
   "cell_type": "code",
   "execution_count": 33,
   "id": "5862bebb-ed4c-4472-8108-219cb0cee73e",
   "metadata": {},
   "outputs": [],
   "source": [
    "l=[1,2,3,45,6,7,8,\"suharsh\",\"joy\",[1,2,3]]"
   ]
  },
  {
   "cell_type": "code",
   "execution_count": 34,
   "id": "7c3fd91a-eda3-4f27-af1c-20708e42f710",
   "metadata": {},
   "outputs": [],
   "source": [
    "#Fetch integers and append into new list"
   ]
  },
  {
   "cell_type": "code",
   "execution_count": 36,
   "id": "9a851efa-3c49-4cc0-8849-038eacad58a8",
   "metadata": {},
   "outputs": [],
   "source": [
    "l1=[]\n",
    "for i in l:\n",
    "    if type(i) == int or type(i) == float:\n",
    "        l1.append(i)"
   ]
  },
  {
   "cell_type": "code",
   "execution_count": 37,
   "id": "8dd7ddba-d3d5-4968-a511-208a0247e1f6",
   "metadata": {},
   "outputs": [
    {
     "data": {
      "text/plain": [
       "[1, 2, 3, 45, 6, 7, 8]"
      ]
     },
     "execution_count": 37,
     "metadata": {},
     "output_type": "execute_result"
    }
   ],
   "source": [
    "l1"
   ]
  },
  {
   "cell_type": "code",
   "execution_count": 38,
   "id": "06b2cf10-1716-4402-be3e-7e81a8c42b98",
   "metadata": {},
   "outputs": [],
   "source": [
    "def test7(l):\n",
    "    l1=[]\n",
    "    for i in l:\n",
    "        if type(i) == int or type(i) == float:\n",
    "            l1.append(i)\n",
    "    return l1\n"
   ]
  },
  {
   "cell_type": "code",
   "execution_count": 39,
   "id": "60e3abfd-02d2-417c-9e33-590aca08f2c2",
   "metadata": {},
   "outputs": [
    {
     "data": {
      "text/plain": [
       "[1, 2, 3, 45, 6, 7, 8]"
      ]
     },
     "execution_count": 39,
     "metadata": {},
     "output_type": "execute_result"
    }
   ],
   "source": [
    "test7(l)"
   ]
  },
  {
   "cell_type": "code",
   "execution_count": 40,
   "id": "9955f6b1-9731-4bdd-bf09-372a2152c8b2",
   "metadata": {},
   "outputs": [],
   "source": [
    "l2=[1,34,78.6,645,43.2,44,.5]"
   ]
  },
  {
   "cell_type": "code",
   "execution_count": 41,
   "id": "a7f84253-70fb-4ae5-a00c-a481b8e6a54d",
   "metadata": {},
   "outputs": [
    {
     "data": {
      "text/plain": [
       "[1, 34, 78.6, 645, 43.2, 44, 0.5]"
      ]
     },
     "execution_count": 41,
     "metadata": {},
     "output_type": "execute_result"
    }
   ],
   "source": [
    "test7(l2)"
   ]
  },
  {
   "cell_type": "code",
   "execution_count": 42,
   "id": "39dbce95-94e9-4458-ba69-4265b75dd421",
   "metadata": {},
   "outputs": [
    {
     "data": {
      "text/plain": [
       "[1, 2, 3, 45, 6, 7, 8, 'suharsh', 'joy', [1, 2, 3]]"
      ]
     },
     "execution_count": 42,
     "metadata": {},
     "output_type": "execute_result"
    }
   ],
   "source": [
    "l"
   ]
  },
  {
   "cell_type": "code",
   "execution_count": 43,
   "id": "c7092a1f-a5f9-4469-a177-e0b7ae808bdc",
   "metadata": {},
   "outputs": [],
   "source": [
    "def test8(a):\n",
    "    l3 = []\n",
    "    for i in a:\n",
    "        if type(i) == list:\n",
    "            for j in i:\n",
    "                l3.append(j)\n",
    "        else:\n",
    "            if type(i) == int or type(i) == float:\n",
    "                l3.append(i)\n",
    "    return l3\n",
    "                "
   ]
  },
  {
   "cell_type": "code",
   "execution_count": 44,
   "id": "03e254c8-9c6f-4a5a-bcd7-d9d729ec06f2",
   "metadata": {},
   "outputs": [
    {
     "data": {
      "text/plain": [
       "[1, 2, 3, 45, 6, 7, 8, 1, 2, 3]"
      ]
     },
     "execution_count": 44,
     "metadata": {},
     "output_type": "execute_result"
    }
   ],
   "source": [
    "test8(l)"
   ]
  },
  {
   "cell_type": "code",
   "execution_count": 45,
   "id": "7ffaa73e-5aaf-4c56-b592-df7b2f90f1cc",
   "metadata": {},
   "outputs": [
    {
     "data": {
      "text/plain": [
       "[1, 2, 3, 45, 6, 7, 8, 'suharsh', 'joy', [1, 2, 3]]"
      ]
     },
     "execution_count": 45,
     "metadata": {},
     "output_type": "execute_result"
    }
   ],
   "source": [
    "l"
   ]
  },
  {
   "cell_type": "code",
   "execution_count": 47,
   "id": "7c7554d0-e5ef-4590-b0a2-c71a8f531364",
   "metadata": {},
   "outputs": [],
   "source": [
    "def test9(a):\n",
    "    \"\"\"\"This is my function to extract int data from list\"\"\"\n",
    "    \n",
    "    l3 = []\n",
    "    for i in a:\n",
    "        if type(i) == list:\n",
    "            for j in i:\n",
    "                l3.append(j)\n",
    "        else:\n",
    "            if type(i) == int or type(i) == float:\n",
    "                l3.append(i)\n",
    "    return l3"
   ]
  },
  {
   "cell_type": "code",
   "execution_count": 48,
   "id": "d63ea110-5414-4983-93eb-9165243b113b",
   "metadata": {},
   "outputs": [
    {
     "ename": "TypeError",
     "evalue": "test9() missing 1 required positional argument: 'a'",
     "output_type": "error",
     "traceback": [
      "\u001b[0;31m---------------------------------------------------------------------------\u001b[0m",
      "\u001b[0;31mTypeError\u001b[0m                                 Traceback (most recent call last)",
      "Cell \u001b[0;32mIn[48], line 1\u001b[0m\n\u001b[0;32m----> 1\u001b[0m \u001b[43mtest9\u001b[49m\u001b[43m(\u001b[49m\u001b[43m)\u001b[49m\n",
      "\u001b[0;31mTypeError\u001b[0m: test9() missing 1 required positional argument: 'a'"
     ]
    }
   ],
   "source": [
    "test9()"
   ]
  },
  {
   "cell_type": "code",
   "execution_count": 49,
   "id": "cc897aa0-e221-4c74-acde-868f4729865d",
   "metadata": {},
   "outputs": [],
   "source": [
    "def test10(a,b):\n",
    "    return a+b"
   ]
  },
  {
   "cell_type": "code",
   "execution_count": 50,
   "id": "547c9921-2d5c-41b0-805a-669b560fba94",
   "metadata": {},
   "outputs": [],
   "source": [
    "# To make dynamic inputs to functions/\n"
   ]
  },
  {
   "cell_type": "code",
   "execution_count": 51,
   "id": "f63b5dbf-ae33-41ba-8a28-d397f9b6b03a",
   "metadata": {},
   "outputs": [],
   "source": [
    "def test11(*args):\n",
    "    return args"
   ]
  },
  {
   "cell_type": "code",
   "execution_count": 52,
   "id": "7445ec18-78db-4108-ab06-c056369162e1",
   "metadata": {},
   "outputs": [
    {
     "data": {
      "text/plain": [
       "tuple"
      ]
     },
     "execution_count": 52,
     "metadata": {},
     "output_type": "execute_result"
    }
   ],
   "source": [
    "type(test11())"
   ]
  },
  {
   "cell_type": "code",
   "execution_count": 53,
   "id": "92c1fa31-2a10-4565-8327-29deccf99855",
   "metadata": {},
   "outputs": [
    {
     "data": {
      "text/plain": [
       "(1, 2, 3, 4)"
      ]
     },
     "execution_count": 53,
     "metadata": {},
     "output_type": "execute_result"
    }
   ],
   "source": [
    "test11(1,2,3,4)"
   ]
  },
  {
   "cell_type": "code",
   "execution_count": 54,
   "id": "7f759580-aed8-4748-a674-78c27eccad8f",
   "metadata": {},
   "outputs": [],
   "source": [
    "# *args >> streik means N number of arguments can be passed in a function"
   ]
  },
  {
   "cell_type": "code",
   "execution_count": 55,
   "id": "2be9849b-3111-4561-af7c-b781bcb7d504",
   "metadata": {},
   "outputs": [],
   "source": [
    "def test12(*suharsh):\n",
    "    return suharsh"
   ]
  },
  {
   "cell_type": "code",
   "execution_count": 56,
   "id": "88abe7d5-21d3-4e43-b367-e058bfa8ed1d",
   "metadata": {},
   "outputs": [
    {
     "data": {
      "text/plain": [
       "(12, 3, 4, 5, 'sun')"
      ]
     },
     "execution_count": 56,
     "metadata": {},
     "output_type": "execute_result"
    }
   ],
   "source": [
    "test12(12,3,4,5,\"sun\")"
   ]
  },
  {
   "cell_type": "code",
   "execution_count": 2,
   "id": "400cc6d6-f695-4858-9185-7effc6e4d0b5",
   "metadata": {},
   "outputs": [],
   "source": [
    "def test13(*args, a):\n",
    "    return args, a"
   ]
  },
  {
   "cell_type": "code",
   "execution_count": 3,
   "id": "647e6078-a14f-487c-b5c0-1ffe037e2f79",
   "metadata": {},
   "outputs": [
    {
     "ename": "TypeError",
     "evalue": "test13() missing 1 required keyword-only argument: 'a'",
     "output_type": "error",
     "traceback": [
      "\u001b[0;31m---------------------------------------------------------------------------\u001b[0m",
      "\u001b[0;31mTypeError\u001b[0m                                 Traceback (most recent call last)",
      "Cell \u001b[0;32mIn[3], line 1\u001b[0m\n\u001b[0;32m----> 1\u001b[0m \u001b[43mtest13\u001b[49m\u001b[43m(\u001b[49m\u001b[38;5;241;43m1\u001b[39;49m\u001b[43m,\u001b[49m\u001b[38;5;241;43m2\u001b[39;49m\u001b[43m,\u001b[49m\u001b[38;5;241;43m3\u001b[39;49m\u001b[43m,\u001b[49m\u001b[38;5;241;43m4\u001b[39;49m\u001b[43m)\u001b[49m\n",
      "\u001b[0;31mTypeError\u001b[0m: test13() missing 1 required keyword-only argument: 'a'"
     ]
    }
   ],
   "source": [
    "test13(1,2,3,4)"
   ]
  },
  {
   "cell_type": "code",
   "execution_count": 59,
   "id": "8f64b24e-2b5c-40f8-921a-3c39ad2a3b50",
   "metadata": {},
   "outputs": [
    {
     "data": {
      "text/plain": [
       "((1, 2, 3, 4), 12)"
      ]
     },
     "execution_count": 59,
     "metadata": {},
     "output_type": "execute_result"
    }
   ],
   "source": [
    "test13(1,2,3,4,a=12)"
   ]
  },
  {
   "cell_type": "code",
   "execution_count": 61,
   "id": "94dca7a8-533b-4fba-bf00-32d3dc4b8927",
   "metadata": {},
   "outputs": [],
   "source": [
    "def test14(c,d,a=23,b=1):\n",
    "    return a,b,c,d"
   ]
  },
  {
   "cell_type": "code",
   "execution_count": 62,
   "id": "db0ea36d-0762-42bd-9770-56e19dc01d82",
   "metadata": {},
   "outputs": [
    {
     "ename": "TypeError",
     "evalue": "test14() missing 2 required positional arguments: 'c' and 'd'",
     "output_type": "error",
     "traceback": [
      "\u001b[0;31m---------------------------------------------------------------------------\u001b[0m",
      "\u001b[0;31mTypeError\u001b[0m                                 Traceback (most recent call last)",
      "Cell \u001b[0;32mIn[62], line 1\u001b[0m\n\u001b[0;32m----> 1\u001b[0m \u001b[43mtest14\u001b[49m\u001b[43m(\u001b[49m\u001b[43m)\u001b[49m\n",
      "\u001b[0;31mTypeError\u001b[0m: test14() missing 2 required positional arguments: 'c' and 'd'"
     ]
    }
   ],
   "source": [
    "test14()"
   ]
  },
  {
   "cell_type": "code",
   "execution_count": 63,
   "id": "86b3a9e2-2b08-459c-9f27-b752c4a361de",
   "metadata": {},
   "outputs": [
    {
     "data": {
      "text/plain": [
       "(23, 1, 3, 4)"
      ]
     },
     "execution_count": 63,
     "metadata": {},
     "output_type": "execute_result"
    }
   ],
   "source": [
    "test14(3,4)"
   ]
  },
  {
   "cell_type": "code",
   "execution_count": 64,
   "id": "0c92d216-6614-4124-8d05-8d6754705d74",
   "metadata": {},
   "outputs": [
    {
     "data": {
      "text/plain": [
       "(345, 1, 2, 5)"
      ]
     },
     "execution_count": 64,
     "metadata": {},
     "output_type": "execute_result"
    }
   ],
   "source": [
    "test14(2,5,a=345)"
   ]
  },
  {
   "cell_type": "code",
   "execution_count": 65,
   "id": "bdc2ed0e-9057-45c8-8a67-7a8345598e1b",
   "metadata": {},
   "outputs": [],
   "source": [
    "#To override function's varibale value"
   ]
  },
  {
   "cell_type": "code",
   "execution_count": 66,
   "id": "5b1114f8-d68e-4f6c-b2cf-8b0bc16476a1",
   "metadata": {},
   "outputs": [],
   "source": [
    "def test15(**kwargs):  #for key value pair values\n",
    "    return kwargs"
   ]
  },
  {
   "cell_type": "code",
   "execution_count": 67,
   "id": "02cc4ff4-12ae-49a2-9f87-a90953188397",
   "metadata": {},
   "outputs": [
    {
     "data": {
      "text/plain": [
       "{}"
      ]
     },
     "execution_count": 67,
     "metadata": {},
     "output_type": "execute_result"
    }
   ],
   "source": [
    "test15()"
   ]
  },
  {
   "cell_type": "code",
   "execution_count": 68,
   "id": "b5707c3e-922b-43e4-bb5b-33911673855b",
   "metadata": {},
   "outputs": [
    {
     "data": {
      "text/plain": [
       "dict"
      ]
     },
     "execution_count": 68,
     "metadata": {},
     "output_type": "execute_result"
    }
   ],
   "source": [
    "type(test15())"
   ]
  },
  {
   "cell_type": "code",
   "execution_count": 69,
   "id": "21c75f03-616c-4d75-aa41-db0a38e14531",
   "metadata": {},
   "outputs": [
    {
     "data": {
      "text/plain": [
       "{'a': [1, 2, 3, 4], 'n': 'suharsh', 'c': 54.21}"
      ]
     },
     "execution_count": 69,
     "metadata": {},
     "output_type": "execute_result"
    }
   ],
   "source": [
    "test15(a=[1,2,3,4],n=\"suharsh\",c=54.21)"
   ]
  },
  {
   "cell_type": "code",
   "execution_count": null,
   "id": "e42f2880-ef25-4786-84f9-70821ef4f093",
   "metadata": {},
   "outputs": [],
   "source": []
  }
 ],
 "metadata": {
  "kernelspec": {
   "display_name": "Python 3 (ipykernel)",
   "language": "python",
   "name": "python3"
  },
  "language_info": {
   "codemirror_mode": {
    "name": "ipython",
    "version": 3
   },
   "file_extension": ".py",
   "mimetype": "text/x-python",
   "name": "python",
   "nbconvert_exporter": "python",
   "pygments_lexer": "ipython3",
   "version": "3.10.8"
  }
 },
 "nbformat": 4,
 "nbformat_minor": 5
}
