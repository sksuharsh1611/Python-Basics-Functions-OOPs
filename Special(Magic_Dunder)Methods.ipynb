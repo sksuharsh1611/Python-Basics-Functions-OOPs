{
 "cells": [
  {
   "cell_type": "code",
   "execution_count": 1,
   "id": "5cd6bc2b-a8cb-4563-bb4e-99ddce1b372e",
   "metadata": {},
   "outputs": [],
   "source": [
    "# __init__ > dunder method"
   ]
  },
  {
   "cell_type": "code",
   "execution_count": 2,
   "id": "ed22e127-29fc-49b1-aa95-b4f9701c54a2",
   "metadata": {},
   "outputs": [
    {
     "data": {
      "text/plain": [
       "['__abs__',\n",
       " '__add__',\n",
       " '__and__',\n",
       " '__bool__',\n",
       " '__ceil__',\n",
       " '__class__',\n",
       " '__delattr__',\n",
       " '__dir__',\n",
       " '__divmod__',\n",
       " '__doc__',\n",
       " '__eq__',\n",
       " '__float__',\n",
       " '__floor__',\n",
       " '__floordiv__',\n",
       " '__format__',\n",
       " '__ge__',\n",
       " '__getattribute__',\n",
       " '__getnewargs__',\n",
       " '__gt__',\n",
       " '__hash__',\n",
       " '__index__',\n",
       " '__init__',\n",
       " '__init_subclass__',\n",
       " '__int__',\n",
       " '__invert__',\n",
       " '__le__',\n",
       " '__lshift__',\n",
       " '__lt__',\n",
       " '__mod__',\n",
       " '__mul__',\n",
       " '__ne__',\n",
       " '__neg__',\n",
       " '__new__',\n",
       " '__or__',\n",
       " '__pos__',\n",
       " '__pow__',\n",
       " '__radd__',\n",
       " '__rand__',\n",
       " '__rdivmod__',\n",
       " '__reduce__',\n",
       " '__reduce_ex__',\n",
       " '__repr__',\n",
       " '__rfloordiv__',\n",
       " '__rlshift__',\n",
       " '__rmod__',\n",
       " '__rmul__',\n",
       " '__ror__',\n",
       " '__round__',\n",
       " '__rpow__',\n",
       " '__rrshift__',\n",
       " '__rshift__',\n",
       " '__rsub__',\n",
       " '__rtruediv__',\n",
       " '__rxor__',\n",
       " '__setattr__',\n",
       " '__sizeof__',\n",
       " '__str__',\n",
       " '__sub__',\n",
       " '__subclasshook__',\n",
       " '__truediv__',\n",
       " '__trunc__',\n",
       " '__xor__',\n",
       " 'as_integer_ratio',\n",
       " 'bit_count',\n",
       " 'bit_length',\n",
       " 'conjugate',\n",
       " 'denominator',\n",
       " 'from_bytes',\n",
       " 'imag',\n",
       " 'numerator',\n",
       " 'real',\n",
       " 'to_bytes']"
      ]
     },
     "execution_count": 2,
     "metadata": {},
     "output_type": "execute_result"
    }
   ],
   "source": [
    "dir(int)"
   ]
  },
  {
   "cell_type": "code",
   "execution_count": 3,
   "id": "aa7f3b54-b897-4c68-a37e-a043d0d3de52",
   "metadata": {},
   "outputs": [
    {
     "data": {
      "text/plain": [
       "['__add__',\n",
       " '__class__',\n",
       " '__contains__',\n",
       " '__delattr__',\n",
       " '__dir__',\n",
       " '__doc__',\n",
       " '__eq__',\n",
       " '__format__',\n",
       " '__ge__',\n",
       " '__getattribute__',\n",
       " '__getitem__',\n",
       " '__getnewargs__',\n",
       " '__gt__',\n",
       " '__hash__',\n",
       " '__init__',\n",
       " '__init_subclass__',\n",
       " '__iter__',\n",
       " '__le__',\n",
       " '__len__',\n",
       " '__lt__',\n",
       " '__mod__',\n",
       " '__mul__',\n",
       " '__ne__',\n",
       " '__new__',\n",
       " '__reduce__',\n",
       " '__reduce_ex__',\n",
       " '__repr__',\n",
       " '__rmod__',\n",
       " '__rmul__',\n",
       " '__setattr__',\n",
       " '__sizeof__',\n",
       " '__str__',\n",
       " '__subclasshook__',\n",
       " 'capitalize',\n",
       " 'casefold',\n",
       " 'center',\n",
       " 'count',\n",
       " 'encode',\n",
       " 'endswith',\n",
       " 'expandtabs',\n",
       " 'find',\n",
       " 'format',\n",
       " 'format_map',\n",
       " 'index',\n",
       " 'isalnum',\n",
       " 'isalpha',\n",
       " 'isascii',\n",
       " 'isdecimal',\n",
       " 'isdigit',\n",
       " 'isidentifier',\n",
       " 'islower',\n",
       " 'isnumeric',\n",
       " 'isprintable',\n",
       " 'isspace',\n",
       " 'istitle',\n",
       " 'isupper',\n",
       " 'join',\n",
       " 'ljust',\n",
       " 'lower',\n",
       " 'lstrip',\n",
       " 'maketrans',\n",
       " 'partition',\n",
       " 'removeprefix',\n",
       " 'removesuffix',\n",
       " 'replace',\n",
       " 'rfind',\n",
       " 'rindex',\n",
       " 'rjust',\n",
       " 'rpartition',\n",
       " 'rsplit',\n",
       " 'rstrip',\n",
       " 'split',\n",
       " 'splitlines',\n",
       " 'startswith',\n",
       " 'strip',\n",
       " 'swapcase',\n",
       " 'title',\n",
       " 'translate',\n",
       " 'upper',\n",
       " 'zfill']"
      ]
     },
     "execution_count": 3,
     "metadata": {},
     "output_type": "execute_result"
    }
   ],
   "source": [
    "dir(str)"
   ]
  },
  {
   "cell_type": "code",
   "execution_count": 4,
   "id": "2c184052-1ebe-40a3-b059-95c4e5081873",
   "metadata": {},
   "outputs": [],
   "source": [
    "a = 100"
   ]
  },
  {
   "cell_type": "code",
   "execution_count": 5,
   "id": "5355bae2-312d-4cf0-9113-5806db894848",
   "metadata": {},
   "outputs": [
    {
     "data": {
      "text/plain": [
       "105"
      ]
     },
     "execution_count": 5,
     "metadata": {},
     "output_type": "execute_result"
    }
   ],
   "source": [
    "a + 5"
   ]
  },
  {
   "cell_type": "code",
   "execution_count": 6,
   "id": "3f028875-9eac-4dd1-aa46-eece3553d3d8",
   "metadata": {},
   "outputs": [
    {
     "data": {
      "text/plain": [
       "105"
      ]
     },
     "execution_count": 6,
     "metadata": {},
     "output_type": "execute_result"
    }
   ],
   "source": [
    "a.__add__(5)  #system calling >> dunder/magic function by default"
   ]
  },
  {
   "cell_type": "code",
   "execution_count": 10,
   "id": "4f48659e-f396-46ea-80d8-3f944582a435",
   "metadata": {},
   "outputs": [],
   "source": [
    "class pwskills:\n",
    "#     To check what is called before __init__ -->\n",
    "    def __new__(cls) :   #new helps in term of creating object of a class\n",
    "        print(\"This is my new\")\n",
    "        \n",
    "    \n",
    "    def __init__(self):\n",
    "        print(\"This is my init\")\n",
    "        \n",
    "        self.mobile = 6200283942"
   ]
  },
  {
   "cell_type": "code",
   "execution_count": 11,
   "id": "9910b1fb-d9cd-40ac-8012-d2a5dbae3043",
   "metadata": {},
   "outputs": [
    {
     "name": "stdout",
     "output_type": "stream",
     "text": [
      "This is my new\n"
     ]
    }
   ],
   "source": [
    "pw = pwskills()"
   ]
  },
  {
   "cell_type": "code",
   "execution_count": 9,
   "id": "68e301c5-1808-411c-bb14-288c6b3f39f8",
   "metadata": {},
   "outputs": [
    {
     "data": {
      "text/plain": [
       "6200283942"
      ]
     },
     "execution_count": 9,
     "metadata": {},
     "output_type": "execute_result"
    }
   ],
   "source": [
    "pw.mobile"
   ]
  },
  {
   "cell_type": "code",
   "execution_count": 12,
   "id": "780c2e26-bce3-4b1d-8468-8a23b1e452ab",
   "metadata": {},
   "outputs": [],
   "source": [
    "# In general magic functions are not called directly."
   ]
  },
  {
   "cell_type": "code",
   "execution_count": 15,
   "id": "634d48cb-e258-415c-a802-d5815ad3c2e8",
   "metadata": {},
   "outputs": [],
   "source": [
    "class pwskills1:\n",
    "    \n",
    "    def __init__(self):\n",
    "        \n",
    "        self.mobile = 6200283942"
   ]
  },
  {
   "cell_type": "code",
   "execution_count": 16,
   "id": "71ce7385-2043-432f-aef2-eba1b9ed1059",
   "metadata": {},
   "outputs": [],
   "source": [
    "pw1 = pwskills1()"
   ]
  },
  {
   "cell_type": "code",
   "execution_count": 17,
   "id": "19d62893-96d2-414d-8be1-d0a0efd4dfcb",
   "metadata": {},
   "outputs": [
    {
     "data": {
      "text/plain": [
       "<__main__.pwskills1 at 0x7fea2422a800>"
      ]
     },
     "execution_count": 17,
     "metadata": {},
     "output_type": "execute_result"
    }
   ],
   "source": [
    "pw1"
   ]
  },
  {
   "cell_type": "code",
   "execution_count": 25,
   "id": "1c6cb928-e76d-4cf2-b35a-dd12e869c1c4",
   "metadata": {},
   "outputs": [],
   "source": [
    "# If hexadecimal not wanted\n",
    "\n",
    "class pwskills1:\n",
    "    \n",
    "    def __init__(self):\n",
    "        \n",
    "        self.mobile = 6200283942\n",
    "    \n",
    "    def __str__(self):\n",
    "        return \"This is my magic call for str\""
   ]
  },
  {
   "cell_type": "code",
   "execution_count": 26,
   "id": "738e1824-9268-4db6-a477-5adcdc607c0c",
   "metadata": {},
   "outputs": [],
   "source": [
    "pw2 = pwskills1()"
   ]
  },
  {
   "cell_type": "code",
   "execution_count": 27,
   "id": "b20d68df-22a7-4e3f-a497-05600c8c2688",
   "metadata": {},
   "outputs": [
    {
     "data": {
      "text/plain": [
       "<__main__.pwskills1 at 0x7fea2407cfa0>"
      ]
     },
     "execution_count": 27,
     "metadata": {},
     "output_type": "execute_result"
    }
   ],
   "source": [
    "pw2"
   ]
  },
  {
   "cell_type": "code",
   "execution_count": 28,
   "id": "db184050-b164-45d7-907e-fb17957f3275",
   "metadata": {},
   "outputs": [
    {
     "name": "stdout",
     "output_type": "stream",
     "text": [
      "This is my magic call for str\n"
     ]
    }
   ],
   "source": [
    "print(pw2)"
   ]
  },
  {
   "cell_type": "code",
   "execution_count": 30,
   "id": "344b9b7f-b132-42da-8a8e-a7020031ffb7",
   "metadata": {},
   "outputs": [],
   "source": [
    "# Try to Avoid using magic/dunder functions >> System calls it internally"
   ]
  },
  {
   "cell_type": "code",
   "execution_count": null,
   "id": "7c6ed3c2-e044-492b-b6aa-adcf75a4bb0d",
   "metadata": {},
   "outputs": [],
   "source": []
  }
 ],
 "metadata": {
  "kernelspec": {
   "display_name": "Python 3 (ipykernel)",
   "language": "python",
   "name": "python3"
  },
  "language_info": {
   "codemirror_mode": {
    "name": "ipython",
    "version": 3
   },
   "file_extension": ".py",
   "mimetype": "text/x-python",
   "name": "python",
   "nbconvert_exporter": "python",
   "pygments_lexer": "ipython3",
   "version": "3.10.8"
  }
 },
 "nbformat": 4,
 "nbformat_minor": 5
}
