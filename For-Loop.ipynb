{
 "cells": [
  {
   "cell_type": "code",
   "execution_count": 1,
   "id": "244955b9-5cfa-4c62-acc1-44dd5db80f8d",
   "metadata": {},
   "outputs": [],
   "source": [
    "l=[1,2,3,4,5]"
   ]
  },
  {
   "cell_type": "code",
   "execution_count": 3,
   "id": "c3ea5b95-f9b4-47d8-b49b-c76f5f0c3a29",
   "metadata": {},
   "outputs": [
    {
     "name": "stdout",
     "output_type": "stream",
     "text": [
      "1 <class 'int'>\n",
      "2 <class 'int'>\n",
      "3 <class 'int'>\n",
      "4 <class 'int'>\n",
      "5 <class 'int'>\n"
     ]
    }
   ],
   "source": [
    "for i in l:\n",
    "    print(i,type(i))"
   ]
  },
  {
   "cell_type": "code",
   "execution_count": 6,
   "id": "aa9e432a-e101-44b7-9d6e-3c3fae6a83f2",
   "metadata": {},
   "outputs": [
    {
     "name": "stdout",
     "output_type": "stream",
     "text": [
      "Suharsh\n",
      "kumar\n",
      "jay\n"
     ]
    }
   ],
   "source": [
    "l1=[\"Suharsh\",'kumar','jay']\n",
    "for i in l1:\n",
    "    print(i)\n",
    "    \n",
    "    "
   ]
  },
  {
   "cell_type": "code",
   "execution_count": 9,
   "id": "0ed93d3f-1627-4f4a-8889-85794362edde",
   "metadata": {},
   "outputs": [
    {
     "name": "stdout",
     "output_type": "stream",
     "text": [
      "Suharsh\n",
      "kumar\n",
      "jay\n",
      "If for loop able to executes completely then only else will execute\n"
     ]
    }
   ],
   "source": [
    "#for - else {Not available with other prog lang}\n",
    "for i in l1:\n",
    "    print(i)\n",
    "else:     #after completion of for loop then else executes\n",
    "    print(\"If for loop able to executes completely then only else will execute\")\n",
    "    "
   ]
  },
  {
   "cell_type": "code",
   "execution_count": 10,
   "id": "9828b046-6f09-4fab-a5f5-ac939aeab588",
   "metadata": {},
   "outputs": [
    {
     "name": "stdout",
     "output_type": "stream",
     "text": [
      "Suharsh\n"
     ]
    }
   ],
   "source": [
    "#where not to use else with for loop\n",
    "for i in l1:\n",
    "    if i == \"kumar\":\n",
    "        break   #Breaks for loop if element found\n",
    "    print(i)"
   ]
  },
  {
   "cell_type": "code",
   "execution_count": 11,
   "id": "90830834-efba-441c-aa68-58866e443dc2",
   "metadata": {},
   "outputs": [
    {
     "data": {
      "text/plain": [
       "['Suharsh', 'kumar', 'jay']"
      ]
     },
     "execution_count": 11,
     "metadata": {},
     "output_type": "execute_result"
    }
   ],
   "source": [
    "l1"
   ]
  },
  {
   "cell_type": "code",
   "execution_count": 12,
   "id": "2c39b6b7-d19e-45bd-a5bf-d7928ce6c19b",
   "metadata": {},
   "outputs": [
    {
     "name": "stdout",
     "output_type": "stream",
     "text": [
      "Suharsh\n"
     ]
    }
   ],
   "source": [
    "for i in l1:\n",
    "    if i== \"kumar\":\n",
    "        break\n",
    "    print(i)\n",
    "else:\n",
    "    print(\"Execute this if for loop is able to complete itself\")"
   ]
  },
  {
   "cell_type": "code",
   "execution_count": 15,
   "id": "418953b3-b244-43dc-8bfe-096a757cd9d1",
   "metadata": {},
   "outputs": [
    {
     "data": {
      "text/plain": [
       "['Suharsh', 'kumar', 'jay']"
      ]
     },
     "execution_count": 15,
     "metadata": {},
     "output_type": "execute_result"
    }
   ],
   "source": [
    "l1"
   ]
  },
  {
   "cell_type": "code",
   "execution_count": 16,
   "id": "24c558e9-dd9f-47e8-af6e-769e3c6118f3",
   "metadata": {},
   "outputs": [
    {
     "name": "stdout",
     "output_type": "stream",
     "text": [
      "Suharsh\n",
      "jay\n"
     ]
    }
   ],
   "source": [
    "for i in l1:\n",
    "    if i==\"kumar\":\n",
    "        continue #skips condition and print other elements from list\n",
    "    print(i)"
   ]
  },
  {
   "cell_type": "code",
   "execution_count": 19,
   "id": "2901e790-2646-4c52-90b6-bc9a1bf1a84a",
   "metadata": {},
   "outputs": [
    {
     "name": "stdout",
     "output_type": "stream",
     "text": [
      "Suharsh\n",
      "jay\n",
      "Execute this if for loop is able to complete itself\n"
     ]
    }
   ],
   "source": [
    "for i in l1:\n",
    "    if i== \"kumar\":\n",
    "        continue\n",
    "    print(i)\n",
    "else:\n",
    "    print(\"Execute this if for loop is able to complete itself\")\n",
    "    "
   ]
  },
  {
   "cell_type": "code",
   "execution_count": 20,
   "id": "afcec645-ac67-4401-a518-ac1d37860491",
   "metadata": {},
   "outputs": [],
   "source": [
    "#range() function is a generator function\n",
    "#used to generate range of integers"
   ]
  },
  {
   "cell_type": "code",
   "execution_count": 23,
   "id": "ebc19f1b-a156-4114-86b7-0b056b2bbc57",
   "metadata": {},
   "outputs": [
    {
     "data": {
      "text/plain": [
       "range(0, 5)"
      ]
     },
     "execution_count": 23,
     "metadata": {},
     "output_type": "execute_result"
    }
   ],
   "source": [
    "range(5)  #Excluding last element"
   ]
  },
  {
   "cell_type": "code",
   "execution_count": 24,
   "id": "aaf0b547-050c-4036-8a61-cec56b7ae957",
   "metadata": {},
   "outputs": [
    {
     "data": {
      "text/plain": [
       "[0, 1, 2, 3, 4]"
      ]
     },
     "execution_count": 24,
     "metadata": {},
     "output_type": "execute_result"
    }
   ],
   "source": [
    "list(range(5))"
   ]
  },
  {
   "cell_type": "code",
   "execution_count": 25,
   "id": "fb830716-8bd0-46c4-8b56-f96e5b2b0c77",
   "metadata": {},
   "outputs": [
    {
     "data": {
      "text/plain": [
       "[0, 1, 2, 3, 4]"
      ]
     },
     "execution_count": 25,
     "metadata": {},
     "output_type": "execute_result"
    }
   ],
   "source": [
    "list(range(0,5,1))  #range(lower_bound,upper_bound,jump)"
   ]
  },
  {
   "cell_type": "code",
   "execution_count": 29,
   "id": "6ea7f22d-17c9-4f61-91d5-1adf4d02f0e8",
   "metadata": {},
   "outputs": [
    {
     "data": {
      "text/plain": [
       "[0, 2, 4, 6, 8, 10, 12, 14, 16, 18, 20]"
      ]
     },
     "execution_count": 29,
     "metadata": {},
     "output_type": "execute_result"
    }
   ],
   "source": [
    "list(range(0,21,2))  #print 0 to 20 >> Only Even numbers"
   ]
  },
  {
   "cell_type": "code",
   "execution_count": 28,
   "id": "36916621-0543-4796-94fc-16f357cc258a",
   "metadata": {},
   "outputs": [
    {
     "data": {
      "text/plain": [
       "[-10, -9, -8, -7, -6, -5, -4, -3, -2, -1]"
      ]
     },
     "execution_count": 28,
     "metadata": {},
     "output_type": "execute_result"
    }
   ],
   "source": [
    "list(range(-10,0))"
   ]
  },
  {
   "cell_type": "code",
   "execution_count": 30,
   "id": "4cf4c7ff-5daf-4d78-b7ed-7f42fe0a197c",
   "metadata": {},
   "outputs": [
    {
     "data": {
      "text/plain": [
       "['Suharsh', 'kumar', 'jay']"
      ]
     },
     "execution_count": 30,
     "metadata": {},
     "output_type": "execute_result"
    }
   ],
   "source": [
    "l1"
   ]
  },
  {
   "cell_type": "code",
   "execution_count": 34,
   "id": "96d0d1b3-7d20-4aa4-b49a-ab3553aae614",
   "metadata": {},
   "outputs": [
    {
     "data": {
      "text/plain": [
       "3"
      ]
     },
     "execution_count": 34,
     "metadata": {},
     "output_type": "execute_result"
    }
   ],
   "source": [
    "#print list in reverse using for loop\n",
    "# Step1 : fetch length of List\n",
    "len(l1)"
   ]
  },
  {
   "cell_type": "code",
   "execution_count": 35,
   "id": "3a1163af-4890-4e39-92bc-bef125fb5634",
   "metadata": {},
   "outputs": [
    {
     "data": {
      "text/plain": [
       "[0, 1, 2]"
      ]
     },
     "execution_count": 35,
     "metadata": {},
     "output_type": "execute_result"
    }
   ],
   "source": [
    "list(range(len(l1)))"
   ]
  },
  {
   "cell_type": "code",
   "execution_count": 38,
   "id": "9c1b4535-2b30-4189-a999-bb3499317b6b",
   "metadata": {},
   "outputs": [
    {
     "name": "stdout",
     "output_type": "stream",
     "text": [
      "Suharsh\n",
      "kumar\n",
      "jay\n"
     ]
    }
   ],
   "source": [
    "for i in range(len(l1)):\n",
    "    print(l1[i])"
   ]
  },
  {
   "cell_type": "code",
   "execution_count": 43,
   "id": "bc745b68-a92a-469e-bcc4-e4df5ba106bb",
   "metadata": {},
   "outputs": [
    {
     "data": {
      "text/plain": [
       "[2, 1, 0]"
      ]
     },
     "execution_count": 43,
     "metadata": {},
     "output_type": "execute_result"
    }
   ],
   "source": [
    "list(range(len(l1)-1,-1,-1))  #producing all indexes in reverse-order"
   ]
  },
  {
   "cell_type": "code",
   "execution_count": 45,
   "id": "d26bdb64-fa73-40f9-bc86-554160c69e33",
   "metadata": {},
   "outputs": [
    {
     "name": "stdout",
     "output_type": "stream",
     "text": [
      "jay\n",
      "kumar\n",
      "Suharsh\n"
     ]
    }
   ],
   "source": [
    "#final solution\n",
    "for i in range(len(l1)-1,-1,-1):\n",
    "    print(l1[i])"
   ]
  },
  {
   "cell_type": "code",
   "execution_count": 46,
   "id": "d65fb87c-bae4-4bba-b12a-3fef81247344",
   "metadata": {},
   "outputs": [],
   "source": [
    "l2=[23,4,5,4,2,34,56,76,33,45,5643,2432]"
   ]
  },
  {
   "cell_type": "code",
   "execution_count": 48,
   "id": "773a3a57-3735-410a-8a46-3b8b0721873c",
   "metadata": {},
   "outputs": [
    {
     "data": {
      "text/plain": [
       "[0, 2, 4, 6, 8, 10]"
      ]
     },
     "execution_count": 48,
     "metadata": {},
     "output_type": "execute_result"
    }
   ],
   "source": [
    "#fetch data present at even index\n",
    "list(range(0,len(l2),2))  #producing even indexes"
   ]
  },
  {
   "cell_type": "code",
   "execution_count": 49,
   "id": "ee312729-5a97-46bc-863d-25c24401338a",
   "metadata": {},
   "outputs": [
    {
     "name": "stdout",
     "output_type": "stream",
     "text": [
      "23\n",
      "5\n",
      "2\n",
      "56\n",
      "33\n",
      "5643\n"
     ]
    }
   ],
   "source": [
    "for i in range(0,len(l2),2):\n",
    "    print(l2[i])"
   ]
  },
  {
   "cell_type": "code",
   "execution_count": 75,
   "id": "dd454892-29c3-4e15-af30-23fa387f79eb",
   "metadata": {},
   "outputs": [
    {
     "data": {
      "text/plain": [
       "[23, 4, 5, 4, 2, 34, 56, 76, 33, 45, 5643, 2432]"
      ]
     },
     "execution_count": 75,
     "metadata": {},
     "output_type": "execute_result"
    }
   ],
   "source": [
    "len(l2)\n",
    "l2\n"
   ]
  },
  {
   "cell_type": "code",
   "execution_count": 76,
   "id": "c3d2a261-69fd-4c3c-a650-6b6a5b5de973",
   "metadata": {},
   "outputs": [
    {
     "data": {
      "text/plain": [
       "[0, 1, 2, 3, 4, 5, 6, 7, 8, 9, 10, 11]"
      ]
     },
     "execution_count": 76,
     "metadata": {},
     "output_type": "execute_result"
    }
   ],
   "source": [
    "list(range(0,len(l2),1))"
   ]
  },
  {
   "cell_type": "code",
   "execution_count": 105,
   "id": "7ec1c065-59a6-42b5-82af-d7c0d3105b72",
   "metadata": {},
   "outputs": [
    {
     "name": "stdout",
     "output_type": "stream",
     "text": [
      "2432\n",
      "5\n",
      "34\n",
      "33\n"
     ]
    }
   ],
   "source": [
    "#fetch data at odd index\n",
    "for i in range(0,len(l2),3):\n",
    "    print(l2[i])"
   ]
  },
  {
   "cell_type": "code",
   "execution_count": 92,
   "id": "a3d4e9d3-de8e-497c-9186-2fb7e8415814",
   "metadata": {},
   "outputs": [
    {
     "ename": "TypeError",
     "evalue": "'int' object is not callable",
     "output_type": "error",
     "traceback": [
      "\u001b[0;31m---------------------------------------------------------------------------\u001b[0m",
      "\u001b[0;31mTypeError\u001b[0m                                 Traceback (most recent call last)",
      "Cell \u001b[0;32mIn[92], line 3\u001b[0m\n\u001b[1;32m      1\u001b[0m l3 \u001b[38;5;241m=\u001b[39m [\u001b[38;5;241m1\u001b[39m,\u001b[38;5;241m2\u001b[39m,\u001b[38;5;241m3\u001b[39m,\u001b[38;5;241m4\u001b[39m,\u001b[38;5;241m5\u001b[39m,\u001b[38;5;241m6\u001b[39m,\u001b[38;5;241m7\u001b[39m,\u001b[38;5;241m8\u001b[39m,\u001b[38;5;241m9\u001b[39m]\n\u001b[1;32m      2\u001b[0m \u001b[38;5;66;03m#Print sum of all elements in list\u001b[39;00m\n\u001b[0;32m----> 3\u001b[0m \u001b[38;5;28;43msum\u001b[39;49m\u001b[43m(\u001b[49m\u001b[43ml3\u001b[49m\u001b[43m)\u001b[49m\n",
      "\u001b[0;31mTypeError\u001b[0m: 'int' object is not callable"
     ]
    }
   ],
   "source": [
    "l3 = [1,2,3,4,5,6,7,8,9]\n",
    "#Print sum of all elements in list\n",
    "sum(l3)"
   ]
  },
  {
   "cell_type": "code",
   "execution_count": 91,
   "id": "298d1ee8-508f-4a56-96e5-f701a252c05b",
   "metadata": {},
   "outputs": [
    {
     "data": {
      "text/plain": [
       "45"
      ]
     },
     "execution_count": 91,
     "metadata": {},
     "output_type": "execute_result"
    }
   ],
   "source": [
    "#using for loop:\n",
    "add = 0\n",
    "for i in l3:\n",
    "    add = add + i\n",
    "add"
   ]
  },
  {
   "cell_type": "code",
   "execution_count": 96,
   "id": "63c107db-d76d-4cb9-875c-6c931ffd6c02",
   "metadata": {},
   "outputs": [
    {
     "name": "stdout",
     "output_type": "stream",
     "text": [
      "1\n",
      "2\n",
      "3\n",
      "4\n",
      "5\n"
     ]
    }
   ],
   "source": [
    "t=(1,2,3,4,5)\n",
    "for i in t:\n",
    "    print(i)"
   ]
  },
  {
   "cell_type": "code",
   "execution_count": 97,
   "id": "93eed9bc-79d2-4778-b49c-4e0caf23ad7b",
   "metadata": {},
   "outputs": [
    {
     "data": {
      "text/plain": [
       "15"
      ]
     },
     "execution_count": 97,
     "metadata": {},
     "output_type": "execute_result"
    }
   ],
   "source": [
    "a=0\n",
    "for i in t:\n",
    "    a+=i\n",
    "a"
   ]
  },
  {
   "cell_type": "code",
   "execution_count": 99,
   "id": "ba91c1e2-0450-4ac7-967e-73d5ef0caa6e",
   "metadata": {},
   "outputs": [
    {
     "name": "stdout",
     "output_type": "stream",
     "text": [
      "1\n",
      "2\n",
      "3\n",
      "4\n",
      "5\n",
      "suharsh\n",
      "kumar\n"
     ]
    }
   ],
   "source": [
    "s={1,2,3,4,5,\"suharsh\",\"kumar\"}\n",
    "for i in s:\n",
    "    print(i)"
   ]
  },
  {
   "cell_type": "code",
   "execution_count": 100,
   "id": "42ec4f3e-6e89-4f9f-abdc-44e2d8d87f1a",
   "metadata": {},
   "outputs": [
    {
     "name": "stdout",
     "output_type": "stream",
     "text": [
      "p\n",
      "w\n",
      "s\n",
      "k\n",
      "i\n",
      "l\n",
      "l\n",
      "s\n"
     ]
    }
   ],
   "source": [
    "s1=\"pwskills\"\n",
    "for i in s1:\n",
    "    print(i)"
   ]
  },
  {
   "cell_type": "code",
   "execution_count": 106,
   "id": "be273281-0b74-47fe-871a-808061ef2458",
   "metadata": {},
   "outputs": [],
   "source": [
    "dict ={\"name\":\"Suharsh\",\"class\":\"DS Masters\",\n",
    "       \"topic\":[\"Python\",\"stats\",\"ML\",\"AI\",\"ComputerVision\",\"NLP\",\"Resume\",\"Interview\"]}"
   ]
  },
  {
   "cell_type": "code",
   "execution_count": 107,
   "id": "3a878f4b-193f-4988-ac4e-ab4b079d4ea1",
   "metadata": {},
   "outputs": [
    {
     "data": {
      "text/plain": [
       "{'name': 'Suharsh',\n",
       " 'class': 'DS Masters',\n",
       " 'topic': ['Python',\n",
       "  'stats',\n",
       "  'ML',\n",
       "  'AI',\n",
       "  'ComputerVision',\n",
       "  'NLP',\n",
       "  'Resume',\n",
       "  'Interview']}"
      ]
     },
     "execution_count": 107,
     "metadata": {},
     "output_type": "execute_result"
    }
   ],
   "source": [
    "dict"
   ]
  },
  {
   "cell_type": "code",
   "execution_count": 108,
   "id": "07f65ddc-41cd-40ff-904b-0ac001046213",
   "metadata": {},
   "outputs": [
    {
     "data": {
      "text/plain": [
       "'Suharsh'"
      ]
     },
     "execution_count": 108,
     "metadata": {},
     "output_type": "execute_result"
    }
   ],
   "source": [
    "dict['name']"
   ]
  },
  {
   "cell_type": "code",
   "execution_count": 110,
   "id": "75e83d27-7895-4de1-a1d1-80be76ddcb8b",
   "metadata": {},
   "outputs": [
    {
     "data": {
      "text/plain": [
       "dict_keys(['name', 'class', 'topic'])"
      ]
     },
     "execution_count": 110,
     "metadata": {},
     "output_type": "execute_result"
    }
   ],
   "source": [
    "d= dict\n",
    "d.keys()"
   ]
  },
  {
   "cell_type": "code",
   "execution_count": 111,
   "id": "c9458425-c2e4-43dc-a557-7b18d3f8f3b9",
   "metadata": {},
   "outputs": [
    {
     "name": "stdout",
     "output_type": "stream",
     "text": [
      "Suharsh\n",
      "DS Masters\n",
      "['Python', 'stats', 'ML', 'AI', 'ComputerVision', 'NLP', 'Resume', 'Interview']\n"
     ]
    }
   ],
   "source": [
    "for i in d.keys():   #On basis of Keys we can iterate dict items\n",
    "    print(d[i])"
   ]
  },
  {
   "cell_type": "code",
   "execution_count": 112,
   "id": "4539f8a9-e3e1-4a72-bd3b-a448ac49eb07",
   "metadata": {},
   "outputs": [
    {
     "data": {
      "text/plain": [
       "dict_values(['Suharsh', 'DS Masters', ['Python', 'stats', 'ML', 'AI', 'ComputerVision', 'NLP', 'Resume', 'Interview']])"
      ]
     },
     "execution_count": 112,
     "metadata": {},
     "output_type": "execute_result"
    }
   ],
   "source": [
    "d.values()"
   ]
  },
  {
   "cell_type": "code",
   "execution_count": 114,
   "id": "a675d132-9c34-44b1-a00e-f7e0cb7986a1",
   "metadata": {},
   "outputs": [
    {
     "name": "stdout",
     "output_type": "stream",
     "text": [
      "Suharsh\n",
      "DS Masters\n",
      "['Python', 'stats', 'ML', 'AI', 'ComputerVision', 'NLP', 'Resume', 'Interview']\n"
     ]
    }
   ],
   "source": [
    "for i in d.values():\n",
    "    print(i)"
   ]
  },
  {
   "cell_type": "code",
   "execution_count": 115,
   "id": "0812fbbc-e2f4-4354-ad16-c1c1e28057cb",
   "metadata": {},
   "outputs": [
    {
     "data": {
      "text/plain": [
       "dict_items([('name', 'Suharsh'), ('class', 'DS Masters'), ('topic', ['Python', 'stats', 'ML', 'AI', 'ComputerVision', 'NLP', 'Resume', 'Interview'])])"
      ]
     },
     "execution_count": 115,
     "metadata": {},
     "output_type": "execute_result"
    }
   ],
   "source": [
    "d.items()"
   ]
  },
  {
   "cell_type": "code",
   "execution_count": 116,
   "id": "7e04ca35-e002-4cca-aab1-ba0f819058ff",
   "metadata": {},
   "outputs": [
    {
     "name": "stdout",
     "output_type": "stream",
     "text": [
      "('name', 'Suharsh')\n",
      "('class', 'DS Masters')\n",
      "('topic', ['Python', 'stats', 'ML', 'AI', 'ComputerVision', 'NLP', 'Resume', 'Interview'])\n"
     ]
    }
   ],
   "source": [
    "for i in d.items():\n",
    "    print(i)"
   ]
  },
  {
   "cell_type": "code",
   "execution_count": null,
   "id": "30000586-f34f-4e63-8db0-108f9f1f8ad3",
   "metadata": {},
   "outputs": [],
   "source": [
    "i=2\n",
    "for i in i:\n",
    "    print(i)"
   ]
  },
  {
   "cell_type": "code",
   "execution_count": 117,
   "id": "5805b9e4-57ac-4510-b4d9-6dab6fd3d5bf",
   "metadata": {},
   "outputs": [
    {
     "name": "stdout",
     "output_type": "stream",
     "text": [
      "('name', 'Suharsh')\n",
      "('class', 'DS Masters')\n",
      "('topic', ['Python', 'stats', 'ML', 'AI', 'ComputerVision', 'NLP', 'Resume', 'Interview'])\n"
     ]
    }
   ],
   "source": [
    "for i in d.items():\n",
    "    print(i)"
   ]
  },
  {
   "cell_type": "code",
   "execution_count": 122,
   "id": "e8f8dfb5-e104-4887-bc92-cc87df3ca8e7",
   "metadata": {},
   "outputs": [
    {
     "data": {
      "text/plain": [
       "False"
      ]
     },
     "execution_count": 122,
     "metadata": {},
     "output_type": "execute_result"
    }
   ],
   "source": [
    "# True or False and True\n",
    "# not(True) or False and True \n",
    "False or False and not(True)  "
   ]
  },
  {
   "cell_type": "code",
   "execution_count": 131,
   "id": "28b6a93c-0407-41e8-9d2b-6f8945c1968a",
   "metadata": {},
   "outputs": [
    {
     "data": {
      "text/plain": [
       "'Suharsh'"
      ]
     },
     "execution_count": 131,
     "metadata": {},
     "output_type": "execute_result"
    }
   ],
   "source": [
    "# s=\"Suharsh\"\n",
    "# s.isalnum\n",
    "# s.isnumeric\n",
    "# s.format\n",
    "f\"Suharsh\""
   ]
  },
  {
   "cell_type": "code",
   "execution_count": 132,
   "id": "da79ac85-a589-43ef-b8f2-b41db37981da",
   "metadata": {},
   "outputs": [
    {
     "data": {
      "text/plain": [
       "'p w s k i l l s'"
      ]
     },
     "execution_count": 132,
     "metadata": {},
     "output_type": "execute_result"
    }
   ],
   "source": [
    "string = \"p w s k i l l s\"\n",
    "\n",
    "\" \".join(string.replace(\" \", \"\"))"
   ]
  },
  {
   "cell_type": "code",
   "execution_count": 136,
   "id": "65ce840f-8cd3-4c0b-87c5-1054690077e3",
   "metadata": {},
   "outputs": [
    {
     "ename": "SyntaxError",
     "evalue": "invalid syntax (427692260.py, line 1)",
     "output_type": "error",
     "traceback": [
      "\u001b[0;36m  Cell \u001b[0;32mIn[136], line 1\u001b[0;36m\u001b[0m\n\u001b[0;31m    True not False\u001b[0m\n\u001b[0m             ^\u001b[0m\n\u001b[0;31mSyntaxError\u001b[0m\u001b[0;31m:\u001b[0m invalid syntax\n"
     ]
    }
   ],
   "source": [
    "True not False"
   ]
  },
  {
   "cell_type": "code",
   "execution_count": 137,
   "id": "99456e5e-a5bd-495d-ad1e-328ab0075df9",
   "metadata": {},
   "outputs": [
    {
     "data": {
      "text/plain": [
       "True"
      ]
     },
     "execution_count": 137,
     "metadata": {},
     "output_type": "execute_result"
    }
   ],
   "source": [
    "\"pwskills\"[::-1].upper().replace(\"SLLIKSWP\", \"pwskills\").islower()"
   ]
  },
  {
   "cell_type": "code",
   "execution_count": 139,
   "id": "25c55e48-30a6-4bd7-8350-cff9938bb98a",
   "metadata": {},
   "outputs": [
    {
     "name": "stdout",
     "output_type": "stream",
     "text": [
      "I\n",
      "Want\n",
      "To\n",
      "Become\n",
      "A\n",
      "Data\n",
      "Scientist\n"
     ]
    }
   ],
   "source": [
    "s = \"I want to become a data scientist\"\n",
    "\n",
    "for i in s.split():\n",
    "\n",
    "    i.capitalize()\n",
    "\n",
    "    print(i.title())"
   ]
  },
  {
   "cell_type": "code",
   "execution_count": 142,
   "id": "1734266e-1f14-4e83-a23b-4832b4df0bc5",
   "metadata": {},
   "outputs": [
    {
     "ename": "TypeError",
     "evalue": "'str' object cannot be interpreted as an integer",
     "output_type": "error",
     "traceback": [
      "\u001b[0;31m---------------------------------------------------------------------------\u001b[0m",
      "\u001b[0;31mTypeError\u001b[0m                                 Traceback (most recent call last)",
      "Cell \u001b[0;32mIn[142], line 1\u001b[0m\n\u001b[0;32m----> 1\u001b[0m \u001b[43mi\u001b[49m\u001b[38;5;241;43m.\u001b[39;49m\u001b[43mcenter\u001b[49m\u001b[43m(\u001b[49m\u001b[38;5;124;43m\"\u001b[39;49m\u001b[38;5;124;43mI\u001b[39;49m\u001b[38;5;124;43m\"\u001b[39;49m\u001b[43m)\u001b[49m\n",
      "\u001b[0;31mTypeError\u001b[0m: 'str' object cannot be interpreted as an integer"
     ]
    }
   ],
   "source": [
    "i.rjust"
   ]
  },
  {
   "cell_type": "code",
   "execution_count": 143,
   "id": "fe25b671-f28b-4b31-93c5-fe7e84b48a49",
   "metadata": {},
   "outputs": [
    {
     "ename": "TypeError",
     "evalue": "'str' object does not support item assignment",
     "output_type": "error",
     "traceback": [
      "\u001b[0;31m---------------------------------------------------------------------------\u001b[0m",
      "\u001b[0;31mTypeError\u001b[0m                                 Traceback (most recent call last)",
      "Cell \u001b[0;32mIn[143], line 1\u001b[0m\n\u001b[0;32m----> 1\u001b[0m \u001b[38;5;124;43m'\u001b[39;49m\u001b[38;5;124;43mpwskills\u001b[39;49m\u001b[38;5;124;43m'\u001b[39;49m\u001b[43m[\u001b[49m\u001b[38;5;241;43m0\u001b[39;49m\u001b[43m]\u001b[49m\u001b[38;5;241m=\u001b[39m\u001b[38;5;124m'\u001b[39m\u001b[38;5;124mP\u001b[39m\u001b[38;5;124m'\u001b[39m\n",
      "\u001b[0;31mTypeError\u001b[0m: 'str' object does not support item assignment"
     ]
    }
   ],
   "source": [
    "'pwskills'[0]='P'"
   ]
  },
  {
   "cell_type": "code",
   "execution_count": 144,
   "id": "8152b28b-dabc-4edd-9731-9c8efd0857bc",
   "metadata": {},
   "outputs": [
    {
     "name": "stdout",
     "output_type": "stream",
     "text": [
      "1\n",
      "2\n",
      "3\n",
      "4\n"
     ]
    }
   ],
   "source": [
    "for i in range(1,5):\n",
    "    print(i)"
   ]
  },
  {
   "cell_type": "code",
   "execution_count": 145,
   "id": "94257992-ef44-438a-987f-bc3378b41b3f",
   "metadata": {},
   "outputs": [
    {
     "name": "stdout",
     "output_type": "stream",
     "text": [
      "0\n",
      "1\n",
      "2\n",
      "3\n",
      "4\n"
     ]
    }
   ],
   "source": [
    "i = 0\n",
    "\n",
    "while i < 5:\n",
    "\n",
    "    print(i)\n",
    "\n",
    "    i += 1"
   ]
  },
  {
   "cell_type": "code",
   "execution_count": 146,
   "id": "f331484a-fb88-4760-8212-7efa9d0d5256",
   "metadata": {},
   "outputs": [
    {
     "name": "stdout",
     "output_type": "stream",
     "text": [
      "PwSkills PwSkills "
     ]
    }
   ],
   "source": [
    "for course in ['Data Science Masters', 'ML', 'data science masters', 'DL']:\n",
    "\n",
    "    if len(course)!= 2:\n",
    "\n",
    "        print('PwSkills' , end=' ')"
   ]
  },
  {
   "cell_type": "code",
   "execution_count": 147,
   "id": "f3a7ac04-b63d-4142-9a67-f2c5f1bd3f79",
   "metadata": {},
   "outputs": [
    {
     "name": "stdout",
     "output_type": "stream",
     "text": [
      "105\n"
     ]
    }
   ],
   "source": [
    "sum = 0\n",
    "\n",
    "for i in range(1,100):\n",
    "\n",
    "    sum += i\n",
    "\n",
    "    if sum > 100:\n",
    "\n",
    "        break\n",
    "\n",
    "print(sum)"
   ]
  },
  {
   "cell_type": "code",
   "execution_count": null,
   "id": "01600e80-bfeb-4530-8215-05a8a4254abd",
   "metadata": {},
   "outputs": [],
   "source": [
    "for i in l2:\n",
    "    if i==\"Suharsh\":\n",
    "        pass"
   ]
  },
  {
   "cell_type": "code",
   "execution_count": null,
   "id": "4e12998c-3c5c-4380-9cf1-8649975b5bbb",
   "metadata": {},
   "outputs": [],
   "source": [
    "num = 2\n",
    "\n",
    "sum = 0\n",
    "\n",
    "while num <=20:\n",
    "\n",
    "    sum += num\n",
    "\n",
    "    num += 2\n",
    "\n",
    "    count+=1\n",
    "\n",
    "print(sum)"
   ]
  },
  {
   "cell_type": "code",
   "execution_count": null,
   "id": "44c149db-0b68-4b64-87dd-02c0e0c7b744",
   "metadata": {},
   "outputs": [],
   "source": [
    "for i in 'Pwskills':\n",
    "    if i.lower() in ['a', 'e', 'i', 'o', 'u']:\n",
    "        print(True)"
   ]
  },
  {
   "cell_type": "code",
   "execution_count": null,
   "id": "fa820223-c224-4c2d-bda6-4a0f439b6865",
   "metadata": {},
   "outputs": [],
   "source": [
    "t=(1,2,3)\n",
    "t[1]=3\n"
   ]
  },
  {
   "cell_type": "code",
   "execution_count": null,
   "id": "175e06d5-faec-40bc-9a5d-c7755e9abedf",
   "metadata": {},
   "outputs": [],
   "source": [
    "print(\"Hi\")"
   ]
  },
  {
   "cell_type": "code",
   "execution_count": null,
   "id": "c20a1ec4-2f92-46ea-92d0-8e59f7c8b943",
   "metadata": {},
   "outputs": [],
   "source": []
  }
 ],
 "metadata": {
  "kernelspec": {
   "display_name": "Python 3 (ipykernel)",
   "language": "python",
   "name": "python3"
  },
  "language_info": {
   "codemirror_mode": {
    "name": "ipython",
    "version": 3
   },
   "file_extension": ".py",
   "mimetype": "text/x-python",
   "name": "python",
   "nbconvert_exporter": "python",
   "pygments_lexer": "ipython3",
   "version": "3.10.8"
  }
 },
 "nbformat": 4,
 "nbformat_minor": 5
}
