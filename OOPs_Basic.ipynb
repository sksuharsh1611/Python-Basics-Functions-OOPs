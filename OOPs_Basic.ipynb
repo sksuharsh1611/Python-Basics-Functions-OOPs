{
 "cells": [
  {
   "cell_type": "code",
   "execution_count": 1,
   "id": "9576e697-6180-4535-aa66-cb04a709bfd4",
   "metadata": {},
   "outputs": [],
   "source": [
    "# OOPS : Object oreinted programing system"
   ]
  },
  {
   "cell_type": "code",
   "execution_count": 2,
   "id": "bbca6106-2d97-4a9c-8ea9-7d49d14f0027",
   "metadata": {},
   "outputs": [],
   "source": [
    "a = 1  #a is instance or object of int class"
   ]
  },
  {
   "cell_type": "code",
   "execution_count": 3,
   "id": "0835c0f5-fb89-47d1-a77d-567cdc800ce6",
   "metadata": {},
   "outputs": [
    {
     "name": "stdout",
     "output_type": "stream",
     "text": [
      "<class 'int'>\n"
     ]
    }
   ],
   "source": [
    "print(type(a))"
   ]
  },
  {
   "cell_type": "code",
   "execution_count": 4,
   "id": "c156ddf0-b573-4f16-9eff-4aef078b7e24",
   "metadata": {},
   "outputs": [
    {
     "name": "stdout",
     "output_type": "stream",
     "text": [
      "<class 'str'>\n"
     ]
    }
   ],
   "source": [
    "print(type(\"pwskills\"))"
   ]
  },
  {
   "cell_type": "code",
   "execution_count": 14,
   "id": "df0ac4ca-6711-465c-bff4-0d8dfed47930",
   "metadata": {},
   "outputs": [],
   "source": [
    "# # Concept of classes\n",
    "# # Blueprint /skeleton :definition of objects\n",
    "# class is classification\n",
    "# object is variable or instance\n",
    "# Structered way of writing codes and increases reusabbility"
   ]
  },
  {
   "cell_type": "code",
   "execution_count": 15,
   "id": "43b7033e-d18a-406b-bbcd-558426d0086b",
   "metadata": {},
   "outputs": [
    {
     "ename": "SyntaxError",
     "evalue": "incomplete input (3527747674.py, line 1)",
     "output_type": "error",
     "traceback": [
      "\u001b[0;36m  Cell \u001b[0;32mIn[15], line 1\u001b[0;36m\u001b[0m\n\u001b[0;31m    class test:\u001b[0m\n\u001b[0m               ^\u001b[0m\n\u001b[0;31mSyntaxError\u001b[0m\u001b[0;31m:\u001b[0m incomplete input\n"
     ]
    }
   ],
   "source": [
    "class test:"
   ]
  },
  {
   "cell_type": "code",
   "execution_count": 11,
   "id": "61e742b6-9b20-473f-b70f-910328c55197",
   "metadata": {},
   "outputs": [],
   "source": [
    "# for blank class >> use pass keyword"
   ]
  },
  {
   "cell_type": "code",
   "execution_count": 12,
   "id": "a60b42d3-53a2-470b-a42c-a0e5f4c98349",
   "metadata": {},
   "outputs": [],
   "source": [
    "class test:\n",
    "    pass"
   ]
  },
  {
   "cell_type": "code",
   "execution_count": 16,
   "id": "b54c3c54-cea4-4606-904f-8569a6418720",
   "metadata": {},
   "outputs": [],
   "source": [
    "a = test()"
   ]
  },
  {
   "cell_type": "code",
   "execution_count": 17,
   "id": "68f8361d-838f-47fc-b09c-1cac53ad2812",
   "metadata": {},
   "outputs": [
    {
     "data": {
      "text/plain": [
       "__main__.test"
      ]
     },
     "execution_count": 17,
     "metadata": {},
     "output_type": "execute_result"
    }
   ],
   "source": [
    "type(a)"
   ]
  },
  {
   "cell_type": "code",
   "execution_count": 18,
   "id": "df62e2c6-7321-4487-ad43-965eb6e08965",
   "metadata": {},
   "outputs": [
    {
     "name": "stdout",
     "output_type": "stream",
     "text": [
      "<class '__main__.test'>\n"
     ]
    }
   ],
   "source": [
    "print(type(a))"
   ]
  },
  {
   "cell_type": "code",
   "execution_count": 25,
   "id": "eceb9f73-32da-4311-9c1f-f02b7c31c629",
   "metadata": {},
   "outputs": [],
   "source": [
    "class pwskills:\n",
    "    \n",
    "    def welcome_msg(self):\n",
    "        print(\"Welcome to pwskills\")"
   ]
  },
  {
   "cell_type": "code",
   "execution_count": 27,
   "id": "44eef4bc-9d74-4a6b-b3b1-3ab3f49f45fd",
   "metadata": {},
   "outputs": [],
   "source": [
    "suharsh = pwskills()"
   ]
  },
  {
   "cell_type": "code",
   "execution_count": 28,
   "id": "36d378cd-3592-4105-9a19-c34b60ca6005",
   "metadata": {},
   "outputs": [
    {
     "name": "stdout",
     "output_type": "stream",
     "text": [
      "<class '__main__.pwskills'>\n"
     ]
    }
   ],
   "source": [
    "print(type(suharsh))"
   ]
  },
  {
   "cell_type": "code",
   "execution_count": 22,
   "id": "7dadc493-841c-4e2c-b1b5-9da6e0859d87",
   "metadata": {},
   "outputs": [
    {
     "ename": "TypeError",
     "evalue": "pwskills.welcome_msg() takes 0 positional arguments but 1 was given",
     "output_type": "error",
     "traceback": [
      "\u001b[0;31m---------------------------------------------------------------------------\u001b[0m",
      "\u001b[0;31mTypeError\u001b[0m                                 Traceback (most recent call last)",
      "Cell \u001b[0;32mIn[22], line 1\u001b[0m\n\u001b[0;32m----> 1\u001b[0m \u001b[43msuharsh\u001b[49m\u001b[38;5;241;43m.\u001b[39;49m\u001b[43mwelcome_msg\u001b[49m\u001b[43m(\u001b[49m\u001b[43m)\u001b[49m\n",
      "\u001b[0;31mTypeError\u001b[0m: pwskills.welcome_msg() takes 0 positional arguments but 1 was given"
     ]
    }
   ],
   "source": [
    "suharsh.welcome_msg()  #Whatever methods written inside a class needs to bind with class"
   ]
  },
  {
   "cell_type": "code",
   "execution_count": 29,
   "id": "75073067-03f2-48ae-a2e0-a366ae85a83a",
   "metadata": {},
   "outputs": [
    {
     "name": "stdout",
     "output_type": "stream",
     "text": [
      "Welcome to pwskills\n"
     ]
    }
   ],
   "source": [
    "suharsh.welcome_msg()"
   ]
  },
  {
   "cell_type": "code",
   "execution_count": 30,
   "id": "d5ff6388-9f14-4fec-ab3c-0c66e8261f04",
   "metadata": {},
   "outputs": [],
   "source": [
    "kumar = pwskills()"
   ]
  },
  {
   "cell_type": "code",
   "execution_count": 31,
   "id": "4c50c74c-6e93-4f61-8d60-eb6b15aa5f40",
   "metadata": {},
   "outputs": [
    {
     "name": "stdout",
     "output_type": "stream",
     "text": [
      "Welcome to pwskills\n"
     ]
    }
   ],
   "source": [
    "kumar.welcome_msg()"
   ]
  },
  {
   "cell_type": "code",
   "execution_count": null,
   "id": "f467c83d-9a0e-4540-8cd6-12fa6da439a7",
   "metadata": {},
   "outputs": [],
   "source": [
    "# __init__(): used to pass data inside a function under any class"
   ]
  },
  {
   "cell_type": "code",
   "execution_count": 37,
   "id": "5ebc537c-8c72-4362-bdfc-bd5d2d07b5ff",
   "metadata": {},
   "outputs": [],
   "source": [
    "class pwskills1:\n",
    "    \n",
    "    def __init__(self,phone_no,email_id,stud_id):   #constructor : inbuilt func\n",
    "        self.phone_no = phone_no  #class variables >>self.____\n",
    "        self.email_id= email_id   #to access class var > use self.\n",
    "        self.stud_id = stud_id\n",
    "    \n",
    "    def return_stud_details(self):\n",
    "        return self.stud_id,self.phone_no,self.email_id\n",
    "# Generic class"
   ]
  },
  {
   "cell_type": "code",
   "execution_count": 38,
   "id": "0f1b1495-6c38-40ba-8fe2-b01e3b1a0a36",
   "metadata": {},
   "outputs": [
    {
     "ename": "TypeError",
     "evalue": "pwskills1.__init__() missing 3 required positional arguments: 'phone_no', 'email_id', and 'stud_id'",
     "output_type": "error",
     "traceback": [
      "\u001b[0;31m---------------------------------------------------------------------------\u001b[0m",
      "\u001b[0;31mTypeError\u001b[0m                                 Traceback (most recent call last)",
      "Cell \u001b[0;32mIn[38], line 1\u001b[0m\n\u001b[0;32m----> 1\u001b[0m suraj \u001b[38;5;241m=\u001b[39m \u001b[43mpwskills1\u001b[49m\u001b[43m(\u001b[49m\u001b[43m)\u001b[49m\n",
      "\u001b[0;31mTypeError\u001b[0m: pwskills1.__init__() missing 3 required positional arguments: 'phone_no', 'email_id', and 'stud_id'"
     ]
    }
   ],
   "source": [
    "suraj = pwskills1()"
   ]
  },
  {
   "cell_type": "code",
   "execution_count": 39,
   "id": "c72f5937-033e-407b-9f92-19f68738d85f",
   "metadata": {},
   "outputs": [],
   "source": [
    "suraj = pwskills1(6200283942,'sk@gmail.com',123)"
   ]
  },
  {
   "cell_type": "code",
   "execution_count": 40,
   "id": "37b55706-40b2-4983-a3cc-a5bf0c9dfea9",
   "metadata": {},
   "outputs": [
    {
     "data": {
      "text/plain": [
       "(123, 6200283942, 'sk@gmail.com')"
      ]
     },
     "execution_count": 40,
     "metadata": {},
     "output_type": "execute_result"
    }
   ],
   "source": [
    "suraj.return_stud_details()"
   ]
  },
  {
   "cell_type": "code",
   "execution_count": 41,
   "id": "0d051067-8062-4156-908c-e00fe586acc2",
   "metadata": {
    "scrolled": true,
    "tags": []
   },
   "outputs": [],
   "source": [
    "raj = pwskills1(154547,'raj@pw.com',789)"
   ]
  },
  {
   "cell_type": "code",
   "execution_count": 42,
   "id": "658587ff-d033-4838-97b4-1393771b9821",
   "metadata": {},
   "outputs": [
    {
     "data": {
      "text/plain": [
       "(789, 154547, 'raj@pw.com')"
      ]
     },
     "execution_count": 42,
     "metadata": {},
     "output_type": "execute_result"
    }
   ],
   "source": [
    "raj.return_stud_details()"
   ]
  },
  {
   "cell_type": "code",
   "execution_count": 48,
   "id": "adedd451-c58a-4a64-9f0f-1af550dcae25",
   "metadata": {},
   "outputs": [
    {
     "data": {
      "text/plain": [
       "154547"
      ]
     },
     "execution_count": 48,
     "metadata": {},
     "output_type": "execute_result"
    }
   ],
   "source": [
    "raj.phone_no"
   ]
  },
  {
   "cell_type": "code",
   "execution_count": 49,
   "id": "d3ad9ca3-5cdd-44ee-a21a-bad42d112d01",
   "metadata": {},
   "outputs": [
    {
     "data": {
      "text/plain": [
       "789"
      ]
     },
     "execution_count": 49,
     "metadata": {},
     "output_type": "execute_result"
    }
   ],
   "source": [
    "raj.stud_id"
   ]
  },
  {
   "cell_type": "code",
   "execution_count": 53,
   "id": "b663f933-1e9d-4a37-83fa-876d5e415b53",
   "metadata": {},
   "outputs": [],
   "source": [
    "class pwskills2:\n",
    "    \n",
    "    def __init__(self,phone_no,email_id,stud_id):   #constructor : inbuilt func\n",
    "        self.phone_no1 = phone_no  #class variables >>self.____\n",
    "        self.email_id1= email_id   #to access class var > use self.\n",
    "        self.stud_id1 = stud_id\n",
    "    \n",
    "    def return_stud_details(self):\n",
    "        return self.stud_id1,self.phone_no1,self.email_id1\n",
    "# Generic class"
   ]
  },
  {
   "cell_type": "code",
   "execution_count": 55,
   "id": "b17aef9f-3815-4949-9028-0fa9ae35da03",
   "metadata": {},
   "outputs": [],
   "source": [
    "suharsh = pwskills2(6201444,\"sk@h.com\",564)"
   ]
  },
  {
   "cell_type": "code",
   "execution_count": 47,
   "id": "507d4864-054d-425b-8246-f06b54b77ec5",
   "metadata": {},
   "outputs": [
    {
     "ename": "AttributeError",
     "evalue": "'pwskills2' object has no attribute 'phone_no'",
     "output_type": "error",
     "traceback": [
      "\u001b[0;31m---------------------------------------------------------------------------\u001b[0m",
      "\u001b[0;31mAttributeError\u001b[0m                            Traceback (most recent call last)",
      "Cell \u001b[0;32mIn[47], line 1\u001b[0m\n\u001b[0;32m----> 1\u001b[0m \u001b[43msuharsh\u001b[49m\u001b[38;5;241;43m.\u001b[39;49m\u001b[43mphone_no\u001b[49m\n",
      "\u001b[0;31mAttributeError\u001b[0m: 'pwskills2' object has no attribute 'phone_no'"
     ]
    }
   ],
   "source": [
    "suharsh.phone_no"
   ]
  },
  {
   "cell_type": "code",
   "execution_count": 50,
   "id": "b95dbeaf-db31-41da-a4c8-a3453c96761c",
   "metadata": {},
   "outputs": [
    {
     "data": {
      "text/plain": [
       "6201444"
      ]
     },
     "execution_count": 50,
     "metadata": {},
     "output_type": "execute_result"
    }
   ],
   "source": [
    "suharsh.phone_no1"
   ]
  },
  {
   "cell_type": "code",
   "execution_count": 51,
   "id": "7df5bd94-384f-42b0-b50f-a66411bba94d",
   "metadata": {},
   "outputs": [
    {
     "data": {
      "text/plain": [
       "'sk@h.com'"
      ]
     },
     "execution_count": 51,
     "metadata": {},
     "output_type": "execute_result"
    }
   ],
   "source": [
    "suharsh.email_id1"
   ]
  },
  {
   "cell_type": "code",
   "execution_count": 54,
   "id": "59423138-7a6e-4035-9902-750214f508f9",
   "metadata": {},
   "outputs": [
    {
     "ename": "AttributeError",
     "evalue": "'pwskills2' object has no attribute 'stud_id'",
     "output_type": "error",
     "traceback": [
      "\u001b[0;31m---------------------------------------------------------------------------\u001b[0m",
      "\u001b[0;31mAttributeError\u001b[0m                            Traceback (most recent call last)",
      "Cell \u001b[0;32mIn[54], line 1\u001b[0m\n\u001b[0;32m----> 1\u001b[0m \u001b[43msuharsh\u001b[49m\u001b[38;5;241;43m.\u001b[39;49m\u001b[43mreturn_stud_details\u001b[49m\u001b[43m(\u001b[49m\u001b[43m)\u001b[49m\n",
      "Cell \u001b[0;32mIn[44], line 9\u001b[0m, in \u001b[0;36mpwskills2.return_stud_details\u001b[0;34m(self)\u001b[0m\n\u001b[1;32m      8\u001b[0m \u001b[38;5;28;01mdef\u001b[39;00m \u001b[38;5;21mreturn_stud_details\u001b[39m(\u001b[38;5;28mself\u001b[39m):\n\u001b[0;32m----> 9\u001b[0m     \u001b[38;5;28;01mreturn\u001b[39;00m \u001b[38;5;28;43mself\u001b[39;49m\u001b[38;5;241;43m.\u001b[39;49m\u001b[43mstud_id\u001b[49m,\u001b[38;5;28mself\u001b[39m\u001b[38;5;241m.\u001b[39mphone_no,\u001b[38;5;28mself\u001b[39m\u001b[38;5;241m.\u001b[39memail_id\n",
      "\u001b[0;31mAttributeError\u001b[0m: 'pwskills2' object has no attribute 'stud_id'"
     ]
    }
   ],
   "source": [
    "suharsh.return_stud_details()  #in method need to write updated self. associated with class"
   ]
  },
  {
   "cell_type": "code",
   "execution_count": 56,
   "id": "a7935b18-1cf8-47e1-8d46-ba3db5d378a6",
   "metadata": {},
   "outputs": [
    {
     "data": {
      "text/plain": [
       "(564, 6201444, 'sk@h.com')"
      ]
     },
     "execution_count": 56,
     "metadata": {},
     "output_type": "execute_result"
    }
   ],
   "source": [
    "suharsh.return_stud_details()"
   ]
  },
  {
   "cell_type": "code",
   "execution_count": null,
   "id": "ef515faf-b912-4552-b11d-161f795d5c7d",
   "metadata": {},
   "outputs": [],
   "source": [
    "# object.varibale_name >> To fetch any particular data from a class"
   ]
  },
  {
   "cell_type": "code",
   "execution_count": 57,
   "id": "55cb5b0a-24de-4623-93c0-2c05fdc7da03",
   "metadata": {},
   "outputs": [],
   "source": [
    "class pwskills2:\n",
    "#self is not a reserved keyword > user need to give any name which will behave as a pointer for that class\n",
    "    def __init__(suha,phone_no,email_id,stud_id):   #constructor : inbuilt func\n",
    "        suha.phone_no1 = phone_no  \n",
    "        suha.email_id1= email_id   \n",
    "        suha.stud_id1 = stud_id\n",
    "    \n",
    "    def return_stud_details(self):\n",
    "        return suha.stud_id1,suha.phone_no1,suha.email_id1\n",
    "# Generic class"
   ]
  },
  {
   "cell_type": "code",
   "execution_count": 59,
   "id": "d05dd665-62f3-42f0-9134-d8bb1afebe67",
   "metadata": {},
   "outputs": [],
   "source": [
    "raju = pwskills2(789789,'raju@gmail.com',1278)"
   ]
  },
  {
   "cell_type": "code",
   "execution_count": 60,
   "id": "f14f4a38-91c6-49bf-bd6e-1e7809ddc9af",
   "metadata": {},
   "outputs": [
    {
     "data": {
      "text/plain": [
       "789789"
      ]
     },
     "execution_count": 60,
     "metadata": {},
     "output_type": "execute_result"
    }
   ],
   "source": [
    "raju.phone_no1"
   ]
  },
  {
   "cell_type": "code",
   "execution_count": 61,
   "id": "827bcf55-da78-48df-adbd-8b6d7055fe0b",
   "metadata": {},
   "outputs": [
    {
     "data": {
      "text/plain": [
       "'raju@gmail.com'"
      ]
     },
     "execution_count": 61,
     "metadata": {},
     "output_type": "execute_result"
    }
   ],
   "source": [
    "raju.email_id1"
   ]
  },
  {
   "cell_type": "code",
   "execution_count": 63,
   "id": "658b6458-d8f5-4322-92f7-54678523fcb7",
   "metadata": {},
   "outputs": [
    {
     "data": {
      "text/plain": [
       "1278"
      ]
     },
     "execution_count": 63,
     "metadata": {},
     "output_type": "execute_result"
    }
   ],
   "source": [
    "raju.stud_id1"
   ]
  },
  {
   "cell_type": "code",
   "execution_count": null,
   "id": "3bcbafbe-fac9-43f6-a3a8-d3fefacd1122",
   "metadata": {},
   "outputs": [],
   "source": []
  }
 ],
 "metadata": {
  "kernelspec": {
   "display_name": "Python 3 (ipykernel)",
   "language": "python",
   "name": "python3"
  },
  "language_info": {
   "codemirror_mode": {
    "name": "ipython",
    "version": 3
   },
   "file_extension": ".py",
   "mimetype": "text/x-python",
   "name": "python",
   "nbconvert_exporter": "python",
   "pygments_lexer": "ipython3",
   "version": "3.10.8"
  }
 },
 "nbformat": 4,
 "nbformat_minor": 5
}
