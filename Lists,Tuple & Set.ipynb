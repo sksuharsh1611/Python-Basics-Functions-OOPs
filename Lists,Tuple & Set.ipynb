{
 "cells": [
  {
   "cell_type": "code",
   "execution_count": 1,
   "id": "0c100c80-74e7-49d0-816a-a61604cba2e6",
   "metadata": {},
   "outputs": [],
   "source": [
    "l1=[45,34,5,6,-1,[1,2,3],'Suharsh']"
   ]
  },
  {
   "cell_type": "code",
   "execution_count": 2,
   "id": "ee519f88-d2a8-466a-bbd6-9c05a40c4b56",
   "metadata": {},
   "outputs": [
    {
     "data": {
      "text/plain": [
       "[45, 34, 5, 6, -1, [1, 2, 3], 'Suharsh']"
      ]
     },
     "execution_count": 2,
     "metadata": {},
     "output_type": "execute_result"
    }
   ],
   "source": [
    "l1"
   ]
  },
  {
   "cell_type": "code",
   "execution_count": 3,
   "id": "fee62d6e-d30f-43e2-bab7-14374d9f2563",
   "metadata": {},
   "outputs": [
    {
     "data": {
      "text/plain": [
       "'Suharsh'"
      ]
     },
     "execution_count": 3,
     "metadata": {},
     "output_type": "execute_result"
    }
   ],
   "source": [
    "l1.pop()"
   ]
  },
  {
   "cell_type": "code",
   "execution_count": 4,
   "id": "99b94795-c218-42e0-8b4b-a3ec956fd1cb",
   "metadata": {},
   "outputs": [
    {
     "data": {
      "text/plain": [
       "[45, 34, 5, 6, -1, [1, 2, 3]]"
      ]
     },
     "execution_count": 4,
     "metadata": {},
     "output_type": "execute_result"
    }
   ],
   "source": [
    "l1"
   ]
  },
  {
   "cell_type": "code",
   "execution_count": 5,
   "id": "18265cd0-cf83-4c88-a3f9-1efb45060dd9",
   "metadata": {},
   "outputs": [
    {
     "data": {
      "text/plain": [
       "6"
      ]
     },
     "execution_count": 5,
     "metadata": {},
     "output_type": "execute_result"
    }
   ],
   "source": [
    "l1.pop(3)"
   ]
  },
  {
   "cell_type": "code",
   "execution_count": 8,
   "id": "1e15a7f4-b06b-456d-aabe-25d1a7cef6b4",
   "metadata": {},
   "outputs": [
    {
     "data": {
      "text/plain": [
       "[45, 34, 5, -1, [1, 2, 3], 12, 12]"
      ]
     },
     "execution_count": 8,
     "metadata": {},
     "output_type": "execute_result"
    }
   ],
   "source": [
    "l1.append(12)\n",
    "l1"
   ]
  },
  {
   "cell_type": "code",
   "execution_count": 9,
   "id": "f8a533d7-b6cd-4700-bc2c-d5d3e722b916",
   "metadata": {},
   "outputs": [],
   "source": [
    "l1.remove(12)"
   ]
  },
  {
   "cell_type": "code",
   "execution_count": 10,
   "id": "6391b61e-0052-4934-8a99-c7f866792e64",
   "metadata": {},
   "outputs": [
    {
     "data": {
      "text/plain": [
       "[45, 34, 5, -1, [1, 2, 3], 12]"
      ]
     },
     "execution_count": 10,
     "metadata": {},
     "output_type": "execute_result"
    }
   ],
   "source": [
    "l1"
   ]
  },
  {
   "cell_type": "code",
   "execution_count": 14,
   "id": "6b71faa3-2174-450b-ac94-880348e42283",
   "metadata": {},
   "outputs": [
    {
     "data": {
      "text/plain": [
       "5"
      ]
     },
     "execution_count": 14,
     "metadata": {},
     "output_type": "execute_result"
    }
   ],
   "source": [
    "l1.index(12)"
   ]
  },
  {
   "cell_type": "code",
   "execution_count": 15,
   "id": "0563611b-e83d-42e6-9093-1033bd36894e",
   "metadata": {},
   "outputs": [
    {
     "data": {
      "text/plain": [
       "[45, 34, 5, -1, [1, 2, 3], 12]"
      ]
     },
     "execution_count": 15,
     "metadata": {},
     "output_type": "execute_result"
    }
   ],
   "source": [
    "l1 #not possible to remove sub-list items directly"
   ]
  },
  {
   "cell_type": "code",
   "execution_count": 21,
   "id": "d33b6038-e9dc-41c2-872f-9c222f092694",
   "metadata": {},
   "outputs": [
    {
     "data": {
      "text/plain": [
       "[45, 34, 5, -1, [3], 12]"
      ]
     },
     "execution_count": 21,
     "metadata": {},
     "output_type": "execute_result"
    }
   ],
   "source": [
    "l1[4].remove(1)  #To remove sub-list items use index and remove(item)\n",
    "l1"
   ]
  },
  {
   "cell_type": "code",
   "execution_count": 22,
   "id": "34e260a5-edcb-46f1-9982-325a323c67c5",
   "metadata": {},
   "outputs": [],
   "source": [
    "l1.append('Suharsh')"
   ]
  },
  {
   "cell_type": "code",
   "execution_count": 23,
   "id": "e9f7cd5a-4ebc-4491-967a-ad58eb9f90ed",
   "metadata": {},
   "outputs": [
    {
     "data": {
      "text/plain": [
       "[45, 34, 5, -1, [3], 12, 'Suharsh']"
      ]
     },
     "execution_count": 23,
     "metadata": {},
     "output_type": "execute_result"
    }
   ],
   "source": [
    "l1"
   ]
  },
  {
   "cell_type": "code",
   "execution_count": 24,
   "id": "fa19ffae-1502-4ada-b368-d82e18846f37",
   "metadata": {},
   "outputs": [
    {
     "ename": "ValueError",
     "evalue": "list.remove(x): x not in list",
     "output_type": "error",
     "traceback": [
      "\u001b[0;31m---------------------------------------------------------------------------\u001b[0m",
      "\u001b[0;31mValueError\u001b[0m                                Traceback (most recent call last)",
      "Cell \u001b[0;32mIn[24], line 1\u001b[0m\n\u001b[0;32m----> 1\u001b[0m \u001b[43ml1\u001b[49m\u001b[38;5;241;43m.\u001b[39;49m\u001b[43mremove\u001b[49m\u001b[43m(\u001b[49m\u001b[38;5;124;43m'\u001b[39;49m\u001b[38;5;124;43mS\u001b[39;49m\u001b[38;5;124;43m'\u001b[39;49m\u001b[43m)\u001b[49m\u001b[38;5;66;03m#\u001b[39;00m\n",
      "\u001b[0;31mValueError\u001b[0m: list.remove(x): x not in list"
     ]
    }
   ],
   "source": [
    "l1.remove('S') #string is immutable ; not possible to remve"
   ]
  },
  {
   "cell_type": "code",
   "execution_count": 25,
   "id": "3c2b0054-c45a-473b-a729-7c92348c4d06",
   "metadata": {},
   "outputs": [
    {
     "ename": "TypeError",
     "evalue": "list.remove() takes exactly one argument (0 given)",
     "output_type": "error",
     "traceback": [
      "\u001b[0;31m---------------------------------------------------------------------------\u001b[0m",
      "\u001b[0;31mTypeError\u001b[0m                                 Traceback (most recent call last)",
      "Cell \u001b[0;32mIn[25], line 1\u001b[0m\n\u001b[0;32m----> 1\u001b[0m \u001b[43ml1\u001b[49m\u001b[38;5;241;43m.\u001b[39;49m\u001b[43mremove\u001b[49m\u001b[43m(\u001b[49m\u001b[43m)\u001b[49m\n",
      "\u001b[0;31mTypeError\u001b[0m: list.remove() takes exactly one argument (0 given)"
     ]
    }
   ],
   "source": [
    "l1.remove() #Need to give item value to remove"
   ]
  },
  {
   "cell_type": "code",
   "execution_count": 34,
   "id": "29b70dfa-1bad-453a-b2d8-77cbf152c4b2",
   "metadata": {},
   "outputs": [
    {
     "data": {
      "text/plain": [
       "[45, 34, 5, -1, [3], 12, 'Suharsh']"
      ]
     },
     "execution_count": 34,
     "metadata": {},
     "output_type": "execute_result"
    }
   ],
   "source": [
    "l1.reverse()  #To permanent reverse a list >>Manupulate original list\n",
    "l1[::-1]      #TO temporary reverse >> Can be viewed in console\n",
    "l1 = l1[::-1]  # To reassign l1 as permanent {reverse() == [::-1]}\n",
    "l1"
   ]
  },
  {
   "cell_type": "code",
   "execution_count": 32,
   "id": "46981d8e-24c4-4b4d-93f6-6b9796eca8b9",
   "metadata": {},
   "outputs": [
    {
     "data": {
      "text/plain": [
       "[45, 34, 5, -1, [3], 12, 'Suharsh']"
      ]
     },
     "execution_count": 32,
     "metadata": {},
     "output_type": "execute_result"
    }
   ],
   "source": [
    "l1"
   ]
  },
  {
   "cell_type": "code",
   "execution_count": 35,
   "id": "5b554f2a-9c20-4fc2-afa6-767844030695",
   "metadata": {},
   "outputs": [
    {
     "ename": "TypeError",
     "evalue": "'<' not supported between instances of 'list' and 'int'",
     "output_type": "error",
     "traceback": [
      "\u001b[0;31m---------------------------------------------------------------------------\u001b[0m",
      "\u001b[0;31mTypeError\u001b[0m                                 Traceback (most recent call last)",
      "Cell \u001b[0;32mIn[35], line 1\u001b[0m\n\u001b[0;32m----> 1\u001b[0m \u001b[43ml1\u001b[49m\u001b[38;5;241;43m.\u001b[39;49m\u001b[43msort\u001b[49m\u001b[43m(\u001b[49m\u001b[43m)\u001b[49m\n",
      "\u001b[0;31mTypeError\u001b[0m: '<' not supported between instances of 'list' and 'int'"
     ]
    }
   ],
   "source": [
    "l1.sort() #Need to have only int values or similar data types"
   ]
  },
  {
   "cell_type": "code",
   "execution_count": 36,
   "id": "c1429681-ca45-4aed-8ccc-52b3e9cc8af4",
   "metadata": {},
   "outputs": [],
   "source": [
    "l2=[1,2,5,43,133,3,0,-1,234,34,2,4]"
   ]
  },
  {
   "cell_type": "code",
   "execution_count": 37,
   "id": "72b16732-4167-418f-b266-55a50b01535e",
   "metadata": {},
   "outputs": [],
   "source": [
    "l2.sort()"
   ]
  },
  {
   "cell_type": "code",
   "execution_count": 38,
   "id": "a28d1050-41d5-41ef-9e11-9f6200923a57",
   "metadata": {},
   "outputs": [
    {
     "data": {
      "text/plain": [
       "[-1, 0, 1, 2, 2, 3, 4, 5, 34, 43, 133, 234]"
      ]
     },
     "execution_count": 38,
     "metadata": {},
     "output_type": "execute_result"
    }
   ],
   "source": [
    "l2"
   ]
  },
  {
   "cell_type": "code",
   "execution_count": 39,
   "id": "e9b1dab7-0b75-4f97-be47-8cd0017e2d3d",
   "metadata": {},
   "outputs": [
    {
     "data": {
      "text/plain": [
       "['sun', 'rain', 'apple', 'goat', 'zirrafe']"
      ]
     },
     "execution_count": 39,
     "metadata": {},
     "output_type": "execute_result"
    }
   ],
   "source": [
    "l3=['sun','rain','apple','goat','zirrafe']\n",
    "l3"
   ]
  },
  {
   "cell_type": "code",
   "execution_count": 40,
   "id": "649c7366-5985-47e2-81ff-01fa2f14bf09",
   "metadata": {},
   "outputs": [
    {
     "data": {
      "text/plain": [
       "['apple', 'goat', 'rain', 'sun', 'zirrafe']"
      ]
     },
     "execution_count": 40,
     "metadata": {},
     "output_type": "execute_result"
    }
   ],
   "source": [
    "l3.sort()  #Sorts into ascending order\n",
    "l3"
   ]
  },
  {
   "cell_type": "code",
   "execution_count": 42,
   "id": "2184c862-5aba-428f-a65f-79d5330d336e",
   "metadata": {},
   "outputs": [
    {
     "data": {
      "text/plain": [
       "['zirrafe', 'sun', 'rain', 'goat', 'apple']"
      ]
     },
     "execution_count": 42,
     "metadata": {},
     "output_type": "execute_result"
    }
   ],
   "source": [
    "l3.sort(reverse=True) # To sort into desc order\n",
    "l3"
   ]
  },
  {
   "cell_type": "code",
   "execution_count": 45,
   "id": "005e9839-e0dd-4407-9405-fe521fd179a5",
   "metadata": {},
   "outputs": [
    {
     "data": {
      "text/plain": [
       "1"
      ]
     },
     "execution_count": 45,
     "metadata": {},
     "output_type": "execute_result"
    }
   ],
   "source": [
    "l3.index('sun')"
   ]
  },
  {
   "cell_type": "code",
   "execution_count": 46,
   "id": "c81b1f62-3e8e-44e1-afdc-500593fcbe3a",
   "metadata": {},
   "outputs": [
    {
     "data": {
      "text/plain": [
       "1"
      ]
     },
     "execution_count": 46,
     "metadata": {},
     "output_type": "execute_result"
    }
   ],
   "source": [
    "l3.count('sun')  #To know count or Total no. of occurrence of element in list"
   ]
  },
  {
   "cell_type": "code",
   "execution_count": 47,
   "id": "9e76ae1d-8445-4522-aa07-24b611408afc",
   "metadata": {},
   "outputs": [],
   "source": [
    "s='suharsh'"
   ]
  },
  {
   "cell_type": "code",
   "execution_count": 48,
   "id": "cb49781d-adb1-4830-b712-dbe4d6daa804",
   "metadata": {},
   "outputs": [
    {
     "data": {
      "text/plain": [
       "'s'"
      ]
     },
     "execution_count": 48,
     "metadata": {},
     "output_type": "execute_result"
    }
   ],
   "source": [
    "s[0]"
   ]
  },
  {
   "cell_type": "code",
   "execution_count": 49,
   "id": "21d72aa8-25ea-4d52-92e3-045762676f32",
   "metadata": {},
   "outputs": [
    {
     "ename": "TypeError",
     "evalue": "'str' object does not support item assignment",
     "output_type": "error",
     "traceback": [
      "\u001b[0;31m---------------------------------------------------------------------------\u001b[0m",
      "\u001b[0;31mTypeError\u001b[0m                                 Traceback (most recent call last)",
      "Cell \u001b[0;32mIn[49], line 1\u001b[0m\n\u001b[0;32m----> 1\u001b[0m \u001b[43ms\u001b[49m\u001b[43m[\u001b[49m\u001b[38;5;241;43m0\u001b[39;49m\u001b[43m]\u001b[49m\u001b[38;5;241m=\u001b[39m\u001b[38;5;124m'\u001b[39m\u001b[38;5;124ma\u001b[39m\u001b[38;5;124m'\u001b[39m\n\u001b[1;32m      2\u001b[0m s\n",
      "\u001b[0;31mTypeError\u001b[0m: 'str' object does not support item assignment"
     ]
    }
   ],
   "source": [
    "s[0]='a'  #No possible to replace { Concept of immutable}\n",
    "s"
   ]
  },
  {
   "cell_type": "code",
   "execution_count": 50,
   "id": "9b530631-5476-424f-ac15-dded26401cfe",
   "metadata": {},
   "outputs": [],
   "source": [
    "l4=[3,4,5,6,7]  "
   ]
  },
  {
   "cell_type": "code",
   "execution_count": 51,
   "id": "7b0e20b8-5b05-4511-a41d-ce4c5f0a4e4c",
   "metadata": {},
   "outputs": [
    {
     "data": {
      "text/plain": [
       "3"
      ]
     },
     "execution_count": 51,
     "metadata": {},
     "output_type": "execute_result"
    }
   ],
   "source": [
    "l4[0]    #{Concept of Mutablity} "
   ]
  },
  {
   "cell_type": "code",
   "execution_count": 52,
   "id": "266cc0b2-0904-483a-9314-dcf586c9e47e",
   "metadata": {},
   "outputs": [
    {
     "data": {
      "text/plain": [
       "[50, 4, 5, 6, 7]"
      ]
     },
     "execution_count": 52,
     "metadata": {},
     "output_type": "execute_result"
    }
   ],
   "source": [
    "l4[0]=50  #List element can be replaced by giving index\n",
    "l4"
   ]
  },
  {
   "cell_type": "code",
   "execution_count": 53,
   "id": "a7fbe510-ecf7-4db7-a4fc-8b2ddb83a793",
   "metadata": {},
   "outputs": [],
   "source": [
    "# mutablity : TO change/replace index of some item\n",
    "# immutablity : Can't be replaced by giving index"
   ]
  },
  {
   "cell_type": "code",
   "execution_count": 54,
   "id": "2d7b8632-b997-4203-99f3-0cd0e7b9bc17",
   "metadata": {},
   "outputs": [
    {
     "data": {
      "text/plain": [
       "'K'"
      ]
     },
     "execution_count": 54,
     "metadata": {},
     "output_type": "execute_result"
    }
   ],
   "source": [
    "k='Kite'\n",
    "k[0]"
   ]
  },
  {
   "cell_type": "code",
   "execution_count": 55,
   "id": "01f99b59-7bde-40fd-9637-e8f001f6fbb3",
   "metadata": {},
   "outputs": [
    {
     "data": {
      "text/plain": [
       "'Rite'"
      ]
     },
     "execution_count": 55,
     "metadata": {},
     "output_type": "execute_result"
    }
   ],
   "source": [
    "k.replace('K','R')"
   ]
  },
  {
   "cell_type": "code",
   "execution_count": 56,
   "id": "730a8127-abb8-4967-9551-ee241778cee5",
   "metadata": {},
   "outputs": [
    {
     "data": {
      "text/plain": [
       "'Kite'"
      ]
     },
     "execution_count": 56,
     "metadata": {},
     "output_type": "execute_result"
    }
   ],
   "source": [
    "k"
   ]
  },
  {
   "cell_type": "code",
   "execution_count": 57,
   "id": "eb9ac203-04ca-4075-99f4-8fe1dbffd1d1",
   "metadata": {},
   "outputs": [],
   "source": [
    "k=k.replace('K','R')  #This is not mutablity ; We reassign to new memory location"
   ]
  },
  {
   "cell_type": "code",
   "execution_count": 58,
   "id": "c609790d-2986-4a8b-87db-e5b75f7b1fe9",
   "metadata": {},
   "outputs": [
    {
     "data": {
      "text/plain": [
       "'Rite'"
      ]
     },
     "execution_count": 58,
     "metadata": {},
     "output_type": "execute_result"
    }
   ],
   "source": [
    "k"
   ]
  },
  {
   "cell_type": "code",
   "execution_count": 59,
   "id": "b3e5acc0-c198-4d03-9b9b-9b30905949a4",
   "metadata": {},
   "outputs": [
    {
     "data": {
      "text/plain": [
       "'aaaccccbbb'"
      ]
     },
     "execution_count": 59,
     "metadata": {},
     "output_type": "execute_result"
    }
   ],
   "source": [
    "a='aaajjjjbbb'\n",
    "a.replace('j','c')"
   ]
  },
  {
   "cell_type": "code",
   "execution_count": 60,
   "id": "caa20542-9c8f-4534-97bc-f3c5ce5ce4a1",
   "metadata": {},
   "outputs": [
    {
     "data": {
      "text/plain": [
       "'aaajjjjzzb'"
      ]
     },
     "execution_count": 60,
     "metadata": {},
     "output_type": "execute_result"
    }
   ],
   "source": [
    "a.replace('b','z',2)"
   ]
  },
  {
   "cell_type": "code",
   "execution_count": 62,
   "id": "7538eed0-4e0b-4e1b-b5fe-d35a6fe7c576",
   "metadata": {},
   "outputs": [],
   "source": [
    "#Tuple : ()  it can store any data type element ; Collection as List"
   ]
  },
  {
   "cell_type": "code",
   "execution_count": 63,
   "id": "e4eab53a-6802-4be7-87ef-7aace3b42cff",
   "metadata": {},
   "outputs": [
    {
     "data": {
      "text/plain": [
       "(1, 2, 3, 4, 'Suharsh', '', -92, 73, [12, 45, 67])"
      ]
     },
     "execution_count": 63,
     "metadata": {},
     "output_type": "execute_result"
    }
   ],
   "source": [
    "t=(1,2,3,4,\"Suharsh\",'',-92,73,[12,45,67])\n",
    "t"
   ]
  },
  {
   "cell_type": "code",
   "execution_count": 64,
   "id": "e1adc06d-6845-4933-8d38-0a5c7b580a0d",
   "metadata": {},
   "outputs": [
    {
     "data": {
      "text/plain": [
       "tuple"
      ]
     },
     "execution_count": 64,
     "metadata": {},
     "output_type": "execute_result"
    }
   ],
   "source": [
    "type(t)"
   ]
  },
  {
   "cell_type": "code",
   "execution_count": 65,
   "id": "efd7e484-bd95-4151-ac97-2102fda98e96",
   "metadata": {},
   "outputs": [
    {
     "data": {
      "text/plain": [
       "9"
      ]
     },
     "execution_count": 65,
     "metadata": {},
     "output_type": "execute_result"
    }
   ],
   "source": [
    "len(t)"
   ]
  },
  {
   "cell_type": "code",
   "execution_count": 68,
   "id": "4ae8c447-52f1-41d1-afdf-7c3f88ff238b",
   "metadata": {},
   "outputs": [
    {
     "data": {
      "text/plain": [
       "0"
      ]
     },
     "execution_count": 68,
     "metadata": {},
     "output_type": "execute_result"
    }
   ],
   "source": [
    "t.index(1)"
   ]
  },
  {
   "cell_type": "code",
   "execution_count": 69,
   "id": "a2282c8e-8483-476e-bd31-1904a9238bf1",
   "metadata": {},
   "outputs": [
    {
     "data": {
      "text/plain": [
       "2"
      ]
     },
     "execution_count": 69,
     "metadata": {},
     "output_type": "execute_result"
    }
   ],
   "source": [
    "t[1]"
   ]
  },
  {
   "cell_type": "code",
   "execution_count": 70,
   "id": "05e4783a-0a9b-458e-800c-b43c64e95cb7",
   "metadata": {},
   "outputs": [
    {
     "data": {
      "text/plain": [
       "([12, 45, 67], 73, -92, '', 'Suharsh', 4, 3, 2, 1)"
      ]
     },
     "execution_count": 70,
     "metadata": {},
     "output_type": "execute_result"
    }
   ],
   "source": [
    "t[::-1]"
   ]
  },
  {
   "cell_type": "code",
   "execution_count": 72,
   "id": "3092bd50-cb4f-4271-9226-72d1712f3884",
   "metadata": {},
   "outputs": [
    {
     "ename": "AttributeError",
     "evalue": "'tuple' object has no attribute 'append'",
     "output_type": "error",
     "traceback": [
      "\u001b[0;31m---------------------------------------------------------------------------\u001b[0m",
      "\u001b[0;31mAttributeError\u001b[0m                            Traceback (most recent call last)",
      "Cell \u001b[0;32mIn[72], line 1\u001b[0m\n\u001b[0;32m----> 1\u001b[0m \u001b[43mt\u001b[49m\u001b[38;5;241;43m.\u001b[39;49m\u001b[43mappend\u001b[49m(\u001b[38;5;241m4\u001b[39m)\n",
      "\u001b[0;31mAttributeError\u001b[0m: 'tuple' object has no attribute 'append'"
     ]
    }
   ],
   "source": [
    "t.append(4)"
   ]
  },
  {
   "cell_type": "code",
   "execution_count": 73,
   "id": "7faf53cf-bd78-45fd-82d4-01e663c53ffa",
   "metadata": {},
   "outputs": [],
   "source": [
    "# Difference b/w List & Tuple\n",
    "# Element can be replaced in List || But not in tuple\n",
    "# List can be reversed using reverse func || But not this\n",
    "# List are Mutable || Tuples are immutable\n",
    "# We can append in List || but not in tuple\n",
    "\n",
    "# Tuples are used where values can't be replaced >> ex: password \n"
   ]
  },
  {
   "cell_type": "code",
   "execution_count": 74,
   "id": "0d064e90-dc73-4e01-8a37-35f6fde32bcb",
   "metadata": {},
   "outputs": [
    {
     "ename": "AttributeError",
     "evalue": "'tuple' object has no attribute 'reverse'",
     "output_type": "error",
     "traceback": [
      "\u001b[0;31m---------------------------------------------------------------------------\u001b[0m",
      "\u001b[0;31mAttributeError\u001b[0m                            Traceback (most recent call last)",
      "Cell \u001b[0;32mIn[74], line 1\u001b[0m\n\u001b[0;32m----> 1\u001b[0m \u001b[43mt\u001b[49m\u001b[38;5;241;43m.\u001b[39;49m\u001b[43mreverse\u001b[49m()\n",
      "\u001b[0;31mAttributeError\u001b[0m: 'tuple' object has no attribute 'reverse'"
     ]
    }
   ],
   "source": [
    "t.reverse()"
   ]
  },
  {
   "cell_type": "code",
   "execution_count": 75,
   "id": "bbd369d3-8edb-41b0-ae67-4a32c7305453",
   "metadata": {},
   "outputs": [],
   "source": [
    "# t.count(), t.index()  >> These two functions available for Tuples"
   ]
  },
  {
   "cell_type": "code",
   "execution_count": 77,
   "id": "d7a2cb19-b254-49ba-9559-9cc6ada452b2",
   "metadata": {},
   "outputs": [
    {
     "data": {
      "text/plain": [
       "(1, 2, 3, 4, 'Suharsh', '', -92, 73, [12, 45, 67])"
      ]
     },
     "execution_count": 77,
     "metadata": {},
     "output_type": "execute_result"
    }
   ],
   "source": [
    "t"
   ]
  },
  {
   "cell_type": "code",
   "execution_count": 78,
   "id": "2b6f31f4-3640-4222-b869-514e8a52c4d5",
   "metadata": {},
   "outputs": [
    {
     "data": {
      "text/plain": [
       "1"
      ]
     },
     "execution_count": 78,
     "metadata": {},
     "output_type": "execute_result"
    }
   ],
   "source": [
    "t.count(2)"
   ]
  },
  {
   "cell_type": "code",
   "execution_count": 79,
   "id": "c1a13978-4b10-4f2c-8699-cfae2c0ff574",
   "metadata": {},
   "outputs": [
    {
     "data": {
      "text/plain": [
       "4"
      ]
     },
     "execution_count": 79,
     "metadata": {},
     "output_type": "execute_result"
    }
   ],
   "source": [
    "t.index('Suharsh')"
   ]
  },
  {
   "cell_type": "code",
   "execution_count": 80,
   "id": "1c9457f9-f903-4ab6-86ad-8d429c1f361b",
   "metadata": {},
   "outputs": [],
   "source": [
    "# Set -> {} Empty set : DataType:> dict  \n",
    "# Set removes repetitive elements\n",
    "# Set display distinct/unique element\n",
    "# inside set it's hashing not indexing >> Random key is generated to bind\n",
    "# Should not able to add element to a specific index\n",
    "#--- Point to note ---#\n",
    "# Set not only removes duplicate but also arrange/sort in ascending order **>\n",
    "set"
   ]
  },
  {
   "cell_type": "code",
   "execution_count": 81,
   "id": "05875cb9-443e-4662-90e5-bd23d28928c0",
   "metadata": {},
   "outputs": [],
   "source": [
    "s1={}"
   ]
  },
  {
   "cell_type": "code",
   "execution_count": 82,
   "id": "986cad6d-fa82-4f43-90a3-30f9c370db08",
   "metadata": {},
   "outputs": [
    {
     "data": {
      "text/plain": [
       "dict"
      ]
     },
     "execution_count": 82,
     "metadata": {},
     "output_type": "execute_result"
    }
   ],
   "source": [
    "type(s1)"
   ]
  },
  {
   "cell_type": "code",
   "execution_count": 83,
   "id": "ee5a817a-60b5-431c-8490-8f2def18899c",
   "metadata": {},
   "outputs": [],
   "source": [
    "s2={1,2,3} #Elements inside set >>Data type: Set"
   ]
  },
  {
   "cell_type": "code",
   "execution_count": 84,
   "id": "aeb8595a-e114-4cc2-99ca-44faa30df566",
   "metadata": {},
   "outputs": [
    {
     "data": {
      "text/plain": [
       "set"
      ]
     },
     "execution_count": 84,
     "metadata": {},
     "output_type": "execute_result"
    }
   ],
   "source": [
    "type(s2)"
   ]
  },
  {
   "cell_type": "code",
   "execution_count": 85,
   "id": "b533c786-ff67-45c5-bb1a-e0798b8cf963",
   "metadata": {},
   "outputs": [
    {
     "ename": "TypeError",
     "evalue": "unhashable type: 'list'",
     "output_type": "error",
     "traceback": [
      "\u001b[0;31m---------------------------------------------------------------------------\u001b[0m",
      "\u001b[0;31mTypeError\u001b[0m                                 Traceback (most recent call last)",
      "Cell \u001b[0;32mIn[85], line 1\u001b[0m\n\u001b[0;32m----> 1\u001b[0m s3 \u001b[38;5;241m=\u001b[39m {\u001b[38;5;241m233\u001b[39m,\u001b[38;5;241m445\u001b[39m,\u001b[38;5;124m'\u001b[39m\u001b[38;5;124mjoker\u001b[39m\u001b[38;5;124m'\u001b[39m,\u001b[38;5;241m45\u001b[39m\u001b[38;5;241m+\u001b[39m\u001b[38;5;241m4\u001b[39mj,\u001b[38;5;241m34.566\u001b[39m,[\u001b[38;5;241m234\u001b[39m,\u001b[38;5;241m45\u001b[39m]}\n",
      "\u001b[0;31mTypeError\u001b[0m: unhashable type: 'list'"
     ]
    }
   ],
   "source": [
    "s3 = {233,445,'joker',45+4j,34.566,[234,45]} #"
   ]
  },
  {
   "cell_type": "code",
   "execution_count": 86,
   "id": "4190fe4d-204a-47f0-942d-44bba9067fcc",
   "metadata": {},
   "outputs": [],
   "source": [
    "s3 = {233,445,'joker',45+4j,34.566,(234,45)} # Only take immutable Data type"
   ]
  },
  {
   "cell_type": "code",
   "execution_count": 87,
   "id": "387773b9-9a50-4484-beee-3c3b575312ef",
   "metadata": {},
   "outputs": [
    {
     "data": {
      "text/plain": [
       "{(234, 45), (45+4j), 233, 34.566, 445, 'joker'}"
      ]
     },
     "execution_count": 87,
     "metadata": {},
     "output_type": "execute_result"
    }
   ],
   "source": [
    "s3"
   ]
  },
  {
   "cell_type": "code",
   "execution_count": 88,
   "id": "4fbe56d2-ce95-4e9b-809c-4875a63b1480",
   "metadata": {},
   "outputs": [
    {
     "data": {
      "text/plain": [
       "{1, 2, 3, 4, 5, 6, 7, 42}"
      ]
     },
     "execution_count": 88,
     "metadata": {},
     "output_type": "execute_result"
    }
   ],
   "source": [
    "s4 ={2,3,4,5,6,2,3,4,2,1,3,4,5,6,4,2,3,4,5,7,42,2,2,1}\n",
    "s4  #Set display distinct/unique element"
   ]
  },
  {
   "cell_type": "code",
   "execution_count": 89,
   "id": "8a528992-bca4-4b6e-bb0e-92ad3871a105",
   "metadata": {},
   "outputs": [
    {
     "data": {
      "text/plain": [
       "{1, 2, 3, 4, 42, 5, 6, 7, 'Suharsh', 'suharsh'}"
      ]
     },
     "execution_count": 89,
     "metadata": {},
     "output_type": "execute_result"
    }
   ],
   "source": [
    "s5 ={2,3,4,5,6,2,3,4,2,1,3,4,5,6,4,2,3,4,5,7,42,2,2,1,'Suharsh','suharsh'}\n",
    "s5  #Python is case sensitive language , It only removes duplicates"
   ]
  },
  {
   "cell_type": "code",
   "execution_count": 92,
   "id": "d34a3c31-8ea0-477b-808e-b63b4717ce74",
   "metadata": {},
   "outputs": [],
   "source": [
    "#To remove duplicates from a list\n",
    "l5 = [1,2,3,1,2,1,2,3,4,5,4,2,]\n",
    "l5 = set(l5)\n",
    "l5 = list(set(l5))"
   ]
  },
  {
   "cell_type": "code",
   "execution_count": 93,
   "id": "ba17c865-a25b-4a05-8f5b-08439f60f41a",
   "metadata": {},
   "outputs": [
    {
     "data": {
      "text/plain": [
       "[1, 2, 3, 4, 5]"
      ]
     },
     "execution_count": 93,
     "metadata": {},
     "output_type": "execute_result"
    }
   ],
   "source": [
    "l5"
   ]
  },
  {
   "cell_type": "code",
   "execution_count": 94,
   "id": "45f68e96-3463-4c1c-b625-7bd850296c64",
   "metadata": {},
   "outputs": [],
   "source": [
    "s6 = {456,4334,2333,'a','b','c',44,32,13,11,11,5,5,4,3,2,23,42,1,3,2}"
   ]
  },
  {
   "cell_type": "code",
   "execution_count": 95,
   "id": "d8c82634-a2ff-4fca-8ebf-490047d72cf4",
   "metadata": {},
   "outputs": [
    {
     "data": {
      "text/plain": [
       "{1, 11, 13, 2, 23, 2333, 3, 32, 4, 42, 4334, 44, 456, 5, 'a', 'b', 'c'}"
      ]
     },
     "execution_count": 95,
     "metadata": {},
     "output_type": "execute_result"
    }
   ],
   "source": [
    "s6"
   ]
  },
  {
   "cell_type": "code",
   "execution_count": 96,
   "id": "e807bc66-3dfc-4c4f-9929-2f4c839a1b0f",
   "metadata": {},
   "outputs": [],
   "source": [
    "# Set never arrange/sort > But it just looks/seems like that"
   ]
  },
  {
   "cell_type": "code",
   "execution_count": 97,
   "id": "98472ef0-61c4-4dfb-bb1d-3cd6449c76fa",
   "metadata": {},
   "outputs": [
    {
     "ename": "TypeError",
     "evalue": "'set' object is not subscriptable",
     "output_type": "error",
     "traceback": [
      "\u001b[0;31m---------------------------------------------------------------------------\u001b[0m",
      "\u001b[0;31mTypeError\u001b[0m                                 Traceback (most recent call last)",
      "Cell \u001b[0;32mIn[97], line 1\u001b[0m\n\u001b[0;32m----> 1\u001b[0m \u001b[43ms6\u001b[49m\u001b[43m[\u001b[49m\u001b[38;5;241;43m0\u001b[39;49m\u001b[43m]\u001b[49m\n",
      "\u001b[0;31mTypeError\u001b[0m: 'set' object is not subscriptable"
     ]
    }
   ],
   "source": [
    "s6[0]  #indexing don't work"
   ]
  },
  {
   "cell_type": "code",
   "execution_count": 98,
   "id": "9ba525ef-5aea-4811-8cb8-1bc140472455",
   "metadata": {},
   "outputs": [
    {
     "ename": "TypeError",
     "evalue": "'set' object is not subscriptable",
     "output_type": "error",
     "traceback": [
      "\u001b[0;31m---------------------------------------------------------------------------\u001b[0m",
      "\u001b[0;31mTypeError\u001b[0m                                 Traceback (most recent call last)",
      "Cell \u001b[0;32mIn[98], line 1\u001b[0m\n\u001b[0;32m----> 1\u001b[0m \u001b[43ms6\u001b[49m\u001b[43m[\u001b[49m\u001b[43m:\u001b[49m\u001b[43m:\u001b[49m\u001b[38;5;241;43m-\u001b[39;49m\u001b[38;5;241;43m1\u001b[39;49m\u001b[43m]\u001b[49m\n",
      "\u001b[0;31mTypeError\u001b[0m: 'set' object is not subscriptable"
     ]
    }
   ],
   "source": [
    "s6[::-1] #slicing don't work"
   ]
  },
  {
   "cell_type": "code",
   "execution_count": 99,
   "id": "b9dc4fe4-834f-4a44-a211-c713e58b7ee5",
   "metadata": {},
   "outputs": [
    {
     "data": {
      "text/plain": [
       "{1, 11, 13, 2, 23, 2333, 3, 32, 4, 42, 4334, 44, 456, 5, 'a', 'b', 'c'}"
      ]
     },
     "execution_count": 99,
     "metadata": {},
     "output_type": "execute_result"
    }
   ],
   "source": [
    "s6"
   ]
  },
  {
   "cell_type": "code",
   "execution_count": 100,
   "id": "4c7c569a-7a24-45e2-b915-f8b071c9222d",
   "metadata": {},
   "outputs": [],
   "source": [
    "#Different in-built methods/functions in Set : "
   ]
  },
  {
   "cell_type": "code",
   "execution_count": 101,
   "id": "f1bcb960-06bc-4d8a-bc17-cf75d58fa43d",
   "metadata": {},
   "outputs": [],
   "source": [
    "s6.add(4)"
   ]
  },
  {
   "cell_type": "code",
   "execution_count": 102,
   "id": "b7df742e-a939-42e3-bdc9-0d6f7b497423",
   "metadata": {},
   "outputs": [
    {
     "data": {
      "text/plain": [
       "{1, 11, 13, 2, 23, 2333, 3, 32, 4, 42, 4334, 44, 456, 5, 'a', 'b', 'c'}"
      ]
     },
     "execution_count": 102,
     "metadata": {},
     "output_type": "execute_result"
    }
   ],
   "source": [
    "s6"
   ]
  },
  {
   "cell_type": "code",
   "execution_count": 103,
   "id": "98bc1710-c33a-48f8-8b8f-0ca60cedeb29",
   "metadata": {},
   "outputs": [
    {
     "data": {
      "text/plain": [
       "{1, 11, 13, 2, 23, 3, 32, 4, 42, 4334, 44, 456, 5, 'a', 'b', 'c'}"
      ]
     },
     "execution_count": 103,
     "metadata": {},
     "output_type": "execute_result"
    }
   ],
   "source": [
    "s6.remove(2333)\n",
    "s6"
   ]
  },
  {
   "cell_type": "code",
   "execution_count": 104,
   "id": "d9231e26-2cee-45d8-85a2-54f81b31e6cf",
   "metadata": {},
   "outputs": [
    {
     "data": {
      "text/plain": [
       "'a'"
      ]
     },
     "execution_count": 104,
     "metadata": {},
     "output_type": "execute_result"
    }
   ],
   "source": [
    "s6.pop()"
   ]
  },
  {
   "cell_type": "code",
   "execution_count": 105,
   "id": "865824c5-ddd1-4102-93f5-4766a8d0974f",
   "metadata": {},
   "outputs": [
    {
     "data": {
      "text/plain": [
       "{1, 11, 13, 2, 23, 3, 32, 4, 42, 4334, 44, 456, 5, 'b', 'c'}"
      ]
     },
     "execution_count": 105,
     "metadata": {},
     "output_type": "execute_result"
    }
   ],
   "source": [
    "s6"
   ]
  },
  {
   "cell_type": "code",
   "execution_count": 106,
   "id": "625e53c3-7c7f-4bc6-ae7e-215a14a6e70e",
   "metadata": {},
   "outputs": [
    {
     "data": {
      "text/plain": [
       "set()"
      ]
     },
     "execution_count": 106,
     "metadata": {},
     "output_type": "execute_result"
    }
   ],
   "source": [
    "s6.clear()\n",
    "s6"
   ]
  },
  {
   "cell_type": "code",
   "execution_count": 107,
   "id": "77c9b25d-d8b5-4172-aabb-253907770504",
   "metadata": {},
   "outputs": [
    {
     "data": {
      "text/plain": [
       "set()"
      ]
     },
     "execution_count": 107,
     "metadata": {},
     "output_type": "execute_result"
    }
   ],
   "source": [
    "s6"
   ]
  },
  {
   "cell_type": "code",
   "execution_count": 108,
   "id": "c92c3189-62f6-47bd-b8e8-c8d50dbab1e4",
   "metadata": {},
   "outputs": [
    {
     "data": {
      "text/plain": [
       "{False, True}"
      ]
     },
     "execution_count": 108,
     "metadata": {},
     "output_type": "execute_result"
    }
   ],
   "source": [
    "s7={True,False}\n",
    "s7"
   ]
  },
  {
   "cell_type": "code",
   "execution_count": 109,
   "id": "ce07a136-6899-4462-9158-6593be25756b",
   "metadata": {},
   "outputs": [
    {
     "data": {
      "text/plain": [
       "{False}"
      ]
     },
     "execution_count": 109,
     "metadata": {},
     "output_type": "execute_result"
    }
   ],
   "source": [
    "s8={False,False}\n",
    "s8"
   ]
  },
  {
   "cell_type": "code",
   "execution_count": 110,
   "id": "594d1dfb-d095-4e9d-90af-e991eca6b4b5",
   "metadata": {},
   "outputs": [
    {
     "data": {
      "text/plain": [
       "{True}"
      ]
     },
     "execution_count": 110,
     "metadata": {},
     "output_type": "execute_result"
    }
   ],
   "source": [
    "s7.symmetric_difference(s8)"
   ]
  },
  {
   "cell_type": "code",
   "execution_count": 111,
   "id": "87ceb0d2-5d58-412d-9b19-515662770da6",
   "metadata": {},
   "outputs": [
    {
     "data": {
      "text/plain": [
       "[1, 2, 'Suharsh', 3, 4, 5]"
      ]
     },
     "execution_count": 111,
     "metadata": {},
     "output_type": "execute_result"
    }
   ],
   "source": [
    "l1=[1,2,3,4,5]\n",
    "l1.insert(2,'Suharsh')  #To add/insert element at specific index\n",
    "l1"
   ]
  },
  {
   "cell_type": "code",
   "execution_count": 112,
   "id": "8876c4b7-4be1-4dfb-a1e2-c40b48670dac",
   "metadata": {},
   "outputs": [],
   "source": [
    "#To add at end of list\n",
    "#.append() || .insert(-1, item)\n",
    "l1.insert(-1,'Raj')"
   ]
  },
  {
   "cell_type": "code",
   "execution_count": 113,
   "id": "a8645fdf-c99b-47b3-8508-5679776b01a4",
   "metadata": {},
   "outputs": [
    {
     "data": {
      "text/plain": [
       "[1, 2, 'Suharsh', 3, 4, 'Raj', 5]"
      ]
     },
     "execution_count": 113,
     "metadata": {},
     "output_type": "execute_result"
    }
   ],
   "source": [
    "l1"
   ]
  },
  {
   "cell_type": "code",
   "execution_count": null,
   "id": "b67e67f8-f1c8-4ef6-9547-edf83b94a486",
   "metadata": {},
   "outputs": [],
   "source": []
  }
 ],
 "metadata": {
  "kernelspec": {
   "display_name": "Python 3 (ipykernel)",
   "language": "python",
   "name": "python3"
  },
  "language_info": {
   "codemirror_mode": {
    "name": "ipython",
    "version": 3
   },
   "file_extension": ".py",
   "mimetype": "text/x-python",
   "name": "python",
   "nbconvert_exporter": "python",
   "pygments_lexer": "ipython3",
   "version": "3.10.8"
  }
 },
 "nbformat": 4,
 "nbformat_minor": 5
}
