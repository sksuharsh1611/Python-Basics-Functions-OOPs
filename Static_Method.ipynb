{
 "cells": [
  {
   "cell_type": "code",
   "execution_count": 1,
   "id": "b6672bf3-d6c7-4ce2-9997-06a2a374de50",
   "metadata": {},
   "outputs": [],
   "source": [
    "class pwskills:\n",
    "    \n",
    "    def stud_details(self, name, email, number):\n",
    "        print(name, email, number)\n",
    "        "
   ]
  },
  {
   "cell_type": "code",
   "execution_count": 2,
   "id": "01b5be39-f348-4c08-b779-92a44eafca05",
   "metadata": {},
   "outputs": [],
   "source": [
    "pw = pwskills()"
   ]
  },
  {
   "cell_type": "code",
   "execution_count": 3,
   "id": "384c2d8e-2c93-4db3-857d-3a5c64317aa3",
   "metadata": {},
   "outputs": [
    {
     "name": "stdout",
     "output_type": "stream",
     "text": [
      "suh sk@gmail.com 88787887\n"
     ]
    }
   ],
   "source": [
    "pw.stud_details(\"suh\",\"sk@gmail.com\",88787887)"
   ]
  },
  {
   "cell_type": "code",
   "execution_count": 4,
   "id": "ad0f0f75-7ee6-4301-a30d-2cacfdd3e907",
   "metadata": {},
   "outputs": [],
   "source": [
    "#to access method without creating object/instance \n",
    "# we have @static decorator and method\n",
    "\n",
    "class pwskills1:\n",
    "    \n",
    "    def stud_details(self, name, email, number):\n",
    "        print(name, email, number)\n",
    "    \n",
    "    @staticmethod     #to use func again n again >utilities func\n",
    "    def mentor_class(list_mentor):\n",
    "        print(list_mentor)\n",
    "        \n",
    "\n",
    "        "
   ]
  },
  {
   "cell_type": "code",
   "execution_count": 6,
   "id": "7bd148e6-5b49-4f4e-9ed1-7bda2f0fd2a7",
   "metadata": {},
   "outputs": [
    {
     "name": "stdout",
     "output_type": "stream",
     "text": [
      "['raj', 'dk']\n"
     ]
    }
   ],
   "source": [
    "pwskills1.mentor_class([\"raj\",\"dk\"])  #Don't create function over n over again"
   ]
  },
  {
   "cell_type": "code",
   "execution_count": 7,
   "id": "0444073e-3d71-4c12-be18-c3dd0fe3ecab",
   "metadata": {},
   "outputs": [
    {
     "ename": "TypeError",
     "evalue": "pwskills1.stud_details() missing 1 required positional argument: 'number'",
     "output_type": "error",
     "traceback": [
      "\u001b[0;31m---------------------------------------------------------------------------\u001b[0m",
      "\u001b[0;31mTypeError\u001b[0m                                 Traceback (most recent call last)",
      "Cell \u001b[0;32mIn[7], line 1\u001b[0m\n\u001b[0;32m----> 1\u001b[0m \u001b[43mpwskills1\u001b[49m\u001b[38;5;241;43m.\u001b[39;49m\u001b[43mstud_details\u001b[49m\u001b[43m(\u001b[49m\u001b[38;5;124;43m\"\u001b[39;49m\u001b[38;5;124;43msuh\u001b[39;49m\u001b[38;5;124;43m\"\u001b[39;49m\u001b[43m,\u001b[49m\u001b[38;5;124;43m\"\u001b[39;49m\u001b[38;5;124;43ms@gmail.com\u001b[39;49m\u001b[38;5;124;43m\"\u001b[39;49m\u001b[43m,\u001b[49m\u001b[38;5;241;43m878979789\u001b[39;49m\u001b[43m)\u001b[49m\n",
      "\u001b[0;31mTypeError\u001b[0m: pwskills1.stud_details() missing 1 required positional argument: 'number'"
     ]
    }
   ],
   "source": [
    "pwskills1.stud_details(\"suh\",\"s@gmail.com\",878979789)"
   ]
  },
  {
   "cell_type": "code",
   "execution_count": 13,
   "id": "61b95d86-1e96-45df-b1f1-7f7fd4afdecb",
   "metadata": {},
   "outputs": [],
   "source": [
    "stud1 = pwskills1()"
   ]
  },
  {
   "cell_type": "code",
   "execution_count": 14,
   "id": "ea26fa38-65da-40ee-afdb-c12afdae7812",
   "metadata": {},
   "outputs": [],
   "source": [
    "stud2 = pwskills1()"
   ]
  },
  {
   "cell_type": "code",
   "execution_count": 15,
   "id": "762d1599-5d96-4400-a0df-324be16aca5e",
   "metadata": {},
   "outputs": [],
   "source": [
    "stud3 = pwskills1()"
   ]
  },
  {
   "cell_type": "code",
   "execution_count": 11,
   "id": "0c44e8e3-4b9f-4857-9669-5454e8ad7225",
   "metadata": {},
   "outputs": [],
   "source": [
    "# 1 class can have lakhs of students but mentor is limited\n",
    "# We need not to create 1lakh objects every time"
   ]
  },
  {
   "cell_type": "code",
   "execution_count": 12,
   "id": "19d12b1e-70c8-42a2-8b5e-d2eb901310aa",
   "metadata": {},
   "outputs": [],
   "source": [
    "class pwskills1:\n",
    "    \n",
    "    def stud_details(self, name, email, number):\n",
    "        print(name, email, number)\n",
    "    \n",
    "    @staticmethod     #to use func again n again >utilities func\n",
    "    def mentor_class(list_mentor):\n",
    "        print(list_mentor)\n",
    "        \n",
    "    def mentor(self,mentor_list):\n",
    "        print(mentor_list)"
   ]
  },
  {
   "cell_type": "code",
   "execution_count": 16,
   "id": "7855224d-3c9e-461e-b7f1-8b29e4862047",
   "metadata": {},
   "outputs": [
    {
     "name": "stdout",
     "output_type": "stream",
     "text": [
      "['sudh', 'krish']\n"
     ]
    }
   ],
   "source": [
    "stud1.mentor([\"sudh\",\"krish\"])"
   ]
  },
  {
   "cell_type": "code",
   "execution_count": 18,
   "id": "09767086-9d78-41aa-9213-49369e22e0ab",
   "metadata": {},
   "outputs": [
    {
     "ename": "TypeError",
     "evalue": "pwskills1.mentor() missing 1 required positional argument: 'mentor_list'",
     "output_type": "error",
     "traceback": [
      "\u001b[0;31m---------------------------------------------------------------------------\u001b[0m",
      "\u001b[0;31mTypeError\u001b[0m                                 Traceback (most recent call last)",
      "Cell \u001b[0;32mIn[18], line 1\u001b[0m\n\u001b[0;32m----> 1\u001b[0m \u001b[43mstud2\u001b[49m\u001b[38;5;241;43m.\u001b[39;49m\u001b[43mmentor\u001b[49m\u001b[43m(\u001b[49m\u001b[43m)\u001b[49m  \u001b[38;5;66;03m#Each time needs to create mentor for every stud\u001b[39;00m\n",
      "\u001b[0;31mTypeError\u001b[0m: pwskills1.mentor() missing 1 required positional argument: 'mentor_list'"
     ]
    }
   ],
   "source": [
    "stud2.mentor()  #Each time needs to create mentor for every stud"
   ]
  },
  {
   "cell_type": "code",
   "execution_count": 19,
   "id": "beadbd37-80ff-43ec-90ed-bd441cd6b94b",
   "metadata": {},
   "outputs": [
    {
     "ename": "TypeError",
     "evalue": "pwskills1.mentor_class() missing 1 required positional argument: 'list_mentor'",
     "output_type": "error",
     "traceback": [
      "\u001b[0;31m---------------------------------------------------------------------------\u001b[0m",
      "\u001b[0;31mTypeError\u001b[0m                                 Traceback (most recent call last)",
      "Cell \u001b[0;32mIn[19], line 1\u001b[0m\n\u001b[0;32m----> 1\u001b[0m \u001b[43mstud1\u001b[49m\u001b[38;5;241;43m.\u001b[39;49m\u001b[43mmentor_class\u001b[49m\u001b[43m(\u001b[49m\u001b[43m)\u001b[49m\n",
      "\u001b[0;31mTypeError\u001b[0m: pwskills1.mentor_class() missing 1 required positional argument: 'list_mentor'"
     ]
    }
   ],
   "source": [
    "stud1.mentor_class()"
   ]
  },
  {
   "cell_type": "code",
   "execution_count": 21,
   "id": "27fdb053-2533-4a7d-b1a1-aba6c5073095",
   "metadata": {},
   "outputs": [],
   "source": [
    "class pwskills2:\n",
    "    \n",
    "    def stud_details(self, name, email, number):\n",
    "        print(name, email, number)\n",
    "    \n",
    "    @staticmethod     #to use func again n again >utilities func\n",
    "    def mentor_class(list_mentor):\n",
    "        print(list_mentor)\n",
    "        \n",
    "    @classmethod\n",
    "    def class_name(cls):\n",
    "        cls.mentor_class()\n",
    "        \n",
    "    def mentor(self,mentor_list):\n",
    "        print(mentor_list)"
   ]
  },
  {
   "cell_type": "code",
   "execution_count": 22,
   "id": "d989d226-9dc4-4a22-824f-8358d7c10219",
   "metadata": {},
   "outputs": [
    {
     "ename": "TypeError",
     "evalue": "pwskills2.mentor_class() missing 1 required positional argument: 'list_mentor'",
     "output_type": "error",
     "traceback": [
      "\u001b[0;31m---------------------------------------------------------------------------\u001b[0m",
      "\u001b[0;31mTypeError\u001b[0m                                 Traceback (most recent call last)",
      "Cell \u001b[0;32mIn[22], line 1\u001b[0m\n\u001b[0;32m----> 1\u001b[0m \u001b[43mpwskills2\u001b[49m\u001b[38;5;241;43m.\u001b[39;49m\u001b[43mclass_name\u001b[49m\u001b[43m(\u001b[49m\u001b[43m)\u001b[49m\n",
      "Cell \u001b[0;32mIn[21], line 12\u001b[0m, in \u001b[0;36mpwskills2.class_name\u001b[0;34m(cls)\u001b[0m\n\u001b[1;32m     10\u001b[0m \u001b[38;5;129m@classmethod\u001b[39m\n\u001b[1;32m     11\u001b[0m \u001b[38;5;28;01mdef\u001b[39;00m \u001b[38;5;21mclass_name\u001b[39m(\u001b[38;5;28mcls\u001b[39m):\n\u001b[0;32m---> 12\u001b[0m     \u001b[38;5;28;43mcls\u001b[39;49m\u001b[38;5;241;43m.\u001b[39;49m\u001b[43mmentor_class\u001b[49m\u001b[43m(\u001b[49m\u001b[43m)\u001b[49m\n",
      "\u001b[0;31mTypeError\u001b[0m: pwskills2.mentor_class() missing 1 required positional argument: 'list_mentor'"
     ]
    }
   ],
   "source": [
    "pwskills2.class_name()"
   ]
  },
  {
   "cell_type": "code",
   "execution_count": 23,
   "id": "9ae11b26-eb8d-4255-bd2c-5260d5dac962",
   "metadata": {},
   "outputs": [],
   "source": [
    "class pwskills2:\n",
    "    \n",
    "    def stud_details(self, name, email, number):\n",
    "        print(name, email, number)\n",
    "    \n",
    "    @staticmethod     #to use func again n again >utilities func\n",
    "    def mentor_class(list_mentor):\n",
    "        print(list_mentor)\n",
    "        \n",
    "    @classmethod\n",
    "    def class_name(cls):\n",
    "        cls.mentor_class([\"sudhanshu\",\"krish\"])\n",
    "        \n",
    "    def mentor(self,mentor_list):\n",
    "        print(mentor_list)"
   ]
  },
  {
   "cell_type": "code",
   "execution_count": 24,
   "id": "6b4a8874-4d0e-483a-89e2-d15f2c354ca0",
   "metadata": {},
   "outputs": [
    {
     "name": "stdout",
     "output_type": "stream",
     "text": [
      "['sudhanshu', 'krish']\n"
     ]
    }
   ],
   "source": [
    "pwskills2.class_name()"
   ]
  },
  {
   "cell_type": "code",
   "execution_count": 25,
   "id": "48aa7962-5183-45a7-b781-7b90e61f30ed",
   "metadata": {},
   "outputs": [],
   "source": [
    "#To call one static method inside other static method\n",
    "class pwskills3:\n",
    "    \n",
    "    def stud_details(self, name, email, number):\n",
    "        print(name, email, number)\n",
    "        \n",
    "    @staticmethod\n",
    "    def mentor_mail_id(mail_id_mentor):\n",
    "        print(mail_id_mentor)\n",
    "    \n",
    "    @staticmethod     #to use func again n again >utilities func\n",
    "    def mentor_class(list_mentor):\n",
    "        pwskills3.mentor_mail_id([\"sudh@gmail.com\",\"krish@gmail.com\"])\n",
    "        print(list_mentor)\n",
    "        \n",
    "    @classmethod\n",
    "    def class_name(cls):\n",
    "        cls.mentor_class([\"sudhanshu\",\"krish\"])\n",
    "        \n",
    "    def mentor(self,mentor_list):\n",
    "        print(mentor_list)"
   ]
  },
  {
   "cell_type": "code",
   "execution_count": 26,
   "id": "4f76029f-bfd7-452d-9a17-2d00e3be5e30",
   "metadata": {},
   "outputs": [
    {
     "name": "stdout",
     "output_type": "stream",
     "text": [
      "['sudh@gmail.com', 'krish@gmail.com']\n",
      "['sudh', 'krish']\n"
     ]
    }
   ],
   "source": [
    "#to call mentor_class outside the main class pwskills3\n",
    "pwskills3.mentor_class([\"sudh\",\"krish\"])"
   ]
  },
  {
   "cell_type": "code",
   "execution_count": 27,
   "id": "3d90573c-d369-4e9d-a740-ec469b68e864",
   "metadata": {},
   "outputs": [],
   "source": [
    "# To call static method inside an instance method\n",
    "#To call one static method inside other static method\n",
    "class pwskills3:\n",
    "    \n",
    "    def stud_details(self, name, email, number):\n",
    "        print(name, email, number)\n",
    "        \n",
    "    @staticmethod\n",
    "    def mentor_mail_id(mail_id_mentor):\n",
    "        print(mail_id_mentor)\n",
    "    \n",
    "    @staticmethod     #to use func again n again >utilities func\n",
    "    def mentor_class(list_mentor):\n",
    "        pwskills3.mentor_mail_id([\"sudh@gmail.com\",\"krish@gmail.com\"])\n",
    "        print(list_mentor)\n",
    "        \n",
    "    @classmethod\n",
    "    def class_name(cls):\n",
    "        cls.mentor_class([\"sudhanshu\",\"krish\"])\n",
    "        \n",
    "    def mentor(self,mentor_list):\n",
    "        print(mentor_list)\n",
    "        self.mentor_class([\"krish\",\"sudh\"])\n",
    "\n"
   ]
  },
  {
   "cell_type": "code",
   "execution_count": 28,
   "id": "861a9a3d-2e36-4191-91bd-3083cdbf06d0",
   "metadata": {},
   "outputs": [],
   "source": [
    "pw= pwskills3()"
   ]
  },
  {
   "cell_type": "code",
   "execution_count": 29,
   "id": "e9fd2c39-fdca-4ae1-bef2-2a9be16169ba",
   "metadata": {},
   "outputs": [
    {
     "ename": "TypeError",
     "evalue": "pwskills3.mentor() missing 1 required positional argument: 'mentor_list'",
     "output_type": "error",
     "traceback": [
      "\u001b[0;31m---------------------------------------------------------------------------\u001b[0m",
      "\u001b[0;31mTypeError\u001b[0m                                 Traceback (most recent call last)",
      "Cell \u001b[0;32mIn[29], line 1\u001b[0m\n\u001b[0;32m----> 1\u001b[0m \u001b[43mpw\u001b[49m\u001b[38;5;241;43m.\u001b[39;49m\u001b[43mmentor\u001b[49m\u001b[43m(\u001b[49m\u001b[43m)\u001b[49m\n",
      "\u001b[0;31mTypeError\u001b[0m: pwskills3.mentor() missing 1 required positional argument: 'mentor_list'"
     ]
    }
   ],
   "source": [
    "pw.mentor()"
   ]
  },
  {
   "cell_type": "code",
   "execution_count": 30,
   "id": "650a8f6a-32e0-4025-91f8-f82174a19a5c",
   "metadata": {},
   "outputs": [
    {
     "name": "stdout",
     "output_type": "stream",
     "text": [
      "['krish', 'sudh']\n",
      "['sudh@gmail.com', 'krish@gmail.com']\n",
      "['krish', 'sudh']\n"
     ]
    }
   ],
   "source": [
    "pw.mentor([\"krish\",\"sudh\"])"
   ]
  },
  {
   "cell_type": "code",
   "execution_count": 31,
   "id": "f9b9611f-f7fc-467e-89ec-6559913918c8",
   "metadata": {},
   "outputs": [
    {
     "ename": "SyntaxError",
     "evalue": "invalid syntax (3898771549.py, line 3)",
     "output_type": "error",
     "traceback": [
      "\u001b[0;36m  Cell \u001b[0;32mIn[31], line 3\u001b[0;36m\u001b[0m\n\u001b[0;31m    repetitive function/ task\u001b[0m\n\u001b[0m               ^\u001b[0m\n\u001b[0;31mSyntaxError\u001b[0m\u001b[0;31m:\u001b[0m invalid syntax\n"
     ]
    }
   ],
   "source": [
    "# # Uses of static function:\n",
    "\n",
    "# repetitive function/ task\n",
    "# database connectivity\n",
    "# file storage functions\n",
    "# pass mentor list > \n",
    "# optimising the memory inside class"
   ]
  },
  {
   "cell_type": "code",
   "execution_count": null,
   "id": "814c77d8-81f5-4a41-8404-a307ff277207",
   "metadata": {},
   "outputs": [],
   "source": []
  }
 ],
 "metadata": {
  "kernelspec": {
   "display_name": "Python 3 (ipykernel)",
   "language": "python",
   "name": "python3"
  },
  "language_info": {
   "codemirror_mode": {
    "name": "ipython",
    "version": 3
   },
   "file_extension": ".py",
   "mimetype": "text/x-python",
   "name": "python",
   "nbconvert_exporter": "python",
   "pygments_lexer": "ipython3",
   "version": "3.10.8"
  }
 },
 "nbformat": 4,
 "nbformat_minor": 5
}
