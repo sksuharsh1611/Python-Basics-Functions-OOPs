{
 "cells": [
  {
   "cell_type": "code",
   "execution_count": 2,
   "id": "b74a6909-44e6-482b-9f4c-19ef458005c2",
   "metadata": {},
   "outputs": [],
   "source": [
    "# # Map > Make an iterator that computes the function using arguments from\n",
    "#         each of the iterables.  Stops when the shortest iterable is exhausted.\n"
   ]
  },
  {
   "cell_type": "code",
   "execution_count": 3,
   "id": "a8bfa414-7ec5-4545-b937-53dea627a974",
   "metadata": {},
   "outputs": [],
   "source": [
    "l=[2,3,4,5,6]\n",
    "# Do operation with each data> make square of each element"
   ]
  },
  {
   "cell_type": "code",
   "execution_count": 4,
   "id": "599309b4-ecc4-40bd-aaa8-36eece9d8727",
   "metadata": {},
   "outputs": [],
   "source": [
    "def test(l):\n",
    "    l1 =[]\n",
    "    for i in l:\n",
    "        l1.append(i**2)\n",
    "    return l1"
   ]
  },
  {
   "cell_type": "code",
   "execution_count": 5,
   "id": "0f2eda39-2540-4f8b-aedb-d108dd28c5c4",
   "metadata": {},
   "outputs": [
    {
     "data": {
      "text/plain": [
       "[4, 9, 16, 25, 36]"
      ]
     },
     "execution_count": 5,
     "metadata": {},
     "output_type": "execute_result"
    }
   ],
   "source": [
    "test(l)"
   ]
  },
  {
   "cell_type": "code",
   "execution_count": 7,
   "id": "3e8d3b5b-bdf6-464a-bfcf-5892f16d33d0",
   "metadata": {},
   "outputs": [
    {
     "ename": "TypeError",
     "evalue": "map() must have at least two arguments.",
     "output_type": "error",
     "traceback": [
      "\u001b[0;31m---------------------------------------------------------------------------\u001b[0m",
      "\u001b[0;31mTypeError\u001b[0m                                 Traceback (most recent call last)",
      "Cell \u001b[0;32mIn[7], line 1\u001b[0m\n\u001b[0;32m----> 1\u001b[0m \u001b[38;5;28;43mmap\u001b[39;49m\u001b[43m(\u001b[49m\u001b[43m)\u001b[49m\n",
      "\u001b[0;31mTypeError\u001b[0m: map() must have at least two arguments."
     ]
    }
   ],
   "source": [
    "map()"
   ]
  },
  {
   "cell_type": "code",
   "execution_count": 8,
   "id": "385f249c-8086-4e95-80e9-fbc738bc946b",
   "metadata": {},
   "outputs": [],
   "source": [
    "def sq(x):\n",
    "    return x**2"
   ]
  },
  {
   "cell_type": "code",
   "execution_count": 9,
   "id": "0d105a0d-0044-4624-ada3-7f5a29685504",
   "metadata": {},
   "outputs": [
    {
     "data": {
      "text/plain": [
       "<map at 0x7f4544636cb0>"
      ]
     },
     "execution_count": 9,
     "metadata": {},
     "output_type": "execute_result"
    }
   ],
   "source": [
    "map(sq,l)"
   ]
  },
  {
   "cell_type": "code",
   "execution_count": 11,
   "id": "03e33fd3-e736-4e4b-9d1e-6a8882955f8a",
   "metadata": {},
   "outputs": [
    {
     "data": {
      "text/plain": [
       "[4, 9, 16, 25, 36]"
      ]
     },
     "execution_count": 11,
     "metadata": {},
     "output_type": "execute_result"
    }
   ],
   "source": [
    "list(map(sq,l))  #using external/custom function"
   ]
  },
  {
   "cell_type": "code",
   "execution_count": 12,
   "id": "2a04c453-3d96-476a-9f92-fdae53132b3c",
   "metadata": {},
   "outputs": [
    {
     "data": {
      "text/plain": [
       "[4, 9, 16, 25, 36]"
      ]
     },
     "execution_count": 12,
     "metadata": {},
     "output_type": "execute_result"
    }
   ],
   "source": [
    "list(map(lambda x: x**2 , l))  #using lambda func"
   ]
  },
  {
   "cell_type": "code",
   "execution_count": 13,
   "id": "1e03be9b-f5c0-4dfd-8992-c960432ed951",
   "metadata": {},
   "outputs": [],
   "source": [
    "l1 = [1,2,3,4,5]\n",
    "l2 = [6,7,8,9,10]\n",
    "#Add each index element with other list\n",
    "#Output: l3=[7,9,11,13,15]  "
   ]
  },
  {
   "cell_type": "code",
   "execution_count": 14,
   "id": "71ef055d-4aea-45ad-aaf0-50f65c7cb5cb",
   "metadata": {},
   "outputs": [
    {
     "data": {
      "text/plain": [
       "[7, 9, 11, 13, 15]"
      ]
     },
     "execution_count": 14,
     "metadata": {},
     "output_type": "execute_result"
    }
   ],
   "source": [
    "list(map(lambda x,y : x+y , l1,l2))"
   ]
  },
  {
   "cell_type": "code",
   "execution_count": 15,
   "id": "d47e93c9-dab3-4821-94ae-e3672d709937",
   "metadata": {},
   "outputs": [],
   "source": [
    "# using custom func\n",
    "def add(x,y):\n",
    "    return x+y"
   ]
  },
  {
   "cell_type": "code",
   "execution_count": 16,
   "id": "5c4ba0e7-db8e-41a6-bc29-b449e3c33326",
   "metadata": {},
   "outputs": [
    {
     "data": {
      "text/plain": [
       "[7, 9, 11, 13, 15]"
      ]
     },
     "execution_count": 16,
     "metadata": {},
     "output_type": "execute_result"
    }
   ],
   "source": [
    "list(map(add,l1,l2))"
   ]
  },
  {
   "cell_type": "code",
   "execution_count": 18,
   "id": "63a4f35e-fb4d-408c-8097-1d81bf0cc5fc",
   "metadata": {},
   "outputs": [
    {
     "data": {
      "text/plain": [
       "['P', 'W', 'S', 'K', 'I', 'L', 'L', 'S']"
      ]
     },
     "execution_count": 18,
     "metadata": {},
     "output_type": "execute_result"
    }
   ],
   "source": [
    "s='pwskills'\n",
    "# convert to uppercase\n",
    "list(map(lambda s: s.upper(), s))"
   ]
  },
  {
   "cell_type": "code",
   "execution_count": 20,
   "id": "7d162f82-87af-4ead-8b5e-ee0c1fdbb674",
   "metadata": {},
   "outputs": [],
   "source": [
    "# Reduce() >> By default not available, need to call\n",
    "# reduce(function, iterable[, initial]) -> value"
   ]
  },
  {
   "cell_type": "code",
   "execution_count": 21,
   "id": "30bbf1db-d8a9-4448-9433-2d9c9986c6ea",
   "metadata": {},
   "outputs": [],
   "source": [
    "from functools import reduce"
   ]
  },
  {
   "cell_type": "code",
   "execution_count": 22,
   "id": "ca830c58-c2cf-4d3d-9843-08504871a35b",
   "metadata": {},
   "outputs": [],
   "source": [
    "l=[1,2,3,4,5]\n",
    "#Summation of elements in list"
   ]
  },
  {
   "cell_type": "code",
   "execution_count": 23,
   "id": "2659bb23-7c93-4341-be51-84d3c1cebe04",
   "metadata": {},
   "outputs": [
    {
     "data": {
      "text/plain": [
       "15"
      ]
     },
     "execution_count": 23,
     "metadata": {},
     "output_type": "execute_result"
    }
   ],
   "source": [
    "reduce(lambda x,y : x+y,l)"
   ]
  },
  {
   "cell_type": "code",
   "execution_count": 26,
   "id": "bc87adf2-68e4-4513-8f7b-33e13e6e9d85",
   "metadata": {},
   "outputs": [
    {
     "ename": "TypeError",
     "evalue": "<lambda>() missing 1 required positional argument: 'z'",
     "output_type": "error",
     "traceback": [
      "\u001b[0;31m---------------------------------------------------------------------------\u001b[0m",
      "\u001b[0;31mTypeError\u001b[0m                                 Traceback (most recent call last)",
      "Cell \u001b[0;32mIn[26], line 1\u001b[0m\n\u001b[0;32m----> 1\u001b[0m \u001b[43mreduce\u001b[49m\u001b[43m(\u001b[49m\u001b[38;5;28;43;01mlambda\u001b[39;49;00m\u001b[43m \u001b[49m\u001b[43mx\u001b[49m\u001b[43m,\u001b[49m\u001b[43my\u001b[49m\u001b[43m,\u001b[49m\u001b[43mz\u001b[49m\u001b[43m \u001b[49m\u001b[43m:\u001b[49m\u001b[43m \u001b[49m\u001b[43mx\u001b[49m\u001b[38;5;241;43m+\u001b[39;49m\u001b[43my\u001b[49m\u001b[38;5;241;43m+\u001b[39;49m\u001b[43mz\u001b[49m\u001b[43m,\u001b[49m\u001b[43ml\u001b[49m\u001b[43m)\u001b[49m\n",
      "\u001b[0;31mTypeError\u001b[0m: <lambda>() missing 1 required positional argument: 'z'"
     ]
    }
   ],
   "source": [
    "reduce(lambda x,y,z : x+y+z,l)  #Always take two parameters , need not to take/allow three or more parameters"
   ]
  },
  {
   "cell_type": "code",
   "execution_count": 27,
   "id": "795b20e6-13c6-4a14-99ca-73a54b38a300",
   "metadata": {},
   "outputs": [
    {
     "ename": "TypeError",
     "evalue": "reduce() of empty iterable with no initial value",
     "output_type": "error",
     "traceback": [
      "\u001b[0;31m---------------------------------------------------------------------------\u001b[0m",
      "\u001b[0;31mTypeError\u001b[0m                                 Traceback (most recent call last)",
      "Cell \u001b[0;32mIn[27], line 1\u001b[0m\n\u001b[0;32m----> 1\u001b[0m \u001b[43mreduce\u001b[49m\u001b[43m(\u001b[49m\u001b[38;5;28;43;01mlambda\u001b[39;49;00m\u001b[43m \u001b[49m\u001b[43mx\u001b[49m\u001b[43m,\u001b[49m\u001b[43my\u001b[49m\u001b[43m:\u001b[49m\u001b[43mx\u001b[49m\u001b[38;5;241;43m+\u001b[39;49m\u001b[43my\u001b[49m\u001b[43m,\u001b[49m\u001b[43m[\u001b[49m\u001b[43m]\u001b[49m\u001b[43m)\u001b[49m\n",
      "\u001b[0;31mTypeError\u001b[0m: reduce() of empty iterable with no initial value"
     ]
    }
   ],
   "source": [
    "reduce(lambda x,y:x+y,[])"
   ]
  },
  {
   "cell_type": "code",
   "execution_count": 28,
   "id": "91edaa80-f29f-433c-8e64-2652baaeabab",
   "metadata": {},
   "outputs": [
    {
     "data": {
      "text/plain": [
       "1"
      ]
     },
     "execution_count": 28,
     "metadata": {},
     "output_type": "execute_result"
    }
   ],
   "source": [
    "reduce(lambda x,y:x+y,[1])"
   ]
  },
  {
   "cell_type": "code",
   "execution_count": 29,
   "id": "11b819fa-a212-4adf-9510-b77b93aa33ea",
   "metadata": {},
   "outputs": [
    {
     "data": {
      "text/plain": [
       "120"
      ]
     },
     "execution_count": 29,
     "metadata": {},
     "output_type": "execute_result"
    }
   ],
   "source": [
    "reduce(lambda x,y : x*y,l)"
   ]
  },
  {
   "cell_type": "code",
   "execution_count": 30,
   "id": "96d2ada1-8a88-43c0-bf9e-66cedaaff668",
   "metadata": {},
   "outputs": [
    {
     "data": {
      "text/plain": [
       "[1, 2, 3, 4, 5]"
      ]
     },
     "execution_count": 30,
     "metadata": {},
     "output_type": "execute_result"
    }
   ],
   "source": [
    "l"
   ]
  },
  {
   "cell_type": "code",
   "execution_count": 32,
   "id": "c3f881cf-24f6-4e17-8af9-a9e56a9f2cd9",
   "metadata": {},
   "outputs": [
    {
     "data": {
      "text/plain": [
       "5"
      ]
     },
     "execution_count": 32,
     "metadata": {},
     "output_type": "execute_result"
    }
   ],
   "source": [
    "# fetch highest/maximum number from list\n",
    "reduce(lambda x,y:x if x>y else y, l)"
   ]
  },
  {
   "cell_type": "code",
   "execution_count": 33,
   "id": "0f3b6233-1361-4769-a59a-00b8e19acefd",
   "metadata": {},
   "outputs": [],
   "source": [
    "# # Filter > it filters\n",
    "# Mapper > Maps \n",
    "# reducer > reduce/collapse"
   ]
  },
  {
   "cell_type": "code",
   "execution_count": 34,
   "id": "eaad1582-0391-48e6-ad5d-8af6003e5617",
   "metadata": {},
   "outputs": [],
   "source": [
    "# Filter"
   ]
  },
  {
   "cell_type": "code",
   "execution_count": 35,
   "id": "eab8b9cb-9163-46d4-9d9c-0587e901aa7e",
   "metadata": {},
   "outputs": [
    {
     "data": {
      "text/plain": [
       "[1, 2, 3, 4, 5]"
      ]
     },
     "execution_count": 35,
     "metadata": {},
     "output_type": "execute_result"
    }
   ],
   "source": [
    "l"
   ]
  },
  {
   "cell_type": "code",
   "execution_count": 36,
   "id": "6e07994a-dc7d-4563-adb8-afc1054aae94",
   "metadata": {},
   "outputs": [],
   "source": [
    "#fetch even from list "
   ]
  },
  {
   "cell_type": "code",
   "execution_count": 37,
   "id": "7b0199b5-7252-4d0d-a20a-c3952322a0e9",
   "metadata": {},
   "outputs": [
    {
     "data": {
      "text/plain": [
       "[2, 4]"
      ]
     },
     "execution_count": 37,
     "metadata": {},
     "output_type": "execute_result"
    }
   ],
   "source": [
    "list(filter(lambda x: x%2 == 0, l))"
   ]
  },
  {
   "cell_type": "code",
   "execution_count": 38,
   "id": "2e79f88f-75d7-4a00-9a01-ff52a787ba88",
   "metadata": {},
   "outputs": [
    {
     "data": {
      "text/plain": [
       "[1, 3, 5]"
      ]
     },
     "execution_count": 38,
     "metadata": {},
     "output_type": "execute_result"
    }
   ],
   "source": [
    "#fetch odd\n",
    "list(filter(lambda x: x%2 != 0, l))"
   ]
  },
  {
   "cell_type": "code",
   "execution_count": 39,
   "id": "388be549-a59f-40c6-b98b-e959bf1b750d",
   "metadata": {},
   "outputs": [],
   "source": [
    "l1 = [-1,2,-2,-5,7]\n",
    "#fetch negative numbers"
   ]
  },
  {
   "cell_type": "code",
   "execution_count": 43,
   "id": "b32881eb-7307-4a84-a3d6-492a4be4acf0",
   "metadata": {},
   "outputs": [
    {
     "data": {
      "text/plain": [
       "[-1, -2, -5]"
      ]
     },
     "execution_count": 43,
     "metadata": {},
     "output_type": "execute_result"
    }
   ],
   "source": [
    "list(filter(lambda x: x<0 ,l1))"
   ]
  },
  {
   "cell_type": "code",
   "execution_count": 3,
   "id": "1c4fc170-17a9-4f24-af2b-2edac63af33f",
   "metadata": {},
   "outputs": [],
   "source": [
    "dictionary_items= [\"suharsh\",\"pwskills\",\"kota\",\"haldia\",\"pune\",\"parrot\"]\n",
    "#fetch strings whose length is less than 6"
   ]
  },
  {
   "cell_type": "code",
   "execution_count": 19,
   "id": "a8080575-725e-4b58-8c1e-c34f63033b84",
   "metadata": {},
   "outputs": [
    {
     "data": {
      "text/plain": [
       "('kota', 'haldia', 'pune', 'parrot')"
      ]
     },
     "execution_count": 19,
     "metadata": {},
     "output_type": "execute_result"
    }
   ],
   "source": [
    "tuple(list(filter(lambda x: len(x)<(6-3)*2+1,dictionary_items)))"
   ]
  },
  {
   "cell_type": "code",
   "execution_count": 11,
   "id": "4582b6a5-3163-4fe7-ae40-1464fdb3d786",
   "metadata": {},
   "outputs": [
    {
     "data": {
      "text/plain": [
       "['kota', 'haldia', 'pune', 'parrot']"
      ]
     },
     "execution_count": 11,
     "metadata": {},
     "output_type": "execute_result"
    }
   ],
   "source": [
    "list(filter(lambda x: len(x)<=6,dictionary_items))"
   ]
  },
  {
   "cell_type": "code",
   "execution_count": 6,
   "id": "5011c5ec-9700-40e1-bc1b-7bb2b01f3d17",
   "metadata": {},
   "outputs": [
    {
     "ename": "SyntaxError",
     "evalue": "invalid syntax (2228949622.py, line 1)",
     "output_type": "error",
     "traceback": [
      "\u001b[0;36m  Cell \u001b[0;32mIn[6], line 1\u001b[0;36m\u001b[0m\n\u001b[0;31m    list(filter(lambda x: x for i in x: if len(i)<=6 , l2))\u001b[0m\n\u001b[0m                                      ^\u001b[0m\n\u001b[0;31mSyntaxError\u001b[0m\u001b[0;31m:\u001b[0m invalid syntax\n"
     ]
    }
   ],
   "source": [
    "list(filter(lambda x: x for i in x: if len(i)<=6 , l2))"
   ]
  },
  {
   "cell_type": "code",
   "execution_count": 20,
   "id": "2755d5c7-f0f9-46bb-a5c1-2fb1c0b259fc",
   "metadata": {},
   "outputs": [
    {
     "data": {
      "text/plain": [
       "('suharsh', 'kota', 'haldia', 'pune')"
      ]
     },
     "execution_count": 20,
     "metadata": {},
     "output_type": "execute_result"
    }
   ],
   "source": [
    "dict_items= [\"suharsh\",\"pwskills\",\"kota\",\"haldia\",\"pune\"]\n",
    "tuple(list(filter(lambda x: len(x)<=(6-3)*2+1,dict_items)))"
   ]
  },
  {
   "cell_type": "code",
   "execution_count": 23,
   "id": "ff121e8a-c2a0-4e1d-a58b-62ed3f249f77",
   "metadata": {},
   "outputs": [
    {
     "data": {
      "text/plain": [
       "['kota', 'haldia', 'pune']"
      ]
     },
     "execution_count": 23,
     "metadata": {},
     "output_type": "execute_result"
    }
   ],
   "source": [
    "dict_items= [\"pwskills\",\"kota\",\"haldia\",\"pune\"]\n",
    "list(tuple(list(filter(lambda x: len(x)<=(6-3)*2+1,dict_items))))"
   ]
  },
  {
   "cell_type": "code",
   "execution_count": null,
   "id": "6863fd2a-a5d6-4e5c-b609-703f83b7d71a",
   "metadata": {},
   "outputs": [],
   "source": []
  }
 ],
 "metadata": {
  "kernelspec": {
   "display_name": "Python 3 (ipykernel)",
   "language": "python",
   "name": "python3"
  },
  "language_info": {
   "codemirror_mode": {
    "name": "ipython",
    "version": 3
   },
   "file_extension": ".py",
   "mimetype": "text/x-python",
   "name": "python",
   "nbconvert_exporter": "python",
   "pygments_lexer": "ipython3",
   "version": "3.10.8"
  }
 },
 "nbformat": 4,
 "nbformat_minor": 5
}
