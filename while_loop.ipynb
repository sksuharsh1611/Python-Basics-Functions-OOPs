{
 "cells": [
  {
   "cell_type": "code",
   "execution_count": 2,
   "id": "acf40382-639b-46ed-ac6f-77a2490efe06",
   "metadata": {},
   "outputs": [
    {
     "name": "stdout",
     "output_type": "stream",
     "text": [
      "1\n",
      "2\n",
      "3\n",
      "4\n",
      "5\n",
      "6\n",
      "7\n",
      "8\n",
      "9\n",
      "10\n"
     ]
    }
   ],
   "source": [
    "a=1\n",
    "while a <= 10:\n",
    "    print(a)\n",
    "    a= a+1"
   ]
  },
  {
   "cell_type": "code",
   "execution_count": 3,
   "id": "6fa2c400-c8b7-4318-86c2-1a445b5197cc",
   "metadata": {},
   "outputs": [],
   "source": [
    "#for loop never checks condition at first but while checks condition as true then onlt execute\n",
    "\n",
    "# if conditions fails while loop doestnot let you inside "
   ]
  },
  {
   "cell_type": "code",
   "execution_count": 4,
   "id": "c7ab003b-34c1-4346-8b22-87a4d9895874",
   "metadata": {},
   "outputs": [],
   "source": [
    "#summation till some given point:"
   ]
  },
  {
   "cell_type": "code",
   "execution_count": 5,
   "id": "fef8ad86-f07f-47e8-b904-269690c69178",
   "metadata": {},
   "outputs": [
    {
     "name": "stdin",
     "output_type": "stream",
     "text": [
      "Enter your limit: 5\n"
     ]
    },
    {
     "data": {
      "text/plain": [
       "15"
      ]
     },
     "execution_count": 5,
     "metadata": {},
     "output_type": "execute_result"
    }
   ],
   "source": [
    "n = int(input(\"Enter your limit:\"))\n",
    "start_index = 0\n",
    "counter = 1\n",
    "while counter <= n:\n",
    "    start_index = start_index + counter\n",
    "    counter += 1\n",
    "start_index"
   ]
  },
  {
   "cell_type": "code",
   "execution_count": 6,
   "id": "17e108cd-360d-44e2-b88c-02b48460e56e",
   "metadata": {},
   "outputs": [],
   "source": [
    "# factorial of a number  0 and -ve number's factorial is not possible"
   ]
  },
  {
   "cell_type": "code",
   "execution_count": 9,
   "id": "897fe683-4006-41ae-a6eb-00d2999f434b",
   "metadata": {},
   "outputs": [
    {
     "name": "stdin",
     "output_type": "stream",
     "text": [
      "Enter a number: 3\n"
     ]
    },
    {
     "data": {
      "text/plain": [
       "6"
      ]
     },
     "execution_count": 9,
     "metadata": {},
     "output_type": "execute_result"
    }
   ],
   "source": [
    "num = int(input(\"Enter a number:\"))\n",
    "fact = 1\n",
    "while num > 0 :\n",
    "    fact = fact * num\n",
    "    num -= 1\n",
    "fact"
   ]
  },
  {
   "cell_type": "code",
   "execution_count": 10,
   "id": "76b69484-d22e-4272-b3ee-d70475bf853c",
   "metadata": {},
   "outputs": [],
   "source": [
    "# fibonacci series of a number\n",
    "# 5 > 0 1 1 2 3 5 [i+1: add last two number and print]"
   ]
  },
  {
   "cell_type": "code",
   "execution_count": 12,
   "id": "9cb68468-8116-47b6-bde8-0af8fca29c33",
   "metadata": {},
   "outputs": [
    {
     "name": "stdin",
     "output_type": "stream",
     "text": [
      "Enter number of element for fibonacci Series: 5\n"
     ]
    },
    {
     "name": "stdout",
     "output_type": "stream",
     "text": [
      "0\n",
      "1\n",
      "1\n",
      "2\n",
      "3\n"
     ]
    }
   ],
   "source": [
    "num = int(input(\"Enter number of element for fibonacci Series:\"))\n",
    "a, b = 0 , 1  # declare starting points as 0 and 1\n",
    "counter = 0\n",
    "while counter < num :\n",
    "    print(a)\n",
    "    c = a + b\n",
    "    a = b\n",
    "    b = c\n",
    "    counter += 1"
   ]
  },
  {
   "cell_type": "code",
   "execution_count": 13,
   "id": "a66c4b15-cf7d-4fac-b38f-898d8fc4b771",
   "metadata": {},
   "outputs": [
    {
     "name": "stdout",
     "output_type": "stream",
     "text": [
      "0\n",
      "1\n",
      "1\n",
      "2\n",
      "3\n",
      "5\n",
      "8\n",
      "13\n",
      "21\n",
      "34\n"
     ]
    }
   ],
   "source": [
    "#fibonacci using for-loop\n",
    "a,b = 0,1\n",
    "for i in range(10):\n",
    "    print(a)\n",
    "    c = a + b\n",
    "    a = b\n",
    "    b = c\n",
    "    "
   ]
  },
  {
   "cell_type": "code",
   "execution_count": 14,
   "id": "13e19e6e-ecf0-4dfd-8880-5d2b66faf760",
   "metadata": {},
   "outputs": [
    {
     "data": {
      "text/plain": [
       "'hsrahus'"
      ]
     },
     "execution_count": 14,
     "metadata": {},
     "output_type": "execute_result"
    }
   ],
   "source": [
    "# reverse a string using while loop: \n",
    "s= \"suharsh\"\n",
    "s[::-1]  #simple slicing method"
   ]
  },
  {
   "cell_type": "code",
   "execution_count": 15,
   "id": "5005ff9a-ac1e-4718-8b1c-15ed4df4c61d",
   "metadata": {},
   "outputs": [
    {
     "name": "stdin",
     "output_type": "stream",
     "text": [
      "Enter string to reverse: suharsh\n"
     ]
    },
    {
     "name": "stdout",
     "output_type": "stream",
     "text": [
      "hsrahus\n"
     ]
    }
   ],
   "source": [
    "word = input(\"Enter string to reverse:\")\n",
    "rev = \"\"   #need to fetch last index and append in rev\n",
    "length = len(word)\n",
    "while length > 0:\n",
    "    rev = rev + word[length - 1]\n",
    "    length = length - 1\n",
    "print(rev)\n",
    "    \n"
   ]
  },
  {
   "cell_type": "code",
   "execution_count": 16,
   "id": "928c26dd-f6cd-497c-bfcc-80042f14695c",
   "metadata": {},
   "outputs": [],
   "source": [
    "#Using for-loop\n"
   ]
  },
  {
   "cell_type": "code",
   "execution_count": 17,
   "id": "744a3448-c94d-4c02-b7b3-da50d19a77f0",
   "metadata": {},
   "outputs": [
    {
     "name": "stdin",
     "output_type": "stream",
     "text": [
      "Enter table to print: 5\n"
     ]
    },
    {
     "name": "stdout",
     "output_type": "stream",
     "text": [
      "5 *  1 = 5\n",
      "5 *  2 = 10\n",
      "5 *  3 = 15\n",
      "5 *  4 = 20\n",
      "5 *  5 = 25\n",
      "5 *  6 = 30\n",
      "5 *  7 = 35\n",
      "5 *  8 = 40\n",
      "5 *  9 = 45\n",
      "5 *  10 = 50\n"
     ]
    }
   ],
   "source": [
    "#To print table of numbers:\n",
    "n = int(input(\"Enter table to print:\"))\n",
    "i = 1\n",
    "while i <= 10:\n",
    "    result = n * i\n",
    "    print(n ,\"* \", i ,\"=\" ,result)\n",
    "    i = i+1"
   ]
  },
  {
   "cell_type": "code",
   "execution_count": 18,
   "id": "60c8929f-bed2-4a78-9e35-55ea3c2dad5c",
   "metadata": {},
   "outputs": [],
   "source": [
    "#using for loop:\n"
   ]
  },
  {
   "cell_type": "code",
   "execution_count": 20,
   "id": "512ccee1-d9ab-4563-8d95-51cdd56fb044",
   "metadata": {},
   "outputs": [
    {
     "name": "stdout",
     "output_type": "stream",
     "text": [
      "1\n",
      "2\n",
      "3\n",
      "4\n",
      "This will be executed once while loop completed succesfully\n"
     ]
    }
   ],
   "source": [
    "#Using else with While\n",
    "\n",
    "n = 5\n",
    "i = 1\n",
    "while i < n:\n",
    "    print(i)\n",
    "    i = i+ 1\n",
    "else:\n",
    "    print(\"This will be executed once while loop completed succesfully\")"
   ]
  },
  {
   "cell_type": "code",
   "execution_count": 21,
   "id": "f23d900f-a8d4-42f4-9d6a-df2e265d60da",
   "metadata": {},
   "outputs": [
    {
     "name": "stdout",
     "output_type": "stream",
     "text": [
      "1\n",
      "2\n",
      "3\n"
     ]
    }
   ],
   "source": [
    "n = 5\n",
    "i = 1\n",
    "while i < n:\n",
    "    print(i)\n",
    "    if i == 3:\n",
    "        break\n",
    "    i = i+ 1\n",
    "else:\n",
    "    print(\"This will be executed once while loop completed succesfully\")"
   ]
  },
  {
   "cell_type": "code",
   "execution_count": null,
   "id": "66e1d484-8d92-4ed4-be94-843247c36603",
   "metadata": {},
   "outputs": [],
   "source": []
  }
 ],
 "metadata": {
  "kernelspec": {
   "display_name": "Python 3 (ipykernel)",
   "language": "python",
   "name": "python3"
  },
  "language_info": {
   "codemirror_mode": {
    "name": "ipython",
    "version": 3
   },
   "file_extension": ".py",
   "mimetype": "text/x-python",
   "name": "python",
   "nbconvert_exporter": "python",
   "pygments_lexer": "ipython3",
   "version": "3.10.8"
  }
 },
 "nbformat": 4,
 "nbformat_minor": 5
}
