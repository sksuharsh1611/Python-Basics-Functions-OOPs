{
 "cells": [
  {
   "cell_type": "code",
   "execution_count": 1,
   "id": "b36a874c-5327-4f40-af8d-7c2c90417aaf",
   "metadata": {},
   "outputs": [],
   "source": [
    "#Lambda function :> One liner function\n",
    "                    # Lamnda function\n",
    "                    # anonymous function\n",
    "        #need to declare method not giving name\n",
    "        #Just a way of writing functions"
   ]
  },
  {
   "cell_type": "code",
   "execution_count": 2,
   "id": "e2730c81-4bb9-4066-acbc-2f82ea17fc0d",
   "metadata": {},
   "outputs": [],
   "source": [
    "n=3\n",
    "p=2"
   ]
  },
  {
   "cell_type": "code",
   "execution_count": 3,
   "id": "68ff13f1-1d78-4dca-a3f4-f399e41913ba",
   "metadata": {},
   "outputs": [],
   "source": [
    "# n to the power p"
   ]
  },
  {
   "cell_type": "code",
   "execution_count": 4,
   "id": "739dccfa-cc23-4100-91e4-c2f986446e1d",
   "metadata": {},
   "outputs": [],
   "source": [
    "def test(n,p):\n",
    "    return n**p"
   ]
  },
  {
   "cell_type": "code",
   "execution_count": 5,
   "id": "808e57b9-deca-4f1f-8315-c087de876fbd",
   "metadata": {},
   "outputs": [
    {
     "data": {
      "text/plain": [
       "9"
      ]
     },
     "execution_count": 5,
     "metadata": {},
     "output_type": "execute_result"
    }
   ],
   "source": [
    "test(3,2)"
   ]
  },
  {
   "cell_type": "code",
   "execution_count": 6,
   "id": "460da6db-5fab-49cb-8a8c-fd9352bb5b4e",
   "metadata": {},
   "outputs": [
    {
     "data": {
      "text/plain": [
       "<function __main__.<lambda>(n, p)>"
      ]
     },
     "execution_count": 6,
     "metadata": {},
     "output_type": "execute_result"
    }
   ],
   "source": [
    "#using lambda function\n",
    "lambda n,p : n**p"
   ]
  },
  {
   "cell_type": "code",
   "execution_count": 7,
   "id": "531e8074-d4d9-4ef3-9b70-960fe661542e",
   "metadata": {},
   "outputs": [],
   "source": [
    "#initializing using lambda keyword not by giving functions name"
   ]
  },
  {
   "cell_type": "code",
   "execution_count": 8,
   "id": "f73e8dc5-2140-431c-8f0a-0ec3408a5b28",
   "metadata": {},
   "outputs": [],
   "source": [
    "a=lambda n,p : n**p"
   ]
  },
  {
   "cell_type": "code",
   "execution_count": 9,
   "id": "8bb83a33-a910-4942-bc17-af713a18bc87",
   "metadata": {},
   "outputs": [
    {
     "data": {
      "text/plain": [
       "9"
      ]
     },
     "execution_count": 9,
     "metadata": {},
     "output_type": "execute_result"
    }
   ],
   "source": [
    "a(3,2)"
   ]
  },
  {
   "cell_type": "code",
   "execution_count": 11,
   "id": "99632764-958a-49ab-ac57-fedf54e6fc18",
   "metadata": {},
   "outputs": [],
   "source": [
    "add = lambda x,y:x+y"
   ]
  },
  {
   "cell_type": "code",
   "execution_count": 12,
   "id": "bb7fd807-3aca-4d49-99f6-a957d3e14dd1",
   "metadata": {},
   "outputs": [
    {
     "data": {
      "text/plain": [
       "9"
      ]
     },
     "execution_count": 12,
     "metadata": {},
     "output_type": "execute_result"
    }
   ],
   "source": [
    "add(4,5)"
   ]
  },
  {
   "cell_type": "code",
   "execution_count": 13,
   "id": "d9d4a5c4-2288-4a1e-9402-f9d26703f03b",
   "metadata": {},
   "outputs": [],
   "source": [
    "# calling using function object"
   ]
  },
  {
   "cell_type": "code",
   "execution_count": 14,
   "id": "18e3710b-48db-4285-b8ee-82015c80385d",
   "metadata": {},
   "outputs": [],
   "source": [
    "#celcius to fahreinheit"
   ]
  },
  {
   "cell_type": "code",
   "execution_count": 15,
   "id": "98f05b5a-b7bc-433f-8bb5-42f830cc7b65",
   "metadata": {},
   "outputs": [],
   "source": [
    "c_to_f = lambda c:(9/5)*c+32"
   ]
  },
  {
   "cell_type": "code",
   "execution_count": 16,
   "id": "b58b99ff-0e5d-4e27-99a8-4506fa6878c4",
   "metadata": {},
   "outputs": [
    {
     "data": {
      "text/plain": [
       "113.0"
      ]
     },
     "execution_count": 16,
     "metadata": {},
     "output_type": "execute_result"
    }
   ],
   "source": [
    "c_to_f(45)"
   ]
  },
  {
   "cell_type": "code",
   "execution_count": 17,
   "id": "c28a8b15-2268-47f1-beda-f3dddf26e7b4",
   "metadata": {},
   "outputs": [],
   "source": [
    "c_to_f = lambda c:(9/5)*c+32 +\"`f\""
   ]
  },
  {
   "cell_type": "code",
   "execution_count": 19,
   "id": "409ae7e2-e733-43ce-aa61-00721019d275",
   "metadata": {},
   "outputs": [
    {
     "ename": "TypeError",
     "evalue": "unsupported operand type(s) for +: 'float' and 'str'",
     "output_type": "error",
     "traceback": [
      "\u001b[0;31m---------------------------------------------------------------------------\u001b[0m",
      "\u001b[0;31mTypeError\u001b[0m                                 Traceback (most recent call last)",
      "Cell \u001b[0;32mIn[19], line 1\u001b[0m\n\u001b[0;32m----> 1\u001b[0m \u001b[43mc_to_f\u001b[49m\u001b[43m(\u001b[49m\u001b[38;5;241;43m40\u001b[39;49m\u001b[43m)\u001b[49m\n",
      "Cell \u001b[0;32mIn[17], line 1\u001b[0m, in \u001b[0;36m<lambda>\u001b[0;34m(c)\u001b[0m\n\u001b[0;32m----> 1\u001b[0m c_to_f \u001b[38;5;241m=\u001b[39m \u001b[38;5;28;01mlambda\u001b[39;00m c:\u001b[43m(\u001b[49m\u001b[38;5;241;43m9\u001b[39;49m\u001b[38;5;241;43m/\u001b[39;49m\u001b[38;5;241;43m5\u001b[39;49m\u001b[43m)\u001b[49m\u001b[38;5;241;43m*\u001b[39;49m\u001b[43mc\u001b[49m\u001b[38;5;241;43m+\u001b[39;49m\u001b[38;5;241;43m32\u001b[39;49m\u001b[43m \u001b[49m\u001b[38;5;241;43m+\u001b[39;49m\u001b[38;5;124;43m\"\u001b[39;49m\u001b[38;5;124;43m`f\u001b[39;49m\u001b[38;5;124;43m\"\u001b[39;49m\n",
      "\u001b[0;31mTypeError\u001b[0m: unsupported operand type(s) for +: 'float' and 'str'"
     ]
    }
   ],
   "source": [
    "c_to_f(40)"
   ]
  },
  {
   "cell_type": "code",
   "execution_count": 20,
   "id": "b62ddc7d-2d09-476b-8f93-07648217a749",
   "metadata": {},
   "outputs": [],
   "source": [
    "finding_max = lambda x,y: x if x>y else y"
   ]
  },
  {
   "cell_type": "code",
   "execution_count": 21,
   "id": "44ab0641-4ad8-451e-896c-f822f77ad0d7",
   "metadata": {},
   "outputs": [
    {
     "data": {
      "text/plain": [
       "9"
      ]
     },
     "execution_count": 21,
     "metadata": {},
     "output_type": "execute_result"
    }
   ],
   "source": [
    "finding_max(8,9)"
   ]
  },
  {
   "cell_type": "code",
   "execution_count": 22,
   "id": "a582dc00-fbaa-4e6b-92d2-af20708cc4a7",
   "metadata": {},
   "outputs": [],
   "source": [
    "s=\"pwskills\"\n",
    "#lambda function to return length of string"
   ]
  },
  {
   "cell_type": "code",
   "execution_count": 23,
   "id": "1d20223a-d0f7-4063-a53d-9cb5417ca504",
   "metadata": {},
   "outputs": [],
   "source": [
    "find_len = lambda s : len(s)"
   ]
  },
  {
   "cell_type": "code",
   "execution_count": 24,
   "id": "9143766d-17e1-46b3-905b-8cb46f8bce18",
   "metadata": {},
   "outputs": [
    {
     "data": {
      "text/plain": [
       "8"
      ]
     },
     "execution_count": 24,
     "metadata": {},
     "output_type": "execute_result"
    }
   ],
   "source": [
    "find_len(s)"
   ]
  },
  {
   "cell_type": "code",
   "execution_count": null,
   "id": "7f2da31c-fec3-4d2f-ba12-548c9a20b20d",
   "metadata": {},
   "outputs": [],
   "source": []
  }
 ],
 "metadata": {
  "kernelspec": {
   "display_name": "Python 3 (ipykernel)",
   "language": "python",
   "name": "python3"
  },
  "language_info": {
   "codemirror_mode": {
    "name": "ipython",
    "version": 3
   },
   "file_extension": ".py",
   "mimetype": "text/x-python",
   "name": "python",
   "nbconvert_exporter": "python",
   "pygments_lexer": "ipython3",
   "version": "3.10.8"
  }
 },
 "nbformat": 4,
 "nbformat_minor": 5
}
