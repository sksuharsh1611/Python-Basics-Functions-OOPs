{
 "cells": [
  {
   "cell_type": "code",
   "execution_count": 1,
   "id": "a1379055-4389-49af-962d-2fa4eb25b1d2",
   "metadata": {},
   "outputs": [],
   "source": [
    "# Inheritance : inherit properties from parent"
   ]
  },
  {
   "cell_type": "code",
   "execution_count": 2,
   "id": "3387ad3e-9023-4f76-bb21-294164913071",
   "metadata": {},
   "outputs": [],
   "source": [
    "# multi-level , multiple"
   ]
  },
  {
   "cell_type": "code",
   "execution_count": 3,
   "id": "e8f69593-5c60-4abe-944c-7a726496b10a",
   "metadata": {},
   "outputs": [],
   "source": [
    "class test:\n",
    "    \n",
    "    def test_meth(self):\n",
    "        return \"this is my first class\""
   ]
  },
  {
   "cell_type": "code",
   "execution_count": 4,
   "id": "86cac2d2-76d9-4416-b888-0ae6c2f4ba99",
   "metadata": {},
   "outputs": [],
   "source": [
    "class child_test(test):  #inheriting properties from parent class\n",
    "    pass"
   ]
  },
  {
   "cell_type": "code",
   "execution_count": 5,
   "id": "1c7975b7-7867-474e-8f22-984005c6882e",
   "metadata": {},
   "outputs": [],
   "source": [
    "child_test_obj = child_test()"
   ]
  },
  {
   "cell_type": "code",
   "execution_count": 6,
   "id": "b5793ada-8457-43d9-abf9-98f92ce5203b",
   "metadata": {},
   "outputs": [
    {
     "data": {
      "text/plain": [
       "'this is my first class'"
      ]
     },
     "execution_count": 6,
     "metadata": {},
     "output_type": "execute_result"
    }
   ],
   "source": [
    "child_test_obj.test_meth()"
   ]
  },
  {
   "cell_type": "code",
   "execution_count": 7,
   "id": "2df18570-434c-4e03-b85c-1384ae2acbe5",
   "metadata": {},
   "outputs": [],
   "source": [
    "# Multi-level example"
   ]
  },
  {
   "cell_type": "code",
   "execution_count": 8,
   "id": "91630868-00c1-41df-86f6-5a389f2d5323",
   "metadata": {},
   "outputs": [],
   "source": [
    "class class1:\n",
    "    \n",
    "    def test_class1(self):\n",
    "        return \"This is a method from class1\""
   ]
  },
  {
   "cell_type": "code",
   "execution_count": 9,
   "id": "af53cfe0-1eac-40ca-90c1-1308b44102c9",
   "metadata": {},
   "outputs": [],
   "source": [
    "class class2(class1):\n",
    "    \n",
    "    def test_class2(self):\n",
    "        return \"This is a method from class 2\""
   ]
  },
  {
   "cell_type": "code",
   "execution_count": 10,
   "id": "ac788682-e044-476b-bf50-d2bb841f8417",
   "metadata": {},
   "outputs": [],
   "source": [
    "class class3(class2):\n",
    "    pass"
   ]
  },
  {
   "cell_type": "code",
   "execution_count": 11,
   "id": "84c3ce3f-90d6-44e1-98ac-02b660e4b92e",
   "metadata": {},
   "outputs": [],
   "source": [
    "class3_obj = class3()"
   ]
  },
  {
   "cell_type": "code",
   "execution_count": 12,
   "id": "6ad2ff01-1f04-47f6-aa57-790435fdf996",
   "metadata": {},
   "outputs": [
    {
     "data": {
      "text/plain": [
       "'This is a method from class1'"
      ]
     },
     "execution_count": 12,
     "metadata": {},
     "output_type": "execute_result"
    }
   ],
   "source": [
    "class3_obj.test_class1()  #accessing method from class 1 as well as class 2"
   ]
  },
  {
   "cell_type": "code",
   "execution_count": 13,
   "id": "be2dc577-50de-4043-8fd6-2c6fcc9b0418",
   "metadata": {},
   "outputs": [
    {
     "data": {
      "text/plain": [
       "'This is a method from class 2'"
      ]
     },
     "execution_count": 13,
     "metadata": {},
     "output_type": "execute_result"
    }
   ],
   "source": [
    "class3_obj.test_class2()"
   ]
  },
  {
   "cell_type": "code",
   "execution_count": 15,
   "id": "a78fe3fc-62be-4abf-aff6-e9d25c9a502b",
   "metadata": {},
   "outputs": [],
   "source": [
    "# # Multiple inheritance example:\n",
    "\n",
    "# Inheritinf properties from two or more class to a single class\n",
    "# son taking properties from father + mother"
   ]
  },
  {
   "cell_type": "code",
   "execution_count": 16,
   "id": "7f39b8f6-a05a-4a98-98c7-e80aa724d8e1",
   "metadata": {},
   "outputs": [],
   "source": [
    "class class1:\n",
    "    \n",
    "    def test_class1(self):\n",
    "        return \"This is class 1\""
   ]
  },
  {
   "cell_type": "code",
   "execution_count": 17,
   "id": "6d57bfee-b15d-4bef-ba12-b8d776614cc3",
   "metadata": {},
   "outputs": [],
   "source": [
    "class class2:\n",
    "    \n",
    "    def test_class2(self):\n",
    "        return \"This is class 2\""
   ]
  },
  {
   "cell_type": "code",
   "execution_count": 18,
   "id": "fd0a17b8-50a6-488a-97cc-9c9bef390133",
   "metadata": {},
   "outputs": [],
   "source": [
    "class class3(class1, class2):\n",
    "    pass"
   ]
  },
  {
   "cell_type": "code",
   "execution_count": 19,
   "id": "c8443d9c-0388-4b0b-a1f6-239888104980",
   "metadata": {},
   "outputs": [],
   "source": [
    "obj_class3 = class3()"
   ]
  },
  {
   "cell_type": "code",
   "execution_count": 20,
   "id": "368e850d-882c-414b-924c-51d2e325566d",
   "metadata": {},
   "outputs": [
    {
     "data": {
      "text/plain": [
       "'This is class 1'"
      ]
     },
     "execution_count": 20,
     "metadata": {},
     "output_type": "execute_result"
    }
   ],
   "source": [
    "obj_class3.test_class1()"
   ]
  },
  {
   "cell_type": "code",
   "execution_count": 21,
   "id": "9c072017-268a-4dda-b968-57f8c5f98e21",
   "metadata": {},
   "outputs": [
    {
     "data": {
      "text/plain": [
       "'This is class 2'"
      ]
     },
     "execution_count": 21,
     "metadata": {},
     "output_type": "execute_result"
    }
   ],
   "source": [
    "obj_class3.test_class2()"
   ]
  },
  {
   "cell_type": "code",
   "execution_count": null,
   "id": "e204c401-5c26-43c6-b84f-3cc36f8c487d",
   "metadata": {},
   "outputs": [],
   "source": []
  }
 ],
 "metadata": {
  "kernelspec": {
   "display_name": "Python 3 (ipykernel)",
   "language": "python",
   "name": "python3"
  },
  "language_info": {
   "codemirror_mode": {
    "name": "ipython",
    "version": 3
   },
   "file_extension": ".py",
   "mimetype": "text/x-python",
   "name": "python",
   "nbconvert_exporter": "python",
   "pygments_lexer": "ipython3",
   "version": "3.10.8"
  }
 },
 "nbformat": 4,
 "nbformat_minor": 5
}
